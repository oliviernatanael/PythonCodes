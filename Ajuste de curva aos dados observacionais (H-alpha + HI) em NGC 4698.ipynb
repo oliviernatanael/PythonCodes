{
 "cells": [
  {
   "cell_type": "markdown",
   "id": "fd997bf1",
   "metadata": {},
   "source": [
    "# Ajuste de curva aos dados observacionais (H-alpha + HI) em NGC 4698"
   ]
  },
  {
   "cell_type": "code",
   "execution_count": 1,
   "id": "7f63799f",
   "metadata": {},
   "outputs": [],
   "source": [
    "import matplotlib.pyplot as plt\n",
    "from scipy.optimize import curve_fit\n",
    "import numpy as np\n",
    "import plotly.graph_objs as go\n",
    "from numpy import arange\n",
    "from scipy.optimize import curve_fit\n",
    "from matplotlib import pyplot"
   ]
  },
  {
   "cell_type": "markdown",
   "id": "56df3aef",
   "metadata": {},
   "source": [
    "$$(M_{3.6\\,\\mu m} - M_{4.5\\,\\mu m})_{Bojo}=(M_{3.6\\,\\mu m} - M_{4.5\\,\\mu m})_{NGC\\,4698}$$\n",
    "$$(10.8527-M_{4.5\\,\\mu m})_{Bojo}=[-21.693-(-21.205)]_{NGC\\,4698}$$\n",
    "$$(10.8527-M_{4.5\\,\\mu m})_{Bojo}=(-0.488)_{NGC\\,4698}$$\n",
    "$$(M_{4.5\\,\\mu m})_{Bojo}=11.3407$$"
   ]
  },
  {
   "cell_type": "code",
   "execution_count": 2,
   "id": "e1db7cc7",
   "metadata": {},
   "outputs": [],
   "source": [
    "# ra = np.array([0.2533,0.53,0.81,1.5,2.45,3.75,4.65,6.12])\n",
    "\n",
    "# ve = np.array([22.18,91.06,148.8,150.3,182.98,200.8,208.5,223.8])"
   ]
  },
  {
   "cell_type": "code",
   "execution_count": 3,
   "id": "cae802ac",
   "metadata": {},
   "outputs": [],
   "source": [
    "# Gás se aproximando\n",
    "\n",
    "radius = np.array([0.2533,0.53,0.81,1.5,2.45,3.75,4.65,   6.47,  7.88143963,\n",
    "        8.72587959,  9.57031955, 10.41475951, 11.25919947, 12.10363943,\n",
    "       12.94807939, 13.79251935, 14.63695931, 15.48139927, 16.32583923,\n",
    "       17.17027919, 18.01471915, 18.85915911, 19.70359907, 20.54803903,\n",
    "       21.39247899, 22.23691895, 23.08135891, 23.92579886, 24.77023882,\n",
    "       25.61467878, 26.45911874, 27.3035587 , 28.14799866, 28.99243862,\n",
    "       29.83687858, 30.68131854, 31.5257585 , 32.37019846, 33.21463842,\n",
    "       34.05907838, 34.90351834, 35.7479583 , 36.59239826, 37.43683822,\n",
    "       38.28127818, 39.12571814, 39.9701581 ])\n",
    "\n",
    "velocity = np.array([  22.18,91.06,148.8,150.3,182.98,200.8,208.5,207,\n",
    "                     180.16201903, 187.35847012, 191.36304112,\n",
    "       195.13639669, 196.37216136, 198.32158546, 196.31266947,\n",
    "       201.42751252, 201.49357408, 201.36802063, 196.79505263,\n",
    "       196.42502277, 196.01533165, 199.20709008, 200.72042276,\n",
    "       199.80845702, 198.91632192, 198.73127657, 198.95598318,\n",
    "       197.87880273, 196.26643855, 196.39199199, 197.01318957,\n",
    "       196.23997743, 195.34784232, 196.82814423, 197.70044871,\n",
    "       198.23569327, 197.61449569, 198.55949221, 199.63004217,\n",
    "       202.22706413, 200.23797877, 199.82828765, 199.22035105,\n",
    "       200.51554679, 202.14117195, 203.62141303, 209.03365473])"
   ]
  },
  {
   "cell_type": "code",
   "execution_count": 4,
   "id": "7abf5178",
   "metadata": {},
   "outputs": [],
   "source": [
    "kpc = 3.086e+21 # conversão de [kpc] para [cm];\n",
    "massa_solar = 1.9889999e+33 # conversão de [massa solar] para [g];\n",
    "radius = radius * 3.086e+21 # passar de [kpc] para [cm], a fim de deixar as unidades no sistema cgs;\n",
    "velocity = velocity * 1e5 # passar de [km s⁻¹] para [cm s⁻¹];\n",
    "G = 6.67e-8 # constante gravitacional em [cm³ g⁻¹ s⁻²];\n",
    "diametropixel = 0.085993765 # em [kpc]"
   ]
  },
  {
   "cell_type": "code",
   "execution_count": 5,
   "id": "84e9deca",
   "metadata": {},
   "outputs": [],
   "source": [
    "# scale_radius_halo = (420.11903*2)*diametropixel # quantidade de pixels que correspondem ao raio halo multiplicada por 2,\n",
    "#                                         # vezes o diâmetro físico de cada pixel\n",
    "# print('O raio do halo é: ',scale_radius_halo,' kpc!') # em [kpc]"
   ]
  },
  {
   "cell_type": "code",
   "execution_count": 6,
   "id": "599eaffd",
   "metadata": {},
   "outputs": [
    {
     "name": "stdout",
     "output_type": "stream",
     "text": [
      "O scale-length do disco é:  3.0058346611865  kpc!\n"
     ]
    }
   ],
   "source": [
    "scale_disco_pixel = 34.9541\n",
    "scale_length_disco = (scale_disco_pixel)*diametropixel # valor tirado de S4G: https://irsa.ipac.caltech.edu/data/SPITZER/S4G/galaxies/NGC4698/P4/NGC4698_bd.outgal\n",
    "\n",
    "print('O scale-length do disco é: ',scale_length_disco,' kpc!') # em [kpc]"
   ]
  },
  {
   "cell_type": "code",
   "execution_count": 7,
   "id": "9fe04b3b",
   "metadata": {},
   "outputs": [
    {
     "name": "stdout",
     "output_type": "stream",
     "text": [
      "O raio do bojo é:  0.3449412252420588  kpc!\n"
     ]
    }
   ],
   "source": [
    "scale_length_bojo = (6.8191/1.7)*diametropixel # valor tirado de S4G: https://irsa.ipac.caltech.edu/data/SPITZER/S4G/galaxies/NGC4698/P4/NGC4698_bd.outgal\n",
    "                                                # tá dividido por 1.8153 porque o paper de Hernquist mostra essa relação entre o raio efetivo e o lengh-scale.\n",
    "\n",
    "print('O raio do bojo é: ',scale_length_bojo,' kpc!') # em [kpc]"
   ]
  },
  {
   "cell_type": "code",
   "execution_count": 18,
   "id": "f81d5952",
   "metadata": {},
   "outputs": [],
   "source": [
    "def fit_curve(radius,M_h,R_h):\n",
    "    G = 6.67e-8\n",
    "    a = scale_length_disco * kpc\n",
    "    R = radius\n",
    "    R_b = scale_length_bojo * kpc\n",
    "    M_b = 20470014091.042 * massa_solar\n",
    "    M_d = 23090731299.643 * massa_solar\n",
    "    \n",
    "    comp1 = ((G*M_b*R)/(R+R_b)**2)\n",
    "    comp2 = ((G*M_d*(R**2))/(((R**2)+(a**2))**(3/2)))\n",
    "    comp3 = (R*((2*G*M_h*(R+R_h)*np.log((R+R_h)/R_h)-2*G*M_h*R)/((R**2)*np.log(4)*R_h + \n",
    "                                                    (R**3)*np.log(4)-(R**2)*R_h-R**3)))\n",
    "    \n",
    "    return np.sqrt(comp1 + comp2 + comp3)"
   ]
  },
  {
   "cell_type": "code",
   "execution_count": 19,
   "id": "ba2e45e0",
   "metadata": {},
   "outputs": [],
   "source": [
    "a = scale_length_disco * kpc\n",
    "R = radius\n",
    "R_b = scale_length_bojo * kpc\n",
    "M_b = 20470014091.042 * massa_solar\n",
    "M_d = 23090731299.643 * massa_solar\n",
    "\n",
    "popt, pcov = curve_fit(fit_curve, radius, velocity, p0=[2e11*massa_solar,20*kpc])#, 1.1*kpc, 35*kpc])\n",
    "#                                                     bounds=((1e8*massa_solar, 1e10*massa_solar,\n",
    "#                                                              1e11*massa_solar, 0.2*kpc, 5*kpc),\n",
    "#                                                             (3e10*massa_solar, 3e11*massa_solar,\n",
    "#                                                              5e15*massa_solar, 4*kpc, 5000*kpc)))\n",
    "M_h,R_h = popt"
   ]
  },
  {
   "cell_type": "code",
   "execution_count": 20,
   "id": "51f73d5a",
   "metadata": {},
   "outputs": [
    {
     "name": "stdout",
     "output_type": "stream",
     "text": [
      "Massa do Bojo (log):    10.311\n",
      "Massa do Disco (log):   10.363\n",
      "\"Massa\" do Halo (log):  11.437\n",
      "Scale lenght do Bojo:   0.345 kpc\n",
      "Scale radius do Halo:   33.32 kpc\n",
      "Scale lenght do Disco:  3.006 kpc\n"
     ]
    }
   ],
   "source": [
    "print('Massa do Bojo (log):   ',round(np.log10(M_b/massa_solar),3))\n",
    "print('Massa do Disco (log):  ',round(np.log10(M_d/massa_solar),3))\n",
    "print('\"Massa\" do Halo (log): ',round(np.log10(M_h/massa_solar),3))\n",
    "print('Scale lenght do Bojo:  ',round((R_b/kpc),3), 'kpc')\n",
    "print('Scale radius do Halo:  ',round((R_h/kpc),2), 'kpc')\n",
    "print('Scale lenght do Disco: ',round((a/kpc),3), 'kpc')"
   ]
  },
  {
   "cell_type": "markdown",
   "id": "20879aae",
   "metadata": {},
   "source": [
    "Qual a diferença entre effective radius, scale radius e scale lenght?"
   ]
  },
  {
   "cell_type": "code",
   "execution_count": 21,
   "id": "55afc38c",
   "metadata": {},
   "outputs": [],
   "source": [
    "# Bojo de Hernquist\n",
    "bojo = np.sqrt((G*M_b*R)/(R+R_b)**2)\n",
    "\n",
    "# Disco de Kuzmin\n",
    "disk = np.sqrt((G*M_d*(R**2))/(((R**2)+(a**2))**(3/2)))\n",
    "\n",
    "# Halo de NFW\n",
    "halo = np.sqrt(R*((2*G*M_h*(R+R_h)*np.log((R+R_h)/R_h)-2*G*M_h*R)/((R**2)*np.log(4)*R_h + \n",
    "                                                    (R**3)*np.log(4)-(R**2)*R_h-R**3)))"
   ]
  },
  {
   "cell_type": "code",
   "execution_count": 22,
   "id": "57c2fd69",
   "metadata": {},
   "outputs": [],
   "source": [
    "velocidade_mw = []\n",
    "raios_mw = []\n",
    "for line in open('/home/natanael/Área de Trabalho/Iniciação Científica/Milky Way rotation curve.txt', 'r'):\n",
    "    values = [float(s) for s in line.split()]\n",
    "    velocidade_mw.append(values[1])\n",
    "    raios_mw.append(values[0])"
   ]
  },
  {
   "cell_type": "code",
   "execution_count": 23,
   "id": "fbff9b8b",
   "metadata": {},
   "outputs": [
    {
     "data": {
      "application/vnd.plotly.v1+json": {
       "config": {
        "plotlyServerURL": "https://plot.ly"
       },
       "data": [
        {
         "line": {
          "color": "black",
          "dash": "solid",
          "width": 0.7
         },
         "marker": {
          "color": "red",
          "size": 3,
          "symbol": "diamond"
         },
         "mode": "markers",
         "name": "H-alpha data (Rubin+99)",
         "type": "scatter",
         "x": [
          0.2533,
          0.53,
          0.81,
          1.5,
          2.45,
          3.75,
          4.65,
          6.469999999999999
         ],
         "y": [
          22.18,
          91.06,
          148.8,
          150.3,
          182.98,
          200.8,
          208.5,
          207
         ]
        },
        {
         "line": {
          "color": "black",
          "dash": "solid",
          "width": 0.7
         },
         "marker": {
          "color": "black",
          "size": 3,
          "symbol": "square"
         },
         "mode": "markers",
         "name": "HI data",
         "type": "scatter",
         "x": [
          7.88143963,
          8.72587959,
          9.57031955,
          10.41475951,
          11.25919947,
          12.10363943,
          12.948079389999998,
          13.79251935,
          14.63695931,
          15.481399269999999,
          16.32583923,
          17.17027919,
          18.01471915,
          18.85915911,
          19.70359907,
          20.54803903,
          21.39247899,
          22.23691895,
          23.08135891,
          23.92579886,
          24.770238819999996,
          25.61467878,
          26.45911874,
          27.3035587,
          28.14799866,
          28.99243862,
          29.836878580000004,
          30.68131854,
          31.5257585,
          32.37019846,
          33.21463842,
          34.05907838,
          34.90351834,
          35.7479583,
          36.59239826,
          37.43683822,
          38.28127818,
          39.12571814,
          39.9701581
         ],
         "y": [
          180.16201903,
          187.35847012,
          191.36304112,
          195.13639669,
          196.37216136,
          198.32158546,
          196.31266947,
          201.42751252,
          201.49357408,
          201.36802062999996,
          196.79505263000001,
          196.42502277,
          196.01533164999998,
          199.20709008,
          200.72042276000002,
          199.80845702,
          198.91632192000003,
          198.73127657,
          198.95598318,
          197.87880273,
          196.26643855,
          196.39199199,
          197.01318957,
          196.23997743,
          195.34784232,
          196.82814423,
          197.70044871,
          198.23569326999998,
          197.61449569,
          198.55949221,
          199.63004217,
          202.22706412999997,
          200.23797877,
          199.82828765,
          199.22035105,
          200.51554679,
          202.14117195,
          203.62141303000004,
          209.03365473000002
         ]
        },
        {
         "line": {
          "color": "black",
          "width": 0.8
         },
         "marker": {
          "color": "black",
          "size": 5,
          "symbol": "circle-dot"
         },
         "mode": "lines",
         "name": "Best fit",
         "type": "scatter",
         "x": [
          0.2533,
          0.53,
          0.81,
          1.5,
          2.45,
          3.75,
          4.65,
          6.469999999999999,
          7.88143963,
          8.72587959,
          9.57031955,
          10.41475951,
          11.25919947,
          12.10363943,
          12.948079389999998,
          13.79251935,
          14.63695931,
          15.481399269999999,
          16.32583923,
          17.17027919,
          18.01471915,
          18.85915911,
          19.70359907,
          20.54803903,
          21.39247899,
          22.23691895,
          23.08135891,
          23.92579886,
          24.770238819999996,
          25.61467878,
          26.45911874,
          27.3035587,
          28.14799866,
          28.99243862,
          29.836878580000004,
          30.68131854,
          31.5257585,
          32.37019846,
          33.21463842,
          34.05907838,
          34.90351834,
          35.7479583,
          36.59239826,
          37.43683822,
          38.28127818,
          39.12571814,
          39.9701581
         ],
         "y": [
          251.40153346245765,
          251.65626784924257,
          240.3117249751752,
          220.3491725114762,
          209.6040562211016,
          202.92369193701714,
          199.3954981241877,
          194.15423246874062,
          191.78359775121763,
          190.94105204477978,
          190.43811741247416,
          190.2074766239408,
          190.19163925343796,
          190.34296623016814,
          190.62266262964357,
          190.99946043033765,
          191.44831652406745,
          191.94925418100354,
          192.48638340616114,
          193.04709497865673,
          193.62140746849064,
          194.2014426658143,
          194.78100601222013,
          195.35525162864693,
          195.92041493829078,
          196.4735990687267,
          197.01260396609527,
          197.53578942164566,
          198.041965090144,
          198.53030191321332,
          199.0002607331299,
          199.4515345748073,
          199.88400191915733,
          200.29768880808314,
          200.6927380684357,
          201.06938428917442,
          201.42793345957037,
          201.76874639259617,
          202.09222522911588,
          202.398802454789,
          202.68893197028078,
          202.96308184225086,
          203.22172843227696,
          203.46535165691037,
          203.69443117724893,
          203.90944335297976,
          204.11085882547914
         ]
        },
        {
         "line": {
          "color": "rgba(255,165,0, 1)",
          "dash": "dot",
          "width": 1
         },
         "marker": {
          "color": "rgba(255,165,0, 1)",
          "size": 3,
          "symbol": "circle-dot"
         },
         "mode": "lines",
         "name": "Bulge (Hernquist)",
         "type": "scatter",
         "x": [
          0.2533,
          0.53,
          0.81,
          1.5,
          2.45,
          3.75,
          4.65,
          6.469999999999999,
          7.88143963,
          8.72587959,
          9.57031955,
          10.41475951,
          11.25919947,
          12.10363943,
          12.948079389999998,
          13.79251935,
          14.63695931,
          15.481399269999999,
          16.32583923,
          17.17027919,
          18.01471915,
          18.85915911,
          19.70359907,
          20.54803903,
          21.39247899,
          22.23691895,
          23.08135891,
          23.92579886,
          24.770238819999996,
          25.61467878,
          26.45911874,
          27.3035587,
          28.14799866,
          28.99243862,
          29.836878580000004,
          30.68131854,
          31.5257585,
          32.37019846,
          33.21463842,
          34.05907838,
          34.90351834,
          35.7479583,
          36.59239826,
          37.43683822,
          38.28127818,
          39.12571814,
          39.9701581
         ],
         "y": [
          249.56441793837453,
          246.83143175663616,
          231.16604000216384,
          196.92665398457356,
          166.13141731690118,
          140.28439667324957,
          128.0670782897865,
          110.72136550759348,
          101.23609207029034,
          96.60496054132348,
          92.55512810001937,
          88.97455780680619,
          85.77923689518701,
          82.90477764032057,
          80.30089875328493,
          77.92768981713641,
          75.75301643580976,
          73.750676460289,
          71.89906341588392,
          70.18018020620345,
          68.57889960684174,
          67.08240178526631,
          65.6797408779702,
          64.36150704650555,
          63.11956012228176,
          61.94681758893446,
          60.837084274586225,
          59.78491440654076,
          58.78549893718091,
          57.834573007772725,
          56.92833923051932,
          56.06340383264253,
          55.23672313628079,
          54.44555846244094,
          53.68743793586214,
          52.960123976758794,
          52.26158550530956,
          51.589974072320516,
          50.94360327715391,
          50.32093095103295,
          49.7205436771431,
          49.14114329379649,
          48.58153508729675,
          48.040617430096816,
          47.51737265974076,
          47.01085902675641,
          46.5202035665474
         ]
        },
        {
         "line": {
          "color": "royalblue",
          "dash": "dash",
          "width": 1
         },
         "marker": {
          "color": "rgba(8, 0, 246, 0.8)",
          "size": 3,
          "symbol": "circle-dot"
         },
         "mode": "lines",
         "name": "Disk (Kuzmin)",
         "type": "scatter",
         "x": [
          0.2533,
          0.53,
          0.81,
          1.5,
          2.45,
          3.75,
          4.65,
          6.469999999999999,
          7.88143963,
          8.72587959,
          9.57031955,
          10.41475951,
          11.25919947,
          12.10363943,
          12.948079389999998,
          13.79251935,
          14.63695931,
          15.481399269999999,
          16.32583923,
          17.17027919,
          18.01471915,
          18.85915911,
          19.70359907,
          20.54803903,
          21.39247899,
          22.23691895,
          23.08135891,
          23.92579886,
          24.770238819999996,
          25.61467878,
          26.45911874,
          27.3035587,
          28.14799866,
          28.99243862,
          29.836878580000004,
          30.68131854,
          31.5257585,
          32.37019846,
          33.21463842,
          34.05907838,
          34.90351834,
          35.7479583,
          36.59239826,
          37.43683822,
          38.28127818,
          39.12571814,
          39.9701581
         ],
         "y": [
          15.232944448326743,
          31.315328204856932,
          46.46275751965481,
          76.75648077527624,
          101.08451335804322,
          112.13937311795898,
          112.44784435812866,
          106.9776598651013,
          101.35981109727423,
          98.05560009949204,
          94.90624129929898,
          91.94238562064874,
          89.17082771432679,
          86.58645817141253,
          84.17858247363283,
          81.93426796161609,
          79.8400992655823,
          77.88307196392846,
          76.05101711122455,
          74.33277108734774,
          72.71820924786135,
          71.19820928928917,
          69.76458103656053,
          68.40998294900253,
          67.1278363494021,
          65.91224310289199,
          64.75790948256211,
          63.66007729589862,
          62.61446233971514,
          61.617200041819395,
          60.66479746635606,
          59.7540912299186,
          58.88221059194805,
          58.04654510866586,
          57.24471627897197,
          56.47455267030377,
          55.734068072260975,
          55.0214422822939,
          54.33500417926151,
          53.67321678661185,
          53.034664067339655,
          52.41803922807149,
          51.82213434009476,
          51.245831111411405,
          50.68809266648191,
          50.14795620971688,
          49.62452646541155
         ]
        },
        {
         "line": {
          "color": "rgba(153, 51, 230, 1.0)",
          "dash": "dashdot",
          "width": 1
         },
         "marker": {
          "color": "rgba(153, 51, 153, 1.0)",
          "size": 3,
          "symbol": "circle-dot"
         },
         "mode": "lines",
         "name": "Halo (NFW)",
         "type": "scatter",
         "x": [
          0.2533,
          0.53,
          0.81,
          1.5,
          2.45,
          3.75,
          4.65,
          6.469999999999999,
          7.88143963,
          8.72587959,
          9.57031955,
          10.41475951,
          11.25919947,
          12.10363943,
          12.948079389999998,
          13.79251935,
          14.63695931,
          15.481399269999999,
          16.32583923,
          17.17027919,
          18.01471915,
          18.85915911,
          19.70359907,
          20.54803903,
          21.39247899,
          22.23691895,
          23.08135891,
          23.92579886,
          24.770238819999996,
          25.61467878,
          26.45911874,
          27.3035587,
          28.14799866,
          28.99243862,
          29.836878580000004,
          30.68131854,
          31.5257585,
          32.37019846,
          33.21463842,
          34.05907838,
          34.90351834,
          35.7479583,
          36.59239826,
          37.43683822,
          38.28127818,
          39.12571814,
          39.9701581
         ],
         "y": [
          26.235276438218094,
          37.74217354897399,
          46.40257831125333,
          62.306447787744936,
          78.20571413767615,
          94.4620230361545,
          103.50299720163034,
          118.28958320767877,
          127.50839471603992,
          132.3293854134641,
          136.7224567817428,
          140.74448462769053,
          144.44149557634438,
          147.85137097449643,
          151.00573307050095,
          153.93129889024638,
          156.65087599511665,
          159.18411039973435,
          161.54805871025067,
          163.7576328859186,
          165.82595093222972,
          167.76461694350883,
          169.5839472772361,
          171.29315509532702,
          172.90050233186017,
          174.41342589023162,
          175.83864324407386,
          177.18224140843108,
          178.4497524721761,
          179.6462178888458,
          180.77624377299853,
          181.84404850373895,
          182.85350397569368,
          183.8081714900626,
          184.7113331104204,
          185.5660191615995,
          186.37503243294395,
          187.1409695529904,
          187.8662399262712,
          188.55308256067164,
          189.20358106274534,
          189.819677036305,
          190.4031820847568,
          190.95578858863112,
          191.47907940548615,
          191.9745366189923,
          192.4435494468062
         ]
        }
       ],
       "layout": {
        "annotations": [
         {
          "showarrow": false,
          "text": "Milky Way scale-length",
          "x": "3.5",
          "xanchor": "left",
          "xref": "x",
          "y": 1,
          "yanchor": "top",
          "yref": "y domain"
         },
         {
          "showarrow": false,
          "text": "Sun position",
          "x": 8,
          "xanchor": "left",
          "xref": "x",
          "y": 0,
          "yanchor": "bottom",
          "yref": "y domain"
         },
         {
          "showarrow": false,
          "text": "",
          "x": 3.0058346611865,
          "xanchor": "left",
          "xref": "x",
          "y": 0,
          "yanchor": "bottom",
          "yref": "y domain"
         }
        ],
        "autosize": false,
        "font": {
         "color": "black",
         "family": "tgheros",
         "size": 13
        },
        "height": 550,
        "legend": {
         "x": 0.999,
         "xanchor": "right",
         "y": 0.66,
         "yanchor": "top"
        },
        "margin": {
         "b": 100,
         "l": 50,
         "pad": 4,
         "r": 50,
         "t": 100
        },
        "paper_bgcolor": "rgba(255,255,255,1)",
        "plot_bgcolor": "rgba(255,255,255,1)",
        "shapes": [
         {
          "fillcolor": "green",
          "line": {
           "width": 0
          },
          "opacity": 0.2,
          "type": "rect",
          "x0": "3.5",
          "x1": "4.5",
          "xref": "x",
          "y0": 0,
          "y1": 1,
          "yref": "y domain"
         },
         {
          "line": {
           "color": "green",
           "dash": "dash",
           "width": 1.5
          },
          "opacity": 0.4,
          "type": "line",
          "x0": 8,
          "x1": 8,
          "xref": "x",
          "y0": 0,
          "y1": 1,
          "yref": "y domain"
         },
         {
          "line": {
           "color": "red",
           "dash": "dot",
           "width": 1.5
          },
          "opacity": 0.4,
          "type": "line",
          "x0": 3.0058346611865,
          "x1": 3.0058346611865,
          "xref": "x",
          "y0": 0,
          "y1": 1,
          "yref": "y domain"
         }
        ],
        "template": {
         "data": {
          "bar": [
           {
            "error_x": {
             "color": "#2a3f5f"
            },
            "error_y": {
             "color": "#2a3f5f"
            },
            "marker": {
             "line": {
              "color": "#E5ECF6",
              "width": 0.5
             },
             "pattern": {
              "fillmode": "overlay",
              "size": 10,
              "solidity": 0.2
             }
            },
            "type": "bar"
           }
          ],
          "barpolar": [
           {
            "marker": {
             "line": {
              "color": "#E5ECF6",
              "width": 0.5
             },
             "pattern": {
              "fillmode": "overlay",
              "size": 10,
              "solidity": 0.2
             }
            },
            "type": "barpolar"
           }
          ],
          "carpet": [
           {
            "aaxis": {
             "endlinecolor": "#2a3f5f",
             "gridcolor": "white",
             "linecolor": "white",
             "minorgridcolor": "white",
             "startlinecolor": "#2a3f5f"
            },
            "baxis": {
             "endlinecolor": "#2a3f5f",
             "gridcolor": "white",
             "linecolor": "white",
             "minorgridcolor": "white",
             "startlinecolor": "#2a3f5f"
            },
            "type": "carpet"
           }
          ],
          "choropleth": [
           {
            "colorbar": {
             "outlinewidth": 0,
             "ticks": ""
            },
            "type": "choropleth"
           }
          ],
          "contour": [
           {
            "colorbar": {
             "outlinewidth": 0,
             "ticks": ""
            },
            "colorscale": [
             [
              0,
              "#0d0887"
             ],
             [
              0.1111111111111111,
              "#46039f"
             ],
             [
              0.2222222222222222,
              "#7201a8"
             ],
             [
              0.3333333333333333,
              "#9c179e"
             ],
             [
              0.4444444444444444,
              "#bd3786"
             ],
             [
              0.5555555555555556,
              "#d8576b"
             ],
             [
              0.6666666666666666,
              "#ed7953"
             ],
             [
              0.7777777777777778,
              "#fb9f3a"
             ],
             [
              0.8888888888888888,
              "#fdca26"
             ],
             [
              1,
              "#f0f921"
             ]
            ],
            "type": "contour"
           }
          ],
          "contourcarpet": [
           {
            "colorbar": {
             "outlinewidth": 0,
             "ticks": ""
            },
            "type": "contourcarpet"
           }
          ],
          "heatmap": [
           {
            "colorbar": {
             "outlinewidth": 0,
             "ticks": ""
            },
            "colorscale": [
             [
              0,
              "#0d0887"
             ],
             [
              0.1111111111111111,
              "#46039f"
             ],
             [
              0.2222222222222222,
              "#7201a8"
             ],
             [
              0.3333333333333333,
              "#9c179e"
             ],
             [
              0.4444444444444444,
              "#bd3786"
             ],
             [
              0.5555555555555556,
              "#d8576b"
             ],
             [
              0.6666666666666666,
              "#ed7953"
             ],
             [
              0.7777777777777778,
              "#fb9f3a"
             ],
             [
              0.8888888888888888,
              "#fdca26"
             ],
             [
              1,
              "#f0f921"
             ]
            ],
            "type": "heatmap"
           }
          ],
          "heatmapgl": [
           {
            "colorbar": {
             "outlinewidth": 0,
             "ticks": ""
            },
            "colorscale": [
             [
              0,
              "#0d0887"
             ],
             [
              0.1111111111111111,
              "#46039f"
             ],
             [
              0.2222222222222222,
              "#7201a8"
             ],
             [
              0.3333333333333333,
              "#9c179e"
             ],
             [
              0.4444444444444444,
              "#bd3786"
             ],
             [
              0.5555555555555556,
              "#d8576b"
             ],
             [
              0.6666666666666666,
              "#ed7953"
             ],
             [
              0.7777777777777778,
              "#fb9f3a"
             ],
             [
              0.8888888888888888,
              "#fdca26"
             ],
             [
              1,
              "#f0f921"
             ]
            ],
            "type": "heatmapgl"
           }
          ],
          "histogram": [
           {
            "marker": {
             "pattern": {
              "fillmode": "overlay",
              "size": 10,
              "solidity": 0.2
             }
            },
            "type": "histogram"
           }
          ],
          "histogram2d": [
           {
            "colorbar": {
             "outlinewidth": 0,
             "ticks": ""
            },
            "colorscale": [
             [
              0,
              "#0d0887"
             ],
             [
              0.1111111111111111,
              "#46039f"
             ],
             [
              0.2222222222222222,
              "#7201a8"
             ],
             [
              0.3333333333333333,
              "#9c179e"
             ],
             [
              0.4444444444444444,
              "#bd3786"
             ],
             [
              0.5555555555555556,
              "#d8576b"
             ],
             [
              0.6666666666666666,
              "#ed7953"
             ],
             [
              0.7777777777777778,
              "#fb9f3a"
             ],
             [
              0.8888888888888888,
              "#fdca26"
             ],
             [
              1,
              "#f0f921"
             ]
            ],
            "type": "histogram2d"
           }
          ],
          "histogram2dcontour": [
           {
            "colorbar": {
             "outlinewidth": 0,
             "ticks": ""
            },
            "colorscale": [
             [
              0,
              "#0d0887"
             ],
             [
              0.1111111111111111,
              "#46039f"
             ],
             [
              0.2222222222222222,
              "#7201a8"
             ],
             [
              0.3333333333333333,
              "#9c179e"
             ],
             [
              0.4444444444444444,
              "#bd3786"
             ],
             [
              0.5555555555555556,
              "#d8576b"
             ],
             [
              0.6666666666666666,
              "#ed7953"
             ],
             [
              0.7777777777777778,
              "#fb9f3a"
             ],
             [
              0.8888888888888888,
              "#fdca26"
             ],
             [
              1,
              "#f0f921"
             ]
            ],
            "type": "histogram2dcontour"
           }
          ],
          "mesh3d": [
           {
            "colorbar": {
             "outlinewidth": 0,
             "ticks": ""
            },
            "type": "mesh3d"
           }
          ],
          "parcoords": [
           {
            "line": {
             "colorbar": {
              "outlinewidth": 0,
              "ticks": ""
             }
            },
            "type": "parcoords"
           }
          ],
          "pie": [
           {
            "automargin": true,
            "type": "pie"
           }
          ],
          "scatter": [
           {
            "fillpattern": {
             "fillmode": "overlay",
             "size": 10,
             "solidity": 0.2
            },
            "type": "scatter"
           }
          ],
          "scatter3d": [
           {
            "line": {
             "colorbar": {
              "outlinewidth": 0,
              "ticks": ""
             }
            },
            "marker": {
             "colorbar": {
              "outlinewidth": 0,
              "ticks": ""
             }
            },
            "type": "scatter3d"
           }
          ],
          "scattercarpet": [
           {
            "marker": {
             "colorbar": {
              "outlinewidth": 0,
              "ticks": ""
             }
            },
            "type": "scattercarpet"
           }
          ],
          "scattergeo": [
           {
            "marker": {
             "colorbar": {
              "outlinewidth": 0,
              "ticks": ""
             }
            },
            "type": "scattergeo"
           }
          ],
          "scattergl": [
           {
            "marker": {
             "colorbar": {
              "outlinewidth": 0,
              "ticks": ""
             }
            },
            "type": "scattergl"
           }
          ],
          "scattermapbox": [
           {
            "marker": {
             "colorbar": {
              "outlinewidth": 0,
              "ticks": ""
             }
            },
            "type": "scattermapbox"
           }
          ],
          "scatterpolar": [
           {
            "marker": {
             "colorbar": {
              "outlinewidth": 0,
              "ticks": ""
             }
            },
            "type": "scatterpolar"
           }
          ],
          "scatterpolargl": [
           {
            "marker": {
             "colorbar": {
              "outlinewidth": 0,
              "ticks": ""
             }
            },
            "type": "scatterpolargl"
           }
          ],
          "scatterternary": [
           {
            "marker": {
             "colorbar": {
              "outlinewidth": 0,
              "ticks": ""
             }
            },
            "type": "scatterternary"
           }
          ],
          "surface": [
           {
            "colorbar": {
             "outlinewidth": 0,
             "ticks": ""
            },
            "colorscale": [
             [
              0,
              "#0d0887"
             ],
             [
              0.1111111111111111,
              "#46039f"
             ],
             [
              0.2222222222222222,
              "#7201a8"
             ],
             [
              0.3333333333333333,
              "#9c179e"
             ],
             [
              0.4444444444444444,
              "#bd3786"
             ],
             [
              0.5555555555555556,
              "#d8576b"
             ],
             [
              0.6666666666666666,
              "#ed7953"
             ],
             [
              0.7777777777777778,
              "#fb9f3a"
             ],
             [
              0.8888888888888888,
              "#fdca26"
             ],
             [
              1,
              "#f0f921"
             ]
            ],
            "type": "surface"
           }
          ],
          "table": [
           {
            "cells": {
             "fill": {
              "color": "#EBF0F8"
             },
             "line": {
              "color": "white"
             }
            },
            "header": {
             "fill": {
              "color": "#C8D4E3"
             },
             "line": {
              "color": "white"
             }
            },
            "type": "table"
           }
          ]
         },
         "layout": {
          "annotationdefaults": {
           "arrowcolor": "#2a3f5f",
           "arrowhead": 0,
           "arrowwidth": 1
          },
          "autotypenumbers": "strict",
          "coloraxis": {
           "colorbar": {
            "outlinewidth": 0,
            "ticks": ""
           }
          },
          "colorscale": {
           "diverging": [
            [
             0,
             "#8e0152"
            ],
            [
             0.1,
             "#c51b7d"
            ],
            [
             0.2,
             "#de77ae"
            ],
            [
             0.3,
             "#f1b6da"
            ],
            [
             0.4,
             "#fde0ef"
            ],
            [
             0.5,
             "#f7f7f7"
            ],
            [
             0.6,
             "#e6f5d0"
            ],
            [
             0.7,
             "#b8e186"
            ],
            [
             0.8,
             "#7fbc41"
            ],
            [
             0.9,
             "#4d9221"
            ],
            [
             1,
             "#276419"
            ]
           ],
           "sequential": [
            [
             0,
             "#0d0887"
            ],
            [
             0.1111111111111111,
             "#46039f"
            ],
            [
             0.2222222222222222,
             "#7201a8"
            ],
            [
             0.3333333333333333,
             "#9c179e"
            ],
            [
             0.4444444444444444,
             "#bd3786"
            ],
            [
             0.5555555555555556,
             "#d8576b"
            ],
            [
             0.6666666666666666,
             "#ed7953"
            ],
            [
             0.7777777777777778,
             "#fb9f3a"
            ],
            [
             0.8888888888888888,
             "#fdca26"
            ],
            [
             1,
             "#f0f921"
            ]
           ],
           "sequentialminus": [
            [
             0,
             "#0d0887"
            ],
            [
             0.1111111111111111,
             "#46039f"
            ],
            [
             0.2222222222222222,
             "#7201a8"
            ],
            [
             0.3333333333333333,
             "#9c179e"
            ],
            [
             0.4444444444444444,
             "#bd3786"
            ],
            [
             0.5555555555555556,
             "#d8576b"
            ],
            [
             0.6666666666666666,
             "#ed7953"
            ],
            [
             0.7777777777777778,
             "#fb9f3a"
            ],
            [
             0.8888888888888888,
             "#fdca26"
            ],
            [
             1,
             "#f0f921"
            ]
           ]
          },
          "colorway": [
           "#636efa",
           "#EF553B",
           "#00cc96",
           "#ab63fa",
           "#FFA15A",
           "#19d3f3",
           "#FF6692",
           "#B6E880",
           "#FF97FF",
           "#FECB52"
          ],
          "font": {
           "color": "#2a3f5f"
          },
          "geo": {
           "bgcolor": "white",
           "lakecolor": "white",
           "landcolor": "#E5ECF6",
           "showlakes": true,
           "showland": true,
           "subunitcolor": "white"
          },
          "hoverlabel": {
           "align": "left"
          },
          "hovermode": "closest",
          "mapbox": {
           "style": "light"
          },
          "paper_bgcolor": "white",
          "plot_bgcolor": "#E5ECF6",
          "polar": {
           "angularaxis": {
            "gridcolor": "white",
            "linecolor": "white",
            "ticks": ""
           },
           "bgcolor": "#E5ECF6",
           "radialaxis": {
            "gridcolor": "white",
            "linecolor": "white",
            "ticks": ""
           }
          },
          "scene": {
           "xaxis": {
            "backgroundcolor": "#E5ECF6",
            "gridcolor": "white",
            "gridwidth": 2,
            "linecolor": "white",
            "showbackground": true,
            "ticks": "",
            "zerolinecolor": "white"
           },
           "yaxis": {
            "backgroundcolor": "#E5ECF6",
            "gridcolor": "white",
            "gridwidth": 2,
            "linecolor": "white",
            "showbackground": true,
            "ticks": "",
            "zerolinecolor": "white"
           },
           "zaxis": {
            "backgroundcolor": "#E5ECF6",
            "gridcolor": "white",
            "gridwidth": 2,
            "linecolor": "white",
            "showbackground": true,
            "ticks": "",
            "zerolinecolor": "white"
           }
          },
          "shapedefaults": {
           "line": {
            "color": "#2a3f5f"
           }
          },
          "ternary": {
           "aaxis": {
            "gridcolor": "white",
            "linecolor": "white",
            "ticks": ""
           },
           "baxis": {
            "gridcolor": "white",
            "linecolor": "white",
            "ticks": ""
           },
           "bgcolor": "#E5ECF6",
           "caxis": {
            "gridcolor": "white",
            "linecolor": "white",
            "ticks": ""
           }
          },
          "title": {
           "x": 0.05
          },
          "xaxis": {
           "automargin": true,
           "gridcolor": "white",
           "linecolor": "white",
           "ticks": "",
           "title": {
            "standoff": 15
           },
           "zerolinecolor": "white",
           "zerolinewidth": 2
          },
          "yaxis": {
           "automargin": true,
           "gridcolor": "white",
           "linecolor": "white",
           "ticks": "",
           "title": {
            "standoff": 15
           },
           "zerolinecolor": "white",
           "zerolinewidth": 2
          }
         }
        },
        "title": {
         "text": "Rotation curve decomposition - NGC 4698",
         "x": 0.25,
         "y": 0.9
        },
        "width": 650,
        "xaxis": {
         "linecolor": "black",
         "linewidth": 0.005,
         "range": [
          0,
          45
         ],
         "showline": true,
         "ticks": "outside",
         "title": {
          "text": "Radius     [kpc]"
         }
        },
        "yaxis": {
         "linecolor": "black",
         "linewidth": 0.005,
         "range": [
          0,
          270
         ],
         "showline": true,
         "ticks": "outside",
         "title": {
          "text": "Circular velocity     [km s⁻¹]"
         }
        }
       }
      },
      "text/html": [
       "<div>                            <div id=\"1bd1be30-b630-4d80-a424-bcd0c3f0573d\" class=\"plotly-graph-div\" style=\"height:550px; width:650px;\"></div>            <script type=\"text/javascript\">                require([\"plotly\"], function(Plotly) {                    window.PLOTLYENV=window.PLOTLYENV || {};                                    if (document.getElementById(\"1bd1be30-b630-4d80-a424-bcd0c3f0573d\")) {                    Plotly.newPlot(                        \"1bd1be30-b630-4d80-a424-bcd0c3f0573d\",                        [{\"line\":{\"color\":\"black\",\"dash\":\"solid\",\"width\":0.7},\"marker\":{\"color\":\"red\",\"size\":3,\"symbol\":\"diamond\"},\"mode\":\"markers\",\"name\":\"H-alpha data (Rubin+99)\",\"x\":[0.2533,0.53,0.81,1.5,2.45,3.75,4.65,6.469999999999999],\"y\":[22.18,91.06,148.8,150.3,182.98,200.8,208.5,207.0],\"type\":\"scatter\"},{\"line\":{\"color\":\"black\",\"dash\":\"solid\",\"width\":0.7},\"marker\":{\"color\":\"black\",\"size\":3,\"symbol\":\"square\"},\"mode\":\"markers\",\"name\":\"HI data\",\"x\":[7.88143963,8.72587959,9.57031955,10.41475951,11.25919947,12.10363943,12.948079389999998,13.79251935,14.63695931,15.481399269999999,16.32583923,17.17027919,18.01471915,18.85915911,19.70359907,20.54803903,21.39247899,22.23691895,23.08135891,23.92579886,24.770238819999996,25.61467878,26.45911874,27.3035587,28.14799866,28.99243862,29.836878580000004,30.68131854,31.5257585,32.37019846,33.21463842,34.05907838,34.90351834,35.7479583,36.59239826,37.43683822,38.28127818,39.12571814,39.9701581],\"y\":[180.16201903,187.35847012,191.36304112,195.13639669,196.37216136,198.32158546,196.31266947,201.42751252,201.49357408,201.36802062999996,196.79505263000001,196.42502277,196.01533164999998,199.20709008,200.72042276000002,199.80845702,198.91632192000003,198.73127657,198.95598318,197.87880273,196.26643855,196.39199199,197.01318957,196.23997743,195.34784232,196.82814423,197.70044871,198.23569326999998,197.61449569,198.55949221,199.63004217,202.22706412999997,200.23797877,199.82828765,199.22035105,200.51554679,202.14117195,203.62141303000004,209.03365473000002],\"type\":\"scatter\"},{\"line\":{\"color\":\"black\",\"width\":0.8},\"marker\":{\"color\":\"black\",\"size\":5,\"symbol\":\"circle-dot\"},\"mode\":\"lines\",\"name\":\"Best fit\",\"x\":[0.2533,0.53,0.81,1.5,2.45,3.75,4.65,6.469999999999999,7.88143963,8.72587959,9.57031955,10.41475951,11.25919947,12.10363943,12.948079389999998,13.79251935,14.63695931,15.481399269999999,16.32583923,17.17027919,18.01471915,18.85915911,19.70359907,20.54803903,21.39247899,22.23691895,23.08135891,23.92579886,24.770238819999996,25.61467878,26.45911874,27.3035587,28.14799866,28.99243862,29.836878580000004,30.68131854,31.5257585,32.37019846,33.21463842,34.05907838,34.90351834,35.7479583,36.59239826,37.43683822,38.28127818,39.12571814,39.9701581],\"y\":[251.40153346245765,251.65626784924257,240.3117249751752,220.3491725114762,209.6040562211016,202.92369193701714,199.3954981241877,194.15423246874062,191.78359775121763,190.94105204477978,190.43811741247416,190.2074766239408,190.19163925343796,190.34296623016814,190.62266262964357,190.99946043033765,191.44831652406745,191.94925418100354,192.48638340616114,193.04709497865673,193.62140746849064,194.2014426658143,194.78100601222013,195.35525162864693,195.92041493829078,196.4735990687267,197.01260396609527,197.53578942164566,198.041965090144,198.53030191321332,199.0002607331299,199.4515345748073,199.88400191915733,200.29768880808314,200.6927380684357,201.06938428917442,201.42793345957037,201.76874639259617,202.09222522911588,202.398802454789,202.68893197028078,202.96308184225086,203.22172843227696,203.46535165691037,203.69443117724893,203.90944335297976,204.11085882547914],\"type\":\"scatter\"},{\"line\":{\"color\":\"rgba(255,165,0, 1)\",\"dash\":\"dot\",\"width\":1},\"marker\":{\"color\":\"rgba(255,165,0, 1)\",\"size\":3,\"symbol\":\"circle-dot\"},\"mode\":\"lines\",\"name\":\"Bulge (Hernquist)\",\"x\":[0.2533,0.53,0.81,1.5,2.45,3.75,4.65,6.469999999999999,7.88143963,8.72587959,9.57031955,10.41475951,11.25919947,12.10363943,12.948079389999998,13.79251935,14.63695931,15.481399269999999,16.32583923,17.17027919,18.01471915,18.85915911,19.70359907,20.54803903,21.39247899,22.23691895,23.08135891,23.92579886,24.770238819999996,25.61467878,26.45911874,27.3035587,28.14799866,28.99243862,29.836878580000004,30.68131854,31.5257585,32.37019846,33.21463842,34.05907838,34.90351834,35.7479583,36.59239826,37.43683822,38.28127818,39.12571814,39.9701581],\"y\":[249.56441793837453,246.83143175663616,231.16604000216384,196.92665398457356,166.13141731690118,140.28439667324957,128.0670782897865,110.72136550759348,101.23609207029034,96.60496054132348,92.55512810001937,88.97455780680619,85.77923689518701,82.90477764032057,80.30089875328493,77.92768981713641,75.75301643580976,73.750676460289,71.89906341588392,70.18018020620345,68.57889960684174,67.08240178526631,65.6797408779702,64.36150704650555,63.11956012228176,61.94681758893446,60.837084274586225,59.78491440654076,58.78549893718091,57.834573007772725,56.92833923051932,56.06340383264253,55.23672313628079,54.44555846244094,53.68743793586214,52.960123976758794,52.26158550530956,51.589974072320516,50.94360327715391,50.32093095103295,49.7205436771431,49.14114329379649,48.58153508729675,48.040617430096816,47.51737265974076,47.01085902675641,46.5202035665474],\"type\":\"scatter\"},{\"line\":{\"color\":\"royalblue\",\"dash\":\"dash\",\"width\":1},\"marker\":{\"color\":\"rgba(8, 0, 246, 0.8)\",\"size\":3,\"symbol\":\"circle-dot\"},\"mode\":\"lines\",\"name\":\"Disk (Kuzmin)\",\"x\":[0.2533,0.53,0.81,1.5,2.45,3.75,4.65,6.469999999999999,7.88143963,8.72587959,9.57031955,10.41475951,11.25919947,12.10363943,12.948079389999998,13.79251935,14.63695931,15.481399269999999,16.32583923,17.17027919,18.01471915,18.85915911,19.70359907,20.54803903,21.39247899,22.23691895,23.08135891,23.92579886,24.770238819999996,25.61467878,26.45911874,27.3035587,28.14799866,28.99243862,29.836878580000004,30.68131854,31.5257585,32.37019846,33.21463842,34.05907838,34.90351834,35.7479583,36.59239826,37.43683822,38.28127818,39.12571814,39.9701581],\"y\":[15.232944448326743,31.315328204856932,46.46275751965481,76.75648077527624,101.08451335804322,112.13937311795898,112.44784435812866,106.9776598651013,101.35981109727423,98.05560009949204,94.90624129929898,91.94238562064874,89.17082771432679,86.58645817141253,84.17858247363283,81.93426796161609,79.8400992655823,77.88307196392846,76.05101711122455,74.33277108734774,72.71820924786135,71.19820928928917,69.76458103656053,68.40998294900253,67.1278363494021,65.91224310289199,64.75790948256211,63.66007729589862,62.61446233971514,61.617200041819395,60.66479746635606,59.7540912299186,58.88221059194805,58.04654510866586,57.24471627897197,56.47455267030377,55.734068072260975,55.0214422822939,54.33500417926151,53.67321678661185,53.034664067339655,52.41803922807149,51.82213434009476,51.245831111411405,50.68809266648191,50.14795620971688,49.62452646541155],\"type\":\"scatter\"},{\"line\":{\"color\":\"rgba(153, 51, 230, 1.0)\",\"dash\":\"dashdot\",\"width\":1},\"marker\":{\"color\":\"rgba(153, 51, 153, 1.0)\",\"size\":3,\"symbol\":\"circle-dot\"},\"mode\":\"lines\",\"name\":\"Halo (NFW)\",\"x\":[0.2533,0.53,0.81,1.5,2.45,3.75,4.65,6.469999999999999,7.88143963,8.72587959,9.57031955,10.41475951,11.25919947,12.10363943,12.948079389999998,13.79251935,14.63695931,15.481399269999999,16.32583923,17.17027919,18.01471915,18.85915911,19.70359907,20.54803903,21.39247899,22.23691895,23.08135891,23.92579886,24.770238819999996,25.61467878,26.45911874,27.3035587,28.14799866,28.99243862,29.836878580000004,30.68131854,31.5257585,32.37019846,33.21463842,34.05907838,34.90351834,35.7479583,36.59239826,37.43683822,38.28127818,39.12571814,39.9701581],\"y\":[26.235276438218094,37.74217354897399,46.40257831125333,62.306447787744936,78.20571413767615,94.4620230361545,103.50299720163034,118.28958320767877,127.50839471603992,132.3293854134641,136.7224567817428,140.74448462769053,144.44149557634438,147.85137097449643,151.00573307050095,153.93129889024638,156.65087599511665,159.18411039973435,161.54805871025067,163.7576328859186,165.82595093222972,167.76461694350883,169.5839472772361,171.29315509532702,172.90050233186017,174.41342589023162,175.83864324407386,177.18224140843108,178.4497524721761,179.6462178888458,180.77624377299853,181.84404850373895,182.85350397569368,183.8081714900626,184.7113331104204,185.5660191615995,186.37503243294395,187.1409695529904,187.8662399262712,188.55308256067164,189.20358106274534,189.819677036305,190.4031820847568,190.95578858863112,191.47907940548615,191.9745366189923,192.4435494468062],\"type\":\"scatter\"}],                        {\"template\":{\"data\":{\"histogram2dcontour\":[{\"type\":\"histogram2dcontour\",\"colorbar\":{\"outlinewidth\":0,\"ticks\":\"\"},\"colorscale\":[[0.0,\"#0d0887\"],[0.1111111111111111,\"#46039f\"],[0.2222222222222222,\"#7201a8\"],[0.3333333333333333,\"#9c179e\"],[0.4444444444444444,\"#bd3786\"],[0.5555555555555556,\"#d8576b\"],[0.6666666666666666,\"#ed7953\"],[0.7777777777777778,\"#fb9f3a\"],[0.8888888888888888,\"#fdca26\"],[1.0,\"#f0f921\"]]}],\"choropleth\":[{\"type\":\"choropleth\",\"colorbar\":{\"outlinewidth\":0,\"ticks\":\"\"}}],\"histogram2d\":[{\"type\":\"histogram2d\",\"colorbar\":{\"outlinewidth\":0,\"ticks\":\"\"},\"colorscale\":[[0.0,\"#0d0887\"],[0.1111111111111111,\"#46039f\"],[0.2222222222222222,\"#7201a8\"],[0.3333333333333333,\"#9c179e\"],[0.4444444444444444,\"#bd3786\"],[0.5555555555555556,\"#d8576b\"],[0.6666666666666666,\"#ed7953\"],[0.7777777777777778,\"#fb9f3a\"],[0.8888888888888888,\"#fdca26\"],[1.0,\"#f0f921\"]]}],\"heatmap\":[{\"type\":\"heatmap\",\"colorbar\":{\"outlinewidth\":0,\"ticks\":\"\"},\"colorscale\":[[0.0,\"#0d0887\"],[0.1111111111111111,\"#46039f\"],[0.2222222222222222,\"#7201a8\"],[0.3333333333333333,\"#9c179e\"],[0.4444444444444444,\"#bd3786\"],[0.5555555555555556,\"#d8576b\"],[0.6666666666666666,\"#ed7953\"],[0.7777777777777778,\"#fb9f3a\"],[0.8888888888888888,\"#fdca26\"],[1.0,\"#f0f921\"]]}],\"heatmapgl\":[{\"type\":\"heatmapgl\",\"colorbar\":{\"outlinewidth\":0,\"ticks\":\"\"},\"colorscale\":[[0.0,\"#0d0887\"],[0.1111111111111111,\"#46039f\"],[0.2222222222222222,\"#7201a8\"],[0.3333333333333333,\"#9c179e\"],[0.4444444444444444,\"#bd3786\"],[0.5555555555555556,\"#d8576b\"],[0.6666666666666666,\"#ed7953\"],[0.7777777777777778,\"#fb9f3a\"],[0.8888888888888888,\"#fdca26\"],[1.0,\"#f0f921\"]]}],\"contourcarpet\":[{\"type\":\"contourcarpet\",\"colorbar\":{\"outlinewidth\":0,\"ticks\":\"\"}}],\"contour\":[{\"type\":\"contour\",\"colorbar\":{\"outlinewidth\":0,\"ticks\":\"\"},\"colorscale\":[[0.0,\"#0d0887\"],[0.1111111111111111,\"#46039f\"],[0.2222222222222222,\"#7201a8\"],[0.3333333333333333,\"#9c179e\"],[0.4444444444444444,\"#bd3786\"],[0.5555555555555556,\"#d8576b\"],[0.6666666666666666,\"#ed7953\"],[0.7777777777777778,\"#fb9f3a\"],[0.8888888888888888,\"#fdca26\"],[1.0,\"#f0f921\"]]}],\"surface\":[{\"type\":\"surface\",\"colorbar\":{\"outlinewidth\":0,\"ticks\":\"\"},\"colorscale\":[[0.0,\"#0d0887\"],[0.1111111111111111,\"#46039f\"],[0.2222222222222222,\"#7201a8\"],[0.3333333333333333,\"#9c179e\"],[0.4444444444444444,\"#bd3786\"],[0.5555555555555556,\"#d8576b\"],[0.6666666666666666,\"#ed7953\"],[0.7777777777777778,\"#fb9f3a\"],[0.8888888888888888,\"#fdca26\"],[1.0,\"#f0f921\"]]}],\"mesh3d\":[{\"type\":\"mesh3d\",\"colorbar\":{\"outlinewidth\":0,\"ticks\":\"\"}}],\"scatter\":[{\"fillpattern\":{\"fillmode\":\"overlay\",\"size\":10,\"solidity\":0.2},\"type\":\"scatter\"}],\"parcoords\":[{\"type\":\"parcoords\",\"line\":{\"colorbar\":{\"outlinewidth\":0,\"ticks\":\"\"}}}],\"scatterpolargl\":[{\"type\":\"scatterpolargl\",\"marker\":{\"colorbar\":{\"outlinewidth\":0,\"ticks\":\"\"}}}],\"bar\":[{\"error_x\":{\"color\":\"#2a3f5f\"},\"error_y\":{\"color\":\"#2a3f5f\"},\"marker\":{\"line\":{\"color\":\"#E5ECF6\",\"width\":0.5},\"pattern\":{\"fillmode\":\"overlay\",\"size\":10,\"solidity\":0.2}},\"type\":\"bar\"}],\"scattergeo\":[{\"type\":\"scattergeo\",\"marker\":{\"colorbar\":{\"outlinewidth\":0,\"ticks\":\"\"}}}],\"scatterpolar\":[{\"type\":\"scatterpolar\",\"marker\":{\"colorbar\":{\"outlinewidth\":0,\"ticks\":\"\"}}}],\"histogram\":[{\"marker\":{\"pattern\":{\"fillmode\":\"overlay\",\"size\":10,\"solidity\":0.2}},\"type\":\"histogram\"}],\"scattergl\":[{\"type\":\"scattergl\",\"marker\":{\"colorbar\":{\"outlinewidth\":0,\"ticks\":\"\"}}}],\"scatter3d\":[{\"type\":\"scatter3d\",\"line\":{\"colorbar\":{\"outlinewidth\":0,\"ticks\":\"\"}},\"marker\":{\"colorbar\":{\"outlinewidth\":0,\"ticks\":\"\"}}}],\"scattermapbox\":[{\"type\":\"scattermapbox\",\"marker\":{\"colorbar\":{\"outlinewidth\":0,\"ticks\":\"\"}}}],\"scatterternary\":[{\"type\":\"scatterternary\",\"marker\":{\"colorbar\":{\"outlinewidth\":0,\"ticks\":\"\"}}}],\"scattercarpet\":[{\"type\":\"scattercarpet\",\"marker\":{\"colorbar\":{\"outlinewidth\":0,\"ticks\":\"\"}}}],\"carpet\":[{\"aaxis\":{\"endlinecolor\":\"#2a3f5f\",\"gridcolor\":\"white\",\"linecolor\":\"white\",\"minorgridcolor\":\"white\",\"startlinecolor\":\"#2a3f5f\"},\"baxis\":{\"endlinecolor\":\"#2a3f5f\",\"gridcolor\":\"white\",\"linecolor\":\"white\",\"minorgridcolor\":\"white\",\"startlinecolor\":\"#2a3f5f\"},\"type\":\"carpet\"}],\"table\":[{\"cells\":{\"fill\":{\"color\":\"#EBF0F8\"},\"line\":{\"color\":\"white\"}},\"header\":{\"fill\":{\"color\":\"#C8D4E3\"},\"line\":{\"color\":\"white\"}},\"type\":\"table\"}],\"barpolar\":[{\"marker\":{\"line\":{\"color\":\"#E5ECF6\",\"width\":0.5},\"pattern\":{\"fillmode\":\"overlay\",\"size\":10,\"solidity\":0.2}},\"type\":\"barpolar\"}],\"pie\":[{\"automargin\":true,\"type\":\"pie\"}]},\"layout\":{\"autotypenumbers\":\"strict\",\"colorway\":[\"#636efa\",\"#EF553B\",\"#00cc96\",\"#ab63fa\",\"#FFA15A\",\"#19d3f3\",\"#FF6692\",\"#B6E880\",\"#FF97FF\",\"#FECB52\"],\"font\":{\"color\":\"#2a3f5f\"},\"hovermode\":\"closest\",\"hoverlabel\":{\"align\":\"left\"},\"paper_bgcolor\":\"white\",\"plot_bgcolor\":\"#E5ECF6\",\"polar\":{\"bgcolor\":\"#E5ECF6\",\"angularaxis\":{\"gridcolor\":\"white\",\"linecolor\":\"white\",\"ticks\":\"\"},\"radialaxis\":{\"gridcolor\":\"white\",\"linecolor\":\"white\",\"ticks\":\"\"}},\"ternary\":{\"bgcolor\":\"#E5ECF6\",\"aaxis\":{\"gridcolor\":\"white\",\"linecolor\":\"white\",\"ticks\":\"\"},\"baxis\":{\"gridcolor\":\"white\",\"linecolor\":\"white\",\"ticks\":\"\"},\"caxis\":{\"gridcolor\":\"white\",\"linecolor\":\"white\",\"ticks\":\"\"}},\"coloraxis\":{\"colorbar\":{\"outlinewidth\":0,\"ticks\":\"\"}},\"colorscale\":{\"sequential\":[[0.0,\"#0d0887\"],[0.1111111111111111,\"#46039f\"],[0.2222222222222222,\"#7201a8\"],[0.3333333333333333,\"#9c179e\"],[0.4444444444444444,\"#bd3786\"],[0.5555555555555556,\"#d8576b\"],[0.6666666666666666,\"#ed7953\"],[0.7777777777777778,\"#fb9f3a\"],[0.8888888888888888,\"#fdca26\"],[1.0,\"#f0f921\"]],\"sequentialminus\":[[0.0,\"#0d0887\"],[0.1111111111111111,\"#46039f\"],[0.2222222222222222,\"#7201a8\"],[0.3333333333333333,\"#9c179e\"],[0.4444444444444444,\"#bd3786\"],[0.5555555555555556,\"#d8576b\"],[0.6666666666666666,\"#ed7953\"],[0.7777777777777778,\"#fb9f3a\"],[0.8888888888888888,\"#fdca26\"],[1.0,\"#f0f921\"]],\"diverging\":[[0,\"#8e0152\"],[0.1,\"#c51b7d\"],[0.2,\"#de77ae\"],[0.3,\"#f1b6da\"],[0.4,\"#fde0ef\"],[0.5,\"#f7f7f7\"],[0.6,\"#e6f5d0\"],[0.7,\"#b8e186\"],[0.8,\"#7fbc41\"],[0.9,\"#4d9221\"],[1,\"#276419\"]]},\"xaxis\":{\"gridcolor\":\"white\",\"linecolor\":\"white\",\"ticks\":\"\",\"title\":{\"standoff\":15},\"zerolinecolor\":\"white\",\"automargin\":true,\"zerolinewidth\":2},\"yaxis\":{\"gridcolor\":\"white\",\"linecolor\":\"white\",\"ticks\":\"\",\"title\":{\"standoff\":15},\"zerolinecolor\":\"white\",\"automargin\":true,\"zerolinewidth\":2},\"scene\":{\"xaxis\":{\"backgroundcolor\":\"#E5ECF6\",\"gridcolor\":\"white\",\"linecolor\":\"white\",\"showbackground\":true,\"ticks\":\"\",\"zerolinecolor\":\"white\",\"gridwidth\":2},\"yaxis\":{\"backgroundcolor\":\"#E5ECF6\",\"gridcolor\":\"white\",\"linecolor\":\"white\",\"showbackground\":true,\"ticks\":\"\",\"zerolinecolor\":\"white\",\"gridwidth\":2},\"zaxis\":{\"backgroundcolor\":\"#E5ECF6\",\"gridcolor\":\"white\",\"linecolor\":\"white\",\"showbackground\":true,\"ticks\":\"\",\"zerolinecolor\":\"white\",\"gridwidth\":2}},\"shapedefaults\":{\"line\":{\"color\":\"#2a3f5f\"}},\"annotationdefaults\":{\"arrowcolor\":\"#2a3f5f\",\"arrowhead\":0,\"arrowwidth\":1},\"geo\":{\"bgcolor\":\"white\",\"landcolor\":\"#E5ECF6\",\"subunitcolor\":\"white\",\"showland\":true,\"showlakes\":true,\"lakecolor\":\"white\"},\"title\":{\"x\":0.05},\"mapbox\":{\"style\":\"light\"}}},\"shapes\":[{\"fillcolor\":\"green\",\"line\":{\"width\":0},\"opacity\":0.2,\"type\":\"rect\",\"x0\":\"3.5\",\"x1\":\"4.5\",\"xref\":\"x\",\"y0\":0,\"y1\":1,\"yref\":\"y domain\"},{\"line\":{\"color\":\"green\",\"dash\":\"dash\",\"width\":1.5},\"opacity\":0.4,\"type\":\"line\",\"x0\":8,\"x1\":8,\"xref\":\"x\",\"y0\":0,\"y1\":1,\"yref\":\"y domain\"},{\"line\":{\"color\":\"red\",\"dash\":\"dot\",\"width\":1.5},\"opacity\":0.4,\"type\":\"line\",\"x0\":3.0058346611865,\"x1\":3.0058346611865,\"xref\":\"x\",\"y0\":0,\"y1\":1,\"yref\":\"y domain\"}],\"annotations\":[{\"showarrow\":false,\"text\":\"Milky Way scale-length\",\"x\":\"3.5\",\"xanchor\":\"left\",\"xref\":\"x\",\"y\":1,\"yanchor\":\"top\",\"yref\":\"y domain\"},{\"showarrow\":false,\"text\":\"Sun position\",\"x\":8,\"xanchor\":\"left\",\"xref\":\"x\",\"y\":0,\"yanchor\":\"bottom\",\"yref\":\"y domain\"},{\"showarrow\":false,\"text\":\"\",\"x\":3.0058346611865,\"xanchor\":\"left\",\"xref\":\"x\",\"y\":0,\"yanchor\":\"bottom\",\"yref\":\"y domain\"}],\"legend\":{\"yanchor\":\"top\",\"y\":0.66,\"xanchor\":\"right\",\"x\":0.999},\"margin\":{\"l\":50,\"r\":50,\"b\":100,\"t\":100,\"pad\":4},\"autosize\":false,\"width\":650,\"height\":550,\"paper_bgcolor\":\"rgba(255,255,255,1)\",\"plot_bgcolor\":\"rgba(255,255,255,1)\",\"font\":{\"family\":\"tgheros\",\"color\":\"black\",\"size\":13},\"xaxis\":{\"showline\":true,\"linewidth\":0.005,\"linecolor\":\"black\",\"ticks\":\"outside\",\"range\":[0,45],\"title\":{\"text\":\"Radius     [kpc]\"}},\"yaxis\":{\"showline\":true,\"linewidth\":0.005,\"linecolor\":\"black\",\"ticks\":\"outside\",\"range\":[0,270],\"title\":{\"text\":\"Circular velocity     [km s\\u207b\\u00b9]\"}},\"title\":{\"text\":\"Rotation curve decomposition - NGC 4698\",\"x\":0.25,\"y\":0.9}},                        {\"responsive\": true}                    ).then(function(){\n",
       "                            \n",
       "var gd = document.getElementById('1bd1be30-b630-4d80-a424-bcd0c3f0573d');\n",
       "var x = new MutationObserver(function (mutations, observer) {{\n",
       "        var display = window.getComputedStyle(gd).display;\n",
       "        if (!display || display === 'none') {{\n",
       "            console.log([gd, 'removed!']);\n",
       "            Plotly.purge(gd);\n",
       "            observer.disconnect();\n",
       "        }}\n",
       "}});\n",
       "\n",
       "// Listen for the removal of the full notebook cells\n",
       "var notebookContainer = gd.closest('#notebook-container');\n",
       "if (notebookContainer) {{\n",
       "    x.observe(notebookContainer, {childList: true});\n",
       "}}\n",
       "\n",
       "// Listen for the clearing of the current output cell\n",
       "var outputEl = gd.closest('.output');\n",
       "if (outputEl) {{\n",
       "    x.observe(outputEl, {childList: true});\n",
       "}}\n",
       "\n",
       "                        })                };                });            </script>        </div>"
      ]
     },
     "metadata": {},
     "output_type": "display_data"
    }
   ],
   "source": [
    "fig = go.Figure()\n",
    "\n",
    "# fig.add_trace(go.Scatter(x = raios,y = velocidade, line=dict(color='red', width=0.7, dash='solid'),\n",
    "#                    mode = 'lines',\n",
    "#                    marker = dict(symbol = 'circle-dot', size=3, color = 'red'),\n",
    "#                    name = 'Milky Way (Sofue 2020)'))\n",
    "\n",
    "fig.add_trace(go.Scatter(x = radius[0:8]/kpc,y = velocity[0:8]/1e5, line=dict(color='black', width=0.7, dash='solid'),\n",
    "                   mode = 'markers',\n",
    "                   marker = dict(symbol = 'diamond', size=3, color = 'red'),\n",
    "                   name = 'H-alpha data (Rubin+99)'))\n",
    "\n",
    "fig.add_trace(go.Scatter(x = radius[8:200]/kpc,y = velocity[8:200]/1e5, line=dict(color='black', width=0.7, dash='solid'),\n",
    "                   mode = 'markers',\n",
    "                   marker = dict(symbol = 'square', size=3, color = 'black'),\n",
    "                   name = 'HI data'))\n",
    "\n",
    "fig.add_trace(go.Scatter(x = radius/kpc, y = fit_curve(R, *popt)/1e5,line=dict(color='black', width=0.8),\n",
    "                   mode = 'lines',\n",
    "                   marker = dict(symbol = 'circle-dot', size=5, color = 'black'),\n",
    "                   name = 'Best fit'))\n",
    "\n",
    "fig.add_trace(go.Scatter(x = radius/kpc, y = bojo/1e5,line=dict(color='rgba(255,165,0, 1)', width=1, dash='dot'),\n",
    "                   mode = 'lines',\n",
    "                   marker = dict(symbol = 'circle-dot', size=3, color = 'rgba(255,165,0, 1)'),\n",
    "                   name = 'Bulge (Hernquist)'))\n",
    "\n",
    "fig.add_trace(go.Scatter(x = radius/kpc, y = disk/1e5,line=dict(color='royalblue', width=1, dash='dash'),\n",
    "                   mode = 'lines',\n",
    "                   marker = dict(symbol = 'circle-dot', size=3, color = 'rgba(8, 0, 246, 0.8)'),\n",
    "                   name = 'Disk (Kuzmin)'))\n",
    "\n",
    "fig.add_trace(go.Scatter(x = radius/kpc, y = halo/1e5,line=dict(color = 'rgba(153, 51, 230, 1.0)', width=1, \n",
    "                   dash='dashdot'), mode = 'lines',\n",
    "                   marker = dict(symbol = 'circle-dot', size=3, color = 'rgba(153, 51, 153, 1.0)'),\n",
    "                   name = 'Halo (NFW)'))\n",
    "\n",
    "fig.add_vrect(x0=\"3.5\", x1=\"4.5\", \n",
    "              annotation_text=\"Milky Way scale-length\", annotation_position=\"top left\",\n",
    "              fillcolor=\"green\", opacity=0.2, line_width=0)\n",
    "\n",
    "fig.add_vline(x=8, annotation_text=\"Sun position\",annotation_position=\"bottom right\",\n",
    "              line_width=1.5, line_dash=\"dash\", line_color=\"green\",opacity=0.4)\n",
    "\n",
    "fig.add_vline(x=scale_length_disco, annotation_text=\"\",annotation_position=\"bottom right\",\n",
    "                  line_width=1.5, line_dash=\"dot\", line_color=\"red\",opacity=0.4)\n",
    "\n",
    "\n",
    "fig.update_layout(legend=dict(yanchor=\"top\",y=0.66,xanchor=\"right\",x=0.999),\n",
    "                              autosize=False,width=650,height=550,\n",
    "                              margin=dict(l=50,r=50,b=100,t=100,pad=4),\n",
    "                              paper_bgcolor='rgba(255,255,255,1)', plot_bgcolor='rgba(255,255,255,1)')\n",
    "\n",
    "fig.update_layout(font = dict(family=\"tgheros\", color='black', size=13),\n",
    "                                      paper_bgcolor='rgba(255,255,255,1)', plot_bgcolor='rgba(255,255,255,1)')\n",
    "\n",
    "\n",
    "fig.update_xaxes(showline=True, linewidth=0.005, linecolor='black',ticks=\"outside\")\n",
    "fig.update_yaxes(showline=True, linewidth=0.005, linecolor='black',ticks=\"outside\")\n",
    "\n",
    "fig.update_layout(title = dict(text = \"Rotation curve decomposition - NGC 4698\",x = .25,y=.9), \n",
    "                  xaxis = dict(range = [0,45], title = 'Radius     [kpc]'),\n",
    "                  yaxis = dict(range = [0,270], title = 'Circular velocity     [km s⁻¹]'))\n",
    "\n",
    "# with open(\"NGC4579 RC.html\", \"w\") as f:\n",
    "#     f.write(fig.to_html())"
   ]
  },
  {
   "cell_type": "markdown",
   "id": "725b2f69",
   "metadata": {},
   "source": [
    "## Valores para a Milky Way\n",
    "\n",
    "#### Lengh-scale do disco: \n",
    "Em torno de 3.5-4.5 kpc\n",
    "\n",
    "4.8 kpc segundo Ken Freeman (https://ned.ipac.caltech.edu/level5/Sept15/Freeman/Freeman_contents.html)\n",
    "\n",
    "Adicionar a componente de gás na curva de rotação a partir da massa que eu calculo com VIVA\n",
    "##### "
   ]
  },
  {
   "cell_type": "markdown",
   "id": "b41b1f20",
   "metadata": {},
   "source": [
    "$$\\textrm{Massa cumulativa no modelo de Hernquist: } M_b(<R)= M_b \\frac{R^2}{(R+A)^2} \\qquad (Bojo)$$"
   ]
  },
  {
   "cell_type": "code",
   "execution_count": 43,
   "id": "701b054e",
   "metadata": {},
   "outputs": [
    {
     "data": {
      "text/plain": [
       "[4.0714855980081125e+43,\n",
       " 4.0714855980081125e+43,\n",
       " 4.0714855980081125e+43,\n",
       " 4.0714855980081125e+43,\n",
       " 4.0714855980081125e+43,\n",
       " 4.0714855980081125e+43,\n",
       " 4.0714855980081125e+43,\n",
       " 4.0714855980081125e+43,\n",
       " 4.0714855980081125e+43,\n",
       " 4.0714855980081125e+43,\n",
       " 4.0714855980081125e+43,\n",
       " 4.0714855980081125e+43,\n",
       " 4.0714855980081125e+43,\n",
       " 4.0714855980081125e+43,\n",
       " 4.0714855980081125e+43,\n",
       " 4.0714855980081125e+43,\n",
       " 4.0714855980081125e+43,\n",
       " 4.0714855980081125e+43,\n",
       " 4.0714855980081125e+43,\n",
       " 4.0714855980081125e+43,\n",
       " 4.0714855980081125e+43,\n",
       " 4.0714855980081125e+43,\n",
       " 4.0714855980081125e+43,\n",
       " 4.0714855980081125e+43,\n",
       " 4.0714855980081125e+43,\n",
       " 4.0714855980081125e+43,\n",
       " 4.0714855980081125e+43,\n",
       " 4.0714855980081125e+43,\n",
       " 4.0714855980081125e+43,\n",
       " 4.0714855980081125e+43,\n",
       " 4.0714855980081125e+43,\n",
       " 4.0714855980081125e+43,\n",
       " 4.0714855980081125e+43,\n",
       " 4.0714855980081125e+43,\n",
       " 4.0714855980081125e+43,\n",
       " 4.0714855980081125e+43,\n",
       " 4.0714855980081125e+43,\n",
       " 4.0714855980081125e+43,\n",
       " 4.0714855980081125e+43,\n",
       " 4.0714855980081125e+43,\n",
       " 4.0714855980081125e+43,\n",
       " 4.0714855980081125e+43,\n",
       " 4.0714855980081125e+43,\n",
       " 4.0714855980081125e+43,\n",
       " 4.0714855980081125e+43,\n",
       " 4.0714855980081125e+43,\n",
       " 4.0714855980081125e+43]"
      ]
     },
     "execution_count": 43,
     "metadata": {},
     "output_type": "execute_result"
    }
   ],
   "source": [
    "bojo = bojo/1e5\n",
    "massabojo = []\n",
    "for i in range(len(bojo)):\n",
    "    massabojo.append(M_b*(radius[i]**2/(radius[i]+scale_length_bojo)**2))\n",
    "    \n",
    "massabojo"
   ]
  },
  {
   "cell_type": "code",
   "execution_count": 39,
   "id": "dd1d23d3",
   "metadata": {},
   "outputs": [
    {
     "data": {
      "text/plain": [
       "array([10.31111814, 10.31111814, 10.31111814, 10.31111814, 10.31111814,\n",
       "       10.31111814, 10.31111814, 10.31111814, 10.31111814, 10.31111814,\n",
       "       10.31111814, 10.31111814, 10.31111814, 10.31111814, 10.31111814,\n",
       "       10.31111814, 10.31111814, 10.31111814, 10.31111814, 10.31111814,\n",
       "       10.31111814, 10.31111814, 10.31111814, 10.31111814, 10.31111814,\n",
       "       10.31111814, 10.31111814, 10.31111814, 10.31111814, 10.31111814,\n",
       "       10.31111814, 10.31111814, 10.31111814, 10.31111814, 10.31111814,\n",
       "       10.31111814, 10.31111814, 10.31111814, 10.31111814, 10.31111814,\n",
       "       10.31111814, 10.31111814, 10.31111814, 10.31111814, 10.31111814,\n",
       "       10.31111814, 10.31111814])"
      ]
     },
     "execution_count": 39,
     "metadata": {},
     "output_type": "execute_result"
    }
   ],
   "source": [
    "massa_do_bojo"
   ]
  },
  {
   "cell_type": "markdown",
   "id": "b1720834",
   "metadata": {},
   "source": [
    "Talvez o problema seja pq eu deixei de considerar a massa do bojo como uma lista de massas que evolui com o raio e passei a usar só o valor absoluto final!"
   ]
  }
 ],
 "metadata": {
  "kernelspec": {
   "display_name": "Python 3 (ipykernel)",
   "language": "python",
   "name": "python3"
  },
  "language_info": {
   "codemirror_mode": {
    "name": "ipython",
    "version": 3
   },
   "file_extension": ".py",
   "mimetype": "text/x-python",
   "name": "python",
   "nbconvert_exporter": "python",
   "pygments_lexer": "ipython3",
   "version": "3.10.4"
  }
 },
 "nbformat": 4,
 "nbformat_minor": 5
}
