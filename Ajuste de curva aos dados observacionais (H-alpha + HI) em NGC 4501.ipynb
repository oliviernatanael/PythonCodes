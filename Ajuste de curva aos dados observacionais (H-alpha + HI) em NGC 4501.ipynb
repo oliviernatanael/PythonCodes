{
 "cells": [
  {
   "cell_type": "markdown",
   "metadata": {},
   "source": [
    "# Ajustando uma curva aos dados da galáxia NGC 4501:"
   ]
  },
  {
   "cell_type": "code",
   "execution_count": 13,
   "metadata": {
    "scrolled": false
   },
   "outputs": [],
   "source": [
    "import matplotlib.pyplot as plt\n",
    "from scipy.optimize import curve_fit\n",
    "import numpy as np\n",
    "import plotly.graph_objs as go\n",
    "from numpy import arange\n",
    "from scipy.optimize import curve_fit\n",
    "from matplotlib import pyplot"
   ]
  },
  {
   "cell_type": "markdown",
   "metadata": {},
   "source": [
    "Dados derivados da curva de rotação.\n",
    "\n",
    "- 'xdata' mostra a distância radial, em kpc.\n",
    "\n",
    "- 'ydata' mostra a velocidade, em km s⁻¹."
   ]
  },
  {
   "cell_type": "code",
   "execution_count": 26,
   "metadata": {},
   "outputs": [
    {
     "name": "stdout",
     "output_type": "stream",
     "text": [
      "15\n"
     ]
    }
   ],
   "source": [
    "l = [0.3,0.49,0.71,1.11,1.42,1.74,2.1,2.67,3.4,4.06,4.59,5.12,5.8,6.57,7.26]\n",
    "g = [12.9,46.8,83.8,166.3,199.06,227.5,244.6,253.2,274.6,270.4,294.64,293.27,303.3,293.4,296.33]\n",
    "print(len(g))"
   ]
  },
  {
   "cell_type": "code",
   "execution_count": 46,
   "metadata": {},
   "outputs": [],
   "source": [
    "# Gás se aproximando\n",
    "\n",
    "radius = np.array([ 0.3,0.49,0.71,1.11,1.42,1.74,2.1,2.67,3.4,4.06,4.59,5.12,5.8,6.57,7.26,\n",
    "        8.86475423, 10.60604524, 12.34733625, 14.08862726, 15.82991827,\n",
    "       17.57120928, 19.31250029, 21.0537913 , 22.79508231, 24.53637332,\n",
    "       26.27766432, 28.01895533, 29.76024634, 31.50153735, 33.24282836,\n",
    "       34.98411937, 36.72541038, 38.46670139, 40.2079924 , 41.94928341,\n",
    "       43.69057442, 45.43186543, 47.17315644])\n",
    "\n",
    "velocity = np.array([12.9,46.8,83.8,166.3,199.06,227.5,244.6,253.2,274.6,270.4,294.64,293.27,303.3,293.4,296.33,\n",
    "                     210.32529973, 211.68917458, 213.26239175,\n",
    "       215.42438416, 223.88699865, 229.4820596 , 236.16211461,\n",
    "       236.16211461, 230.20288526, 230.21063868, 230.17187159,\n",
    "       231.58226695, 228.89304205, 231.93868193, 230.71436862,\n",
    "       226.84735092, 229.45104592, 230.56705366, 233.6744786 ,\n",
    "       236.5650501 , 236.5650501 , 241.07535928, 246.50784072])"
   ]
  },
  {
   "cell_type": "code",
   "execution_count": 47,
   "metadata": {},
   "outputs": [],
   "source": [
    "kpc = 3.086e+21 # conversão de [kpc] para [cm];\n",
    "massa_solar = 1.9889999e+33 # conversão de [massa solar] para [g];\n",
    "radius = radius * 3.086e+21 # passar de [kpc] para [cm], a fim de deixar as unidades no sistema cgs;\n",
    "velocity = velocity * 1e5 # passar de [km s⁻¹] para [cm s⁻¹];\n",
    "G = 6.67e-8 # constante gravitacional em [cm³ g⁻¹ s⁻²];\n",
    "diametropixel = 0.085993765 # em [kpc]"
   ]
  },
  {
   "cell_type": "code",
   "execution_count": 48,
   "metadata": {},
   "outputs": [],
   "source": [
    "# diametropixel = 0.085993765 # em [kpc]\n",
    "# scale_radius_halo = (216.17887*2)*diametropixel # quantidade de pixels que correspondem ao raio halo multiplicada por 2,\n",
    "#                                         # vezes o diâmetro físico de cada pixel\n",
    "# print('O raio do halo é: ',scale_radius_halo,' kpc!') # em [kpc]"
   ]
  },
  {
   "cell_type": "code",
   "execution_count": 57,
   "metadata": {},
   "outputs": [
    {
     "name": "stdout",
     "output_type": "stream",
     "text": [
      "O raio do bojo é:  0.7218824363496392  kpc!\n"
     ]
    }
   ],
   "source": [
    "scale_length_bojo = (15.2387/1.8153)*diametropixel # valor tirado de S4G: https://irsa.ipac.caltech.edu/data/SPITZER/S4G/galaxies/NGC4698/P4/NGC4698_bd.outgal\n",
    "                                                # tá dividido por 1.7 porque tem uma relação que diz que o raio efetivo é 1.7 x o scale length: http://burro.case.edu/Academics/Astr222/Galaxies/Intro/properties.html\n",
    "\n",
    "print('O raio do bojo é: ',scale_length_bojo,' kpc!') # em [kpc]"
   ]
  },
  {
   "cell_type": "code",
   "execution_count": 58,
   "metadata": {},
   "outputs": [
    {
     "name": "stdout",
     "output_type": "stream",
     "text": [
      "O raio do disco é:  4.547935050802  kpc!\n"
     ]
    }
   ],
   "source": [
    "scale_length_disco = (52.8868)*diametropixel # valor tirado de S4G: https://irsa.ipac.caltech.edu/data/SPITZER/S4G/galaxies/NGC4698/P4/NGC4698_bd.outgal\n",
    "\n",
    "print('O raio do disco é: ',scale_length_disco,' kpc!') # em [kpc]"
   ]
  },
  {
   "cell_type": "markdown",
   "metadata": {},
   "source": [
    "Definindo a função Python a partir da equação 8.16, de Dynamics and Astrophysics of Galaxies, disponível em:\n",
    "http://astro.utoronto.ca/~bovy/AST1420/notes/notebooks/07.-Flattened-Mass-Distributions.html#Some-general-considerations#\n"
   ]
  },
  {
   "cell_type": "code",
   "execution_count": 59,
   "metadata": {
    "scrolled": false
   },
   "outputs": [],
   "source": [
    "def fit_curve(radius,M_h,R_h):\n",
    "    G = 6.67e-8\n",
    "    a = scale_length_disco * kpc\n",
    "    R = radius\n",
    "    R_b = scale_length_bojo * kpc\n",
    "#     R_h = scale_radius_halo * kpc\n",
    "    M_b = 7722834333.776 * massa_solar\n",
    "    M_d = 125179189956.762 * massa_solar\n",
    "    \n",
    "    comp1 = ((G*M_b*R)/(R+R_b)**2)\n",
    "    comp2 = ((G*M_d*(R**2))/(((R**2)+(a**2))**(3/2)))\n",
    "    comp3 = (R*((2*G*M_h*(R+R_h)*np.log((R+R_h)/R_h)-2*G*M_h*R)/((R**2)*np.log(4)*R_h + \n",
    "                                                    (R**3)*np.log(4)-(R**2)*R_h-R**3)))\n",
    "    \n",
    "    return np.sqrt(comp1 + comp2 + comp3)"
   ]
  },
  {
   "cell_type": "code",
   "execution_count": 60,
   "metadata": {},
   "outputs": [
    {
     "name": "stderr",
     "output_type": "stream",
     "text": [
      "/tmp/ipykernel_24962/3873076506.py:15: RuntimeWarning:\n",
      "\n",
      "invalid value encountered in sqrt\n",
      "\n"
     ]
    }
   ],
   "source": [
    "a = scale_length_disco * kpc\n",
    "R = radius\n",
    "R_b = scale_length_bojo * kpc\n",
    "# R_h = scale_radius_halo * kpc\n",
    "M_b = 7722834333.776 * massa_solar\n",
    "M_d = 125179189956.762 * massa_solar\n",
    "\n",
    "popt, pcov = curve_fit(fit_curve, radius, velocity, p0=[6e11*massa_solar,40*kpc])#, 1.1*kpc, 35*kpc])\n",
    "#                                                     bounds=((1e8*massa_solar, 1e10*massa_solar,\n",
    "#                                                              1e11*massa_solar, 0.2*kpc, 5*kpc),\n",
    "#                                                             (3e10*massa_solar, 3e11*massa_solar,\n",
    "#                                                              5e15*massa_solar, 4*kpc, 5000*kpc)))\n",
    "M_h,R_h = popt"
   ]
  },
  {
   "cell_type": "code",
   "execution_count": 61,
   "metadata": {},
   "outputs": [
    {
     "name": "stdout",
     "output_type": "stream",
     "text": [
      "Massa do Bojo (log):    9.888\n",
      "Massa do Disco (log):   11.098\n",
      "\"Massa\" do Halo (log):  11.027\n",
      "Scale lenght do Bojo:   0.72  kpc\n",
      "Scale radius do Halo:   14.27 kpc\n",
      "Scale lenght do Disco:  4.55  kpc\n"
     ]
    }
   ],
   "source": [
    "print('Massa do Bojo (log):   ',round(np.log10(M_b/massa_solar),3))\n",
    "print('Massa do Disco (log):  ',round(np.log10(M_d/massa_solar),3))\n",
    "print('\"Massa\" do Halo (log): ',round(np.log10(M_h/massa_solar),3))\n",
    "print('Scale lenght do Bojo:  ',round((R_b/kpc),2), ' kpc')\n",
    "print('Scale radius do Halo:  ',round((R_h/kpc),2), 'kpc')\n",
    "print('Scale lenght do Disco: ',round((a/kpc),2), ' kpc')"
   ]
  },
  {
   "cell_type": "markdown",
   "metadata": {},
   "source": [
    "# Gerando cada curva isoladamente:"
   ]
  },
  {
   "cell_type": "code",
   "execution_count": 62,
   "metadata": {
    "scrolled": false
   },
   "outputs": [],
   "source": [
    "# Bojo de Hernquist\n",
    "bojo = np.sqrt((G*M_b*R)/(R+R_b)**2)\n",
    "\n",
    "# Disco de Kuzmin\n",
    "disk = np.sqrt((G*M_d*(R**2))/(((R**2)+(a**2))**(3/2)))\n",
    "\n",
    "# Halo de NFW\n",
    "halo = np.sqrt(R*((2*G*M_h*(R+R_h)*np.log((R+R_h)/R_h)-2*G*M_h*R)/((R**2)*np.log(4)*R_h + \n",
    "                                                    (R**3)*np.log(4)-(R**2)*R_h-R**3)))"
   ]
  },
  {
   "cell_type": "markdown",
   "metadata": {},
   "source": [
    "# Plot final"
   ]
  },
  {
   "cell_type": "code",
   "execution_count": 63,
   "metadata": {},
   "outputs": [],
   "source": [
    "velocidade = []\n",
    "raios = []\n",
    "for line in open('/home/natanael/Área de Trabalho/Iniciação Científica/Milky Way rotation curve.txt', 'r'):\n",
    "    values = [float(s) for s in line.split()]\n",
    "    velocidade.append(values[1])\n",
    "    raios.append(values[0])"
   ]
  },
  {
   "cell_type": "code",
   "execution_count": 69,
   "metadata": {},
   "outputs": [
    {
     "data": {
      "application/vnd.plotly.v1+json": {
       "config": {
        "plotlyServerURL": "https://plot.ly"
       },
       "data": [
        {
         "line": {
          "color": "red",
          "dash": "solid",
          "width": 0.7
         },
         "marker": {
          "color": "red",
          "size": 3,
          "symbol": "circle-dot"
         },
         "mode": "lines",
         "name": "Milky Way (Sofue 2020)",
         "type": "scatter",
         "x": [
          2.555,
          2.81,
          3.091,
          3.4,
          3.74,
          4.114,
          4.526,
          4.979,
          5.476,
          6.024,
          6.626,
          7.289,
          8.018,
          8.82,
          9.702,
          10.672,
          11.739,
          12.913,
          14.204,
          15.625,
          17.187,
          18.906,
          20.797,
          22.876,
          25.164,
          27.68,
          30.448,
          33.493,
          36.842,
          40.527,
          44.579
         ],
         "y": [
          208.9,
          210.7,
          213.4,
          217.2,
          222,
          226.6,
          229.5,
          231.6,
          234.1,
          237.2,
          239.5,
          240.1,
          239,
          236.7,
          234.5,
          234.2,
          237.1,
          242.8,
          248.5,
          249.7,
          246.2,
          243.3,
          243.9,
          245.6,
          243.7,
          237.3,
          229.6,
          222.5,
          215,
          207.1,
          200.3
         ]
        },
        {
         "line": {
          "color": "black",
          "dash": "solid",
          "width": 0.7
         },
         "marker": {
          "color": "red",
          "size": 3,
          "symbol": "diamond"
         },
         "mode": "markers",
         "name": "H-alpha data (Rubin+99)",
         "type": "scatter",
         "x": [
          0.3,
          0.48999999999999994,
          0.71,
          1.11,
          1.42,
          1.74,
          2.1,
          2.67,
          3.4000000000000004,
          4.06,
          4.59,
          5.12,
          5.8,
          6.57,
          7.260000000000001
         ],
         "y": [
          12.9,
          46.8,
          83.8,
          166.3,
          199.06,
          227.5,
          244.6,
          253.2,
          274.6,
          270.4,
          294.64,
          293.27,
          303.3,
          293.4,
          296.33
         ]
        },
        {
         "line": {
          "color": "black",
          "dash": "solid",
          "width": 0.7
         },
         "marker": {
          "color": "black",
          "size": 3,
          "symbol": "square"
         },
         "mode": "markers",
         "name": "HI data",
         "type": "scatter",
         "x": [
          8.86475423,
          10.60604524,
          12.34733625,
          14.08862726,
          15.82991827,
          17.57120928,
          19.31250029,
          21.0537913,
          22.79508231,
          24.53637332,
          26.27766432,
          28.01895533,
          29.76024634,
          31.50153735,
          33.24282836,
          34.98411937,
          36.72541038,
          38.46670139,
          40.2079924,
          41.94928341,
          43.69057442,
          45.43186543,
          47.17315644
         ],
         "y": [
          210.32529973,
          211.68917458,
          213.26239175,
          215.42438416,
          223.88699865,
          229.4820596,
          236.16211461,
          236.16211461,
          230.20288526000002,
          230.21063867999996,
          230.17187159,
          231.58226695,
          228.89304205,
          231.93868193,
          230.71436862,
          226.84735092,
          229.45104592,
          230.56705366,
          233.6744786,
          236.5650501,
          236.5650501,
          241.07535928,
          246.50784072000002
         ]
        },
        {
         "line": {
          "color": "black",
          "width": 0.8
         },
         "marker": {
          "color": "black",
          "size": 5,
          "symbol": "circle-dot"
         },
         "mode": "lines",
         "name": "Best fit",
         "type": "scatter",
         "x": [
          0.3,
          0.48999999999999994,
          0.71,
          1.11,
          1.42,
          1.74,
          2.1,
          2.67,
          3.4000000000000004,
          4.06,
          4.59,
          5.12,
          5.8,
          6.57,
          7.260000000000001,
          8.86475423,
          10.60604524,
          12.34733625,
          14.08862726,
          15.82991827,
          17.57120928,
          19.31250029,
          21.0537913,
          22.79508231,
          24.53637332,
          26.27766432,
          28.01895533,
          29.76024634,
          31.50153735,
          33.24282836,
          34.98411937,
          36.72541038,
          38.46670139,
          40.2079924,
          41.94928341,
          43.69057442,
          45.43186543,
          47.17315644
         ],
         "y": [
          108.37902752024615,
          123.08568782129426,
          134.7113578447319,
          152.58613608632805,
          166.0742586462091,
          179.76026559972306,
          194.39995002268478,
          214.9185108162636,
          235.47800229205467,
          248.77487829764374,
          256.40941669969453,
          261.879996681377,
          266.46255390646735,
          269.2639485209946,
          270.29598840061317,
          269.57761685518966,
          266.50074725180696,
          262.688309418589,
          258.8091161588545,
          255.1047554567494,
          251.64689173905725,
          248.4408441314018,
          245.46785554038743,
          242.7023547751702,
          240.11880252906707,
          237.69415313851286,
          235.40848712106936,
          233.24491407280374,
          231.18921965058274,
          229.22945720346942,
          227.35556358463316,
          225.55902585013314,
          223.8326030451221,
          222.1700984617158,
          220.56617499196955,
          219.01620600857137,
          217.5161549988127,
          216.06247824837143
         ]
        },
        {
         "line": {
          "color": "rgba(255,165,0, 1)",
          "dash": "dot",
          "width": 1
         },
         "marker": {
          "color": "rgba(255,165,0, 1)",
          "size": 3,
          "symbol": "circle-dot"
         },
         "mode": "lines",
         "name": "Bulge",
         "type": "scatter",
         "x": [
          0.3,
          0.48999999999999994,
          0.71,
          1.11,
          1.42,
          1.74,
          2.1,
          2.67,
          3.4000000000000004,
          4.06,
          4.59,
          5.12,
          5.8,
          6.57,
          7.260000000000001,
          8.86475423,
          10.60604524,
          12.34733625,
          14.08862726,
          15.82991827,
          17.57120928,
          19.31250029,
          21.0537913,
          22.79508231,
          24.53637332,
          26.27766432,
          28.01895533,
          29.76024634,
          31.50153735,
          33.24282836,
          34.98411937,
          36.72541038,
          38.46670139,
          40.2079924,
          41.94928341,
          43.69057442,
          45.43186543,
          47.17315644
         ],
         "y": [
          97.66307374213237,
          105.24664118073946,
          107.22412439643603,
          104.79355817671679,
          101.37228564907015,
          97.62881326417151,
          93.57103364136957,
          87.77797056414784,
          81.51068706008772,
          76.77765053496897,
          73.49005700829251,
          70.57532125419034,
          67.28398834628469,
          64.0492019386227,
          61.50829371943677,
          56.589750339656064,
          52.38379596168153,
          48.99003036835329,
          46.17799058837397,
          43.799059387751946,
          41.75268509299771,
          39.968144024812105,
          38.39407880656475,
          36.992187212080765,
          35.73325059283752,
          34.594543380687746,
          33.55809060403352,
          32.609464230852076,
          31.73693201124221,
          30.930843151230075,
          30.18317672531657,
          29.48720425705906,
          28.83723387537981,
          28.22841373228937,
          27.656579122647567,
          27.118132275100713,
          26.609946874572664,
          26.129291521909018
         ]
        },
        {
         "line": {
          "color": "royalblue",
          "dash": "dash",
          "width": 1
         },
         "marker": {
          "color": "rgba(8, 0, 246, 0.8)",
          "size": 3,
          "symbol": "circle-dot"
         },
         "mode": "lines",
         "name": "Disk",
         "type": "scatter",
         "x": [
          0.3,
          0.48999999999999994,
          0.71,
          1.11,
          1.42,
          1.74,
          2.1,
          2.67,
          3.4000000000000004,
          4.06,
          4.59,
          5.12,
          5.8,
          6.57,
          7.260000000000001,
          8.86475423,
          10.60604524,
          12.34733625,
          14.08862726,
          15.82991827,
          17.57120928,
          19.31250029,
          21.0537913,
          22.79508231,
          24.53637332,
          26.27766432,
          28.01895533,
          29.76024634,
          31.50153735,
          33.24282836,
          34.98411937,
          36.72541038,
          38.46670139,
          40.2079924,
          41.94928341,
          43.69057442,
          45.43186543,
          47.17315644
         ],
         "y": [
          22.616951194572056,
          36.74209021486366,
          52.74024609614311,
          80.39021516009451,
          100.16493925714562,
          118.79029142265817,
          137.40229984472276,
          161.72543176680713,
          184.32894388063912,
          197.85797639645543,
          205.0003416834044,
          209.58096612735432,
          212.63478520299697,
          213.37826181140042,
          212.39854226639417,
          206.78047387206198,
          198.4688767536164,
          189.767929741676,
          181.43731072799835,
          173.73036073493688,
          166.69654575370166,
          160.30568973809108,
          154.49991830589187,
          149.21540129973874,
          144.39114570711675,
          139.97215530365546,
          135.91015218892855,
          132.16328512914063,
          128.6954643316976,
          125.47560746379393,
          122.4769175526296,
          119.67623814912072,
          117.05349688955991,
          114.59123380861558,
          112.27420512265192,
          110.08905178626874,
          108.02402255580411,
          106.06874243704881
         ]
        },
        {
         "line": {
          "color": "rgba(153, 51, 230, 1.0)",
          "dash": "dashdot",
          "width": 1
         },
         "marker": {
          "color": "rgba(153, 51, 153, 1.0)",
          "size": 3,
          "symbol": "circle-dot"
         },
         "mode": "lines",
         "name": "Halo",
         "type": "scatter",
         "x": [
          0.3,
          0.48999999999999994,
          0.71,
          1.11,
          1.42,
          1.74,
          2.1,
          2.67,
          3.4000000000000004,
          4.06,
          4.59,
          5.12,
          5.8,
          6.57,
          7.260000000000001,
          8.86475423,
          10.60604524,
          12.34733625,
          14.08862726,
          15.82991827,
          17.57120928,
          19.31250029,
          21.0537913,
          22.79508231,
          24.53637332,
          26.27766432,
          28.01895533,
          29.76024634,
          31.50153735,
          33.24282836,
          34.98411937,
          36.72541038,
          38.46670139,
          40.2079924,
          41.94928341,
          43.69057442,
          45.43186543,
          47.17315644
         ],
         "y": [
          41.18751208965445,
          52.18476667818496,
          62.19809901843694,
          76.40845762696833,
          85.27194163840542,
          93.11946398488583,
          100.77901681148177,
          111.03998781952306,
          121.77330539283867,
          129.79350379212863,
          135.35087884045288,
          140.27143447199305,
          145.81359905114945,
          151.22992789288693,
          155.44616557605625,
          163.4366155152032,
          169.96673547072157,
          174.90928411969014,
          178.69038605347313,
          181.59801874553804,
          183.8345262545581,
          185.5464533035602,
          186.84254884705615,
          187.80515198906784,
          188.49766887537035,
          188.96963709592572,
          189.26024647459496,
          189.40084172801303,
          189.41673603356156,
          189.32854756571476,
          189.1531992921633,
          188.90467688767913,
          188.5946101941878,
          188.23272415514361,
          187.82719197682093,
          187.3849142089602,
          186.91174110703443,
          186.41265115118682
         ]
        }
       ],
       "layout": {
        "annotations": [
         {
          "showarrow": false,
          "text": "Milky Way scale-length",
          "x": "3.5",
          "xanchor": "left",
          "xref": "x",
          "y": 1,
          "yanchor": "top",
          "yref": "y domain"
         },
         {
          "showarrow": false,
          "text": "Sun position",
          "x": 8,
          "xanchor": "left",
          "xref": "x",
          "y": 0,
          "yanchor": "bottom",
          "yref": "y domain"
         },
         {
          "showarrow": false,
          "text": "",
          "x": 4.547935050802,
          "xanchor": "left",
          "xref": "x",
          "y": 0,
          "yanchor": "bottom",
          "yref": "y domain"
         }
        ],
        "autosize": false,
        "height": 550,
        "legend": {
         "x": 0.98,
         "xanchor": "right",
         "y": 0.55,
         "yanchor": "top"
        },
        "margin": {
         "b": 100,
         "l": 50,
         "pad": 4,
         "r": 50,
         "t": 100
        },
        "paper_bgcolor": "rgba(255,255,255,1)",
        "plot_bgcolor": "rgba(255,255,255,1)",
        "shapes": [
         {
          "fillcolor": "green",
          "line": {
           "width": 0
          },
          "opacity": 0.2,
          "type": "rect",
          "x0": "3.5",
          "x1": "4.5",
          "xref": "x",
          "y0": 0,
          "y1": 1,
          "yref": "y domain"
         },
         {
          "line": {
           "color": "green",
           "dash": "dash",
           "width": 1.5
          },
          "opacity": 0.4,
          "type": "line",
          "x0": 8,
          "x1": 8,
          "xref": "x",
          "y0": 0,
          "y1": 1,
          "yref": "y domain"
         },
         {
          "line": {
           "color": "red",
           "dash": "dot",
           "width": 1.5
          },
          "opacity": 0.4,
          "type": "line",
          "x0": 4.547935050802,
          "x1": 4.547935050802,
          "xref": "x",
          "y0": 0,
          "y1": 1,
          "yref": "y domain"
         }
        ],
        "template": {
         "data": {
          "bar": [
           {
            "error_x": {
             "color": "#2a3f5f"
            },
            "error_y": {
             "color": "#2a3f5f"
            },
            "marker": {
             "line": {
              "color": "#E5ECF6",
              "width": 0.5
             },
             "pattern": {
              "fillmode": "overlay",
              "size": 10,
              "solidity": 0.2
             }
            },
            "type": "bar"
           }
          ],
          "barpolar": [
           {
            "marker": {
             "line": {
              "color": "#E5ECF6",
              "width": 0.5
             },
             "pattern": {
              "fillmode": "overlay",
              "size": 10,
              "solidity": 0.2
             }
            },
            "type": "barpolar"
           }
          ],
          "carpet": [
           {
            "aaxis": {
             "endlinecolor": "#2a3f5f",
             "gridcolor": "white",
             "linecolor": "white",
             "minorgridcolor": "white",
             "startlinecolor": "#2a3f5f"
            },
            "baxis": {
             "endlinecolor": "#2a3f5f",
             "gridcolor": "white",
             "linecolor": "white",
             "minorgridcolor": "white",
             "startlinecolor": "#2a3f5f"
            },
            "type": "carpet"
           }
          ],
          "choropleth": [
           {
            "colorbar": {
             "outlinewidth": 0,
             "ticks": ""
            },
            "type": "choropleth"
           }
          ],
          "contour": [
           {
            "colorbar": {
             "outlinewidth": 0,
             "ticks": ""
            },
            "colorscale": [
             [
              0,
              "#0d0887"
             ],
             [
              0.1111111111111111,
              "#46039f"
             ],
             [
              0.2222222222222222,
              "#7201a8"
             ],
             [
              0.3333333333333333,
              "#9c179e"
             ],
             [
              0.4444444444444444,
              "#bd3786"
             ],
             [
              0.5555555555555556,
              "#d8576b"
             ],
             [
              0.6666666666666666,
              "#ed7953"
             ],
             [
              0.7777777777777778,
              "#fb9f3a"
             ],
             [
              0.8888888888888888,
              "#fdca26"
             ],
             [
              1,
              "#f0f921"
             ]
            ],
            "type": "contour"
           }
          ],
          "contourcarpet": [
           {
            "colorbar": {
             "outlinewidth": 0,
             "ticks": ""
            },
            "type": "contourcarpet"
           }
          ],
          "heatmap": [
           {
            "colorbar": {
             "outlinewidth": 0,
             "ticks": ""
            },
            "colorscale": [
             [
              0,
              "#0d0887"
             ],
             [
              0.1111111111111111,
              "#46039f"
             ],
             [
              0.2222222222222222,
              "#7201a8"
             ],
             [
              0.3333333333333333,
              "#9c179e"
             ],
             [
              0.4444444444444444,
              "#bd3786"
             ],
             [
              0.5555555555555556,
              "#d8576b"
             ],
             [
              0.6666666666666666,
              "#ed7953"
             ],
             [
              0.7777777777777778,
              "#fb9f3a"
             ],
             [
              0.8888888888888888,
              "#fdca26"
             ],
             [
              1,
              "#f0f921"
             ]
            ],
            "type": "heatmap"
           }
          ],
          "heatmapgl": [
           {
            "colorbar": {
             "outlinewidth": 0,
             "ticks": ""
            },
            "colorscale": [
             [
              0,
              "#0d0887"
             ],
             [
              0.1111111111111111,
              "#46039f"
             ],
             [
              0.2222222222222222,
              "#7201a8"
             ],
             [
              0.3333333333333333,
              "#9c179e"
             ],
             [
              0.4444444444444444,
              "#bd3786"
             ],
             [
              0.5555555555555556,
              "#d8576b"
             ],
             [
              0.6666666666666666,
              "#ed7953"
             ],
             [
              0.7777777777777778,
              "#fb9f3a"
             ],
             [
              0.8888888888888888,
              "#fdca26"
             ],
             [
              1,
              "#f0f921"
             ]
            ],
            "type": "heatmapgl"
           }
          ],
          "histogram": [
           {
            "marker": {
             "pattern": {
              "fillmode": "overlay",
              "size": 10,
              "solidity": 0.2
             }
            },
            "type": "histogram"
           }
          ],
          "histogram2d": [
           {
            "colorbar": {
             "outlinewidth": 0,
             "ticks": ""
            },
            "colorscale": [
             [
              0,
              "#0d0887"
             ],
             [
              0.1111111111111111,
              "#46039f"
             ],
             [
              0.2222222222222222,
              "#7201a8"
             ],
             [
              0.3333333333333333,
              "#9c179e"
             ],
             [
              0.4444444444444444,
              "#bd3786"
             ],
             [
              0.5555555555555556,
              "#d8576b"
             ],
             [
              0.6666666666666666,
              "#ed7953"
             ],
             [
              0.7777777777777778,
              "#fb9f3a"
             ],
             [
              0.8888888888888888,
              "#fdca26"
             ],
             [
              1,
              "#f0f921"
             ]
            ],
            "type": "histogram2d"
           }
          ],
          "histogram2dcontour": [
           {
            "colorbar": {
             "outlinewidth": 0,
             "ticks": ""
            },
            "colorscale": [
             [
              0,
              "#0d0887"
             ],
             [
              0.1111111111111111,
              "#46039f"
             ],
             [
              0.2222222222222222,
              "#7201a8"
             ],
             [
              0.3333333333333333,
              "#9c179e"
             ],
             [
              0.4444444444444444,
              "#bd3786"
             ],
             [
              0.5555555555555556,
              "#d8576b"
             ],
             [
              0.6666666666666666,
              "#ed7953"
             ],
             [
              0.7777777777777778,
              "#fb9f3a"
             ],
             [
              0.8888888888888888,
              "#fdca26"
             ],
             [
              1,
              "#f0f921"
             ]
            ],
            "type": "histogram2dcontour"
           }
          ],
          "mesh3d": [
           {
            "colorbar": {
             "outlinewidth": 0,
             "ticks": ""
            },
            "type": "mesh3d"
           }
          ],
          "parcoords": [
           {
            "line": {
             "colorbar": {
              "outlinewidth": 0,
              "ticks": ""
             }
            },
            "type": "parcoords"
           }
          ],
          "pie": [
           {
            "automargin": true,
            "type": "pie"
           }
          ],
          "scatter": [
           {
            "fillpattern": {
             "fillmode": "overlay",
             "size": 10,
             "solidity": 0.2
            },
            "type": "scatter"
           }
          ],
          "scatter3d": [
           {
            "line": {
             "colorbar": {
              "outlinewidth": 0,
              "ticks": ""
             }
            },
            "marker": {
             "colorbar": {
              "outlinewidth": 0,
              "ticks": ""
             }
            },
            "type": "scatter3d"
           }
          ],
          "scattercarpet": [
           {
            "marker": {
             "colorbar": {
              "outlinewidth": 0,
              "ticks": ""
             }
            },
            "type": "scattercarpet"
           }
          ],
          "scattergeo": [
           {
            "marker": {
             "colorbar": {
              "outlinewidth": 0,
              "ticks": ""
             }
            },
            "type": "scattergeo"
           }
          ],
          "scattergl": [
           {
            "marker": {
             "colorbar": {
              "outlinewidth": 0,
              "ticks": ""
             }
            },
            "type": "scattergl"
           }
          ],
          "scattermapbox": [
           {
            "marker": {
             "colorbar": {
              "outlinewidth": 0,
              "ticks": ""
             }
            },
            "type": "scattermapbox"
           }
          ],
          "scatterpolar": [
           {
            "marker": {
             "colorbar": {
              "outlinewidth": 0,
              "ticks": ""
             }
            },
            "type": "scatterpolar"
           }
          ],
          "scatterpolargl": [
           {
            "marker": {
             "colorbar": {
              "outlinewidth": 0,
              "ticks": ""
             }
            },
            "type": "scatterpolargl"
           }
          ],
          "scatterternary": [
           {
            "marker": {
             "colorbar": {
              "outlinewidth": 0,
              "ticks": ""
             }
            },
            "type": "scatterternary"
           }
          ],
          "surface": [
           {
            "colorbar": {
             "outlinewidth": 0,
             "ticks": ""
            },
            "colorscale": [
             [
              0,
              "#0d0887"
             ],
             [
              0.1111111111111111,
              "#46039f"
             ],
             [
              0.2222222222222222,
              "#7201a8"
             ],
             [
              0.3333333333333333,
              "#9c179e"
             ],
             [
              0.4444444444444444,
              "#bd3786"
             ],
             [
              0.5555555555555556,
              "#d8576b"
             ],
             [
              0.6666666666666666,
              "#ed7953"
             ],
             [
              0.7777777777777778,
              "#fb9f3a"
             ],
             [
              0.8888888888888888,
              "#fdca26"
             ],
             [
              1,
              "#f0f921"
             ]
            ],
            "type": "surface"
           }
          ],
          "table": [
           {
            "cells": {
             "fill": {
              "color": "#EBF0F8"
             },
             "line": {
              "color": "white"
             }
            },
            "header": {
             "fill": {
              "color": "#C8D4E3"
             },
             "line": {
              "color": "white"
             }
            },
            "type": "table"
           }
          ]
         },
         "layout": {
          "annotationdefaults": {
           "arrowcolor": "#2a3f5f",
           "arrowhead": 0,
           "arrowwidth": 1
          },
          "autotypenumbers": "strict",
          "coloraxis": {
           "colorbar": {
            "outlinewidth": 0,
            "ticks": ""
           }
          },
          "colorscale": {
           "diverging": [
            [
             0,
             "#8e0152"
            ],
            [
             0.1,
             "#c51b7d"
            ],
            [
             0.2,
             "#de77ae"
            ],
            [
             0.3,
             "#f1b6da"
            ],
            [
             0.4,
             "#fde0ef"
            ],
            [
             0.5,
             "#f7f7f7"
            ],
            [
             0.6,
             "#e6f5d0"
            ],
            [
             0.7,
             "#b8e186"
            ],
            [
             0.8,
             "#7fbc41"
            ],
            [
             0.9,
             "#4d9221"
            ],
            [
             1,
             "#276419"
            ]
           ],
           "sequential": [
            [
             0,
             "#0d0887"
            ],
            [
             0.1111111111111111,
             "#46039f"
            ],
            [
             0.2222222222222222,
             "#7201a8"
            ],
            [
             0.3333333333333333,
             "#9c179e"
            ],
            [
             0.4444444444444444,
             "#bd3786"
            ],
            [
             0.5555555555555556,
             "#d8576b"
            ],
            [
             0.6666666666666666,
             "#ed7953"
            ],
            [
             0.7777777777777778,
             "#fb9f3a"
            ],
            [
             0.8888888888888888,
             "#fdca26"
            ],
            [
             1,
             "#f0f921"
            ]
           ],
           "sequentialminus": [
            [
             0,
             "#0d0887"
            ],
            [
             0.1111111111111111,
             "#46039f"
            ],
            [
             0.2222222222222222,
             "#7201a8"
            ],
            [
             0.3333333333333333,
             "#9c179e"
            ],
            [
             0.4444444444444444,
             "#bd3786"
            ],
            [
             0.5555555555555556,
             "#d8576b"
            ],
            [
             0.6666666666666666,
             "#ed7953"
            ],
            [
             0.7777777777777778,
             "#fb9f3a"
            ],
            [
             0.8888888888888888,
             "#fdca26"
            ],
            [
             1,
             "#f0f921"
            ]
           ]
          },
          "colorway": [
           "#636efa",
           "#EF553B",
           "#00cc96",
           "#ab63fa",
           "#FFA15A",
           "#19d3f3",
           "#FF6692",
           "#B6E880",
           "#FF97FF",
           "#FECB52"
          ],
          "font": {
           "color": "#2a3f5f"
          },
          "geo": {
           "bgcolor": "white",
           "lakecolor": "white",
           "landcolor": "#E5ECF6",
           "showlakes": true,
           "showland": true,
           "subunitcolor": "white"
          },
          "hoverlabel": {
           "align": "left"
          },
          "hovermode": "closest",
          "mapbox": {
           "style": "light"
          },
          "paper_bgcolor": "white",
          "plot_bgcolor": "#E5ECF6",
          "polar": {
           "angularaxis": {
            "gridcolor": "white",
            "linecolor": "white",
            "ticks": ""
           },
           "bgcolor": "#E5ECF6",
           "radialaxis": {
            "gridcolor": "white",
            "linecolor": "white",
            "ticks": ""
           }
          },
          "scene": {
           "xaxis": {
            "backgroundcolor": "#E5ECF6",
            "gridcolor": "white",
            "gridwidth": 2,
            "linecolor": "white",
            "showbackground": true,
            "ticks": "",
            "zerolinecolor": "white"
           },
           "yaxis": {
            "backgroundcolor": "#E5ECF6",
            "gridcolor": "white",
            "gridwidth": 2,
            "linecolor": "white",
            "showbackground": true,
            "ticks": "",
            "zerolinecolor": "white"
           },
           "zaxis": {
            "backgroundcolor": "#E5ECF6",
            "gridcolor": "white",
            "gridwidth": 2,
            "linecolor": "white",
            "showbackground": true,
            "ticks": "",
            "zerolinecolor": "white"
           }
          },
          "shapedefaults": {
           "line": {
            "color": "#2a3f5f"
           }
          },
          "ternary": {
           "aaxis": {
            "gridcolor": "white",
            "linecolor": "white",
            "ticks": ""
           },
           "baxis": {
            "gridcolor": "white",
            "linecolor": "white",
            "ticks": ""
           },
           "bgcolor": "#E5ECF6",
           "caxis": {
            "gridcolor": "white",
            "linecolor": "white",
            "ticks": ""
           }
          },
          "title": {
           "x": 0.05
          },
          "xaxis": {
           "automargin": true,
           "gridcolor": "white",
           "linecolor": "white",
           "ticks": "",
           "title": {
            "standoff": 15
           },
           "zerolinecolor": "white",
           "zerolinewidth": 2
          },
          "yaxis": {
           "automargin": true,
           "gridcolor": "white",
           "linecolor": "white",
           "ticks": "",
           "title": {
            "standoff": 15
           },
           "zerolinecolor": "white",
           "zerolinewidth": 2
          }
         }
        },
        "title": {
         "text": "Rotation curve decomposition - NGC 4501",
         "x": 0.2
        },
        "width": 650,
        "xaxis": {
         "linecolor": "black",
         "linewidth": 0.005,
         "range": [
          0,
          45
         ],
         "showline": true,
         "ticks": "outside",
         "title": {
          "text": "Radius     [kpc]"
         }
        },
        "yaxis": {
         "linecolor": "black",
         "linewidth": 0.005,
         "range": [
          0,
          320
         ],
         "showline": true,
         "ticks": "outside",
         "title": {
          "text": "Circular velocity     [km s⁻¹]"
         }
        }
       }
      },
      "text/html": [
       "<div>                            <div id=\"24e53764-82e7-43b3-8997-242a34d7caa9\" class=\"plotly-graph-div\" style=\"height:550px; width:650px;\"></div>            <script type=\"text/javascript\">                require([\"plotly\"], function(Plotly) {                    window.PLOTLYENV=window.PLOTLYENV || {};                                    if (document.getElementById(\"24e53764-82e7-43b3-8997-242a34d7caa9\")) {                    Plotly.newPlot(                        \"24e53764-82e7-43b3-8997-242a34d7caa9\",                        [{\"line\":{\"color\":\"red\",\"dash\":\"solid\",\"width\":0.7},\"marker\":{\"color\":\"red\",\"size\":3,\"symbol\":\"circle-dot\"},\"mode\":\"lines\",\"name\":\"Milky Way (Sofue 2020)\",\"x\":[2.555,2.81,3.091,3.4,3.74,4.114,4.526,4.979,5.476,6.024,6.626,7.289,8.018,8.82,9.702,10.672,11.739,12.913,14.204,15.625,17.187,18.906,20.797,22.876,25.164,27.68,30.448,33.493,36.842,40.527,44.579],\"y\":[208.9,210.7,213.4,217.2,222.0,226.6,229.5,231.6,234.1,237.2,239.5,240.1,239.0,236.7,234.5,234.2,237.1,242.8,248.5,249.7,246.2,243.3,243.9,245.6,243.7,237.3,229.6,222.5,215.0,207.1,200.3],\"type\":\"scatter\"},{\"line\":{\"color\":\"black\",\"dash\":\"solid\",\"width\":0.7},\"marker\":{\"color\":\"red\",\"size\":3,\"symbol\":\"diamond\"},\"mode\":\"markers\",\"name\":\"H-alpha data (Rubin+99)\",\"x\":[0.3,0.48999999999999994,0.71,1.11,1.42,1.74,2.1,2.67,3.4000000000000004,4.06,4.59,5.12,5.8,6.57,7.260000000000001],\"y\":[12.9,46.8,83.8,166.3,199.06,227.5,244.6,253.2,274.6,270.4,294.64,293.27,303.3,293.4,296.33],\"type\":\"scatter\"},{\"line\":{\"color\":\"black\",\"dash\":\"solid\",\"width\":0.7},\"marker\":{\"color\":\"black\",\"size\":3,\"symbol\":\"square\"},\"mode\":\"markers\",\"name\":\"HI data\",\"x\":[8.86475423,10.60604524,12.34733625,14.08862726,15.82991827,17.57120928,19.31250029,21.0537913,22.79508231,24.53637332,26.27766432,28.01895533,29.76024634,31.50153735,33.24282836,34.98411937,36.72541038,38.46670139,40.2079924,41.94928341,43.69057442,45.43186543,47.17315644],\"y\":[210.32529973,211.68917458,213.26239175,215.42438416,223.88699865,229.4820596,236.16211461,236.16211461,230.20288526000002,230.21063867999996,230.17187159,231.58226695,228.89304205,231.93868193,230.71436862,226.84735092,229.45104592,230.56705366,233.6744786,236.5650501,236.5650501,241.07535928,246.50784072000002],\"type\":\"scatter\"},{\"line\":{\"color\":\"black\",\"width\":0.8},\"marker\":{\"color\":\"black\",\"size\":5,\"symbol\":\"circle-dot\"},\"mode\":\"lines\",\"name\":\"Best fit\",\"x\":[0.3,0.48999999999999994,0.71,1.11,1.42,1.74,2.1,2.67,3.4000000000000004,4.06,4.59,5.12,5.8,6.57,7.260000000000001,8.86475423,10.60604524,12.34733625,14.08862726,15.82991827,17.57120928,19.31250029,21.0537913,22.79508231,24.53637332,26.27766432,28.01895533,29.76024634,31.50153735,33.24282836,34.98411937,36.72541038,38.46670139,40.2079924,41.94928341,43.69057442,45.43186543,47.17315644],\"y\":[108.37902752024615,123.08568782129426,134.7113578447319,152.58613608632805,166.0742586462091,179.76026559972306,194.39995002268478,214.9185108162636,235.47800229205467,248.77487829764374,256.40941669969453,261.879996681377,266.46255390646735,269.2639485209946,270.29598840061317,269.57761685518966,266.50074725180696,262.688309418589,258.8091161588545,255.1047554567494,251.64689173905725,248.4408441314018,245.46785554038743,242.7023547751702,240.11880252906707,237.69415313851286,235.40848712106936,233.24491407280374,231.18921965058274,229.22945720346942,227.35556358463316,225.55902585013314,223.8326030451221,222.1700984617158,220.56617499196955,219.01620600857137,217.5161549988127,216.06247824837143],\"type\":\"scatter\"},{\"line\":{\"color\":\"rgba(255,165,0, 1)\",\"dash\":\"dot\",\"width\":1},\"marker\":{\"color\":\"rgba(255,165,0, 1)\",\"size\":3,\"symbol\":\"circle-dot\"},\"mode\":\"lines\",\"name\":\"Bulge\",\"x\":[0.3,0.48999999999999994,0.71,1.11,1.42,1.74,2.1,2.67,3.4000000000000004,4.06,4.59,5.12,5.8,6.57,7.260000000000001,8.86475423,10.60604524,12.34733625,14.08862726,15.82991827,17.57120928,19.31250029,21.0537913,22.79508231,24.53637332,26.27766432,28.01895533,29.76024634,31.50153735,33.24282836,34.98411937,36.72541038,38.46670139,40.2079924,41.94928341,43.69057442,45.43186543,47.17315644],\"y\":[97.66307374213237,105.24664118073946,107.22412439643603,104.79355817671679,101.37228564907015,97.62881326417151,93.57103364136957,87.77797056414784,81.51068706008772,76.77765053496897,73.49005700829251,70.57532125419034,67.28398834628469,64.0492019386227,61.50829371943677,56.589750339656064,52.38379596168153,48.99003036835329,46.17799058837397,43.799059387751946,41.75268509299771,39.968144024812105,38.39407880656475,36.992187212080765,35.73325059283752,34.594543380687746,33.55809060403352,32.609464230852076,31.73693201124221,30.930843151230075,30.18317672531657,29.48720425705906,28.83723387537981,28.22841373228937,27.656579122647567,27.118132275100713,26.609946874572664,26.129291521909018],\"type\":\"scatter\"},{\"line\":{\"color\":\"royalblue\",\"dash\":\"dash\",\"width\":1},\"marker\":{\"color\":\"rgba(8, 0, 246, 0.8)\",\"size\":3,\"symbol\":\"circle-dot\"},\"mode\":\"lines\",\"name\":\"Disk\",\"x\":[0.3,0.48999999999999994,0.71,1.11,1.42,1.74,2.1,2.67,3.4000000000000004,4.06,4.59,5.12,5.8,6.57,7.260000000000001,8.86475423,10.60604524,12.34733625,14.08862726,15.82991827,17.57120928,19.31250029,21.0537913,22.79508231,24.53637332,26.27766432,28.01895533,29.76024634,31.50153735,33.24282836,34.98411937,36.72541038,38.46670139,40.2079924,41.94928341,43.69057442,45.43186543,47.17315644],\"y\":[22.616951194572056,36.74209021486366,52.74024609614311,80.39021516009451,100.16493925714562,118.79029142265817,137.40229984472276,161.72543176680713,184.32894388063912,197.85797639645543,205.0003416834044,209.58096612735432,212.63478520299697,213.37826181140042,212.39854226639417,206.78047387206198,198.4688767536164,189.767929741676,181.43731072799835,173.73036073493688,166.69654575370166,160.30568973809108,154.49991830589187,149.21540129973874,144.39114570711675,139.97215530365546,135.91015218892855,132.16328512914063,128.6954643316976,125.47560746379393,122.4769175526296,119.67623814912072,117.05349688955991,114.59123380861558,112.27420512265192,110.08905178626874,108.02402255580411,106.06874243704881],\"type\":\"scatter\"},{\"line\":{\"color\":\"rgba(153, 51, 230, 1.0)\",\"dash\":\"dashdot\",\"width\":1},\"marker\":{\"color\":\"rgba(153, 51, 153, 1.0)\",\"size\":3,\"symbol\":\"circle-dot\"},\"mode\":\"lines\",\"name\":\"Halo\",\"x\":[0.3,0.48999999999999994,0.71,1.11,1.42,1.74,2.1,2.67,3.4000000000000004,4.06,4.59,5.12,5.8,6.57,7.260000000000001,8.86475423,10.60604524,12.34733625,14.08862726,15.82991827,17.57120928,19.31250029,21.0537913,22.79508231,24.53637332,26.27766432,28.01895533,29.76024634,31.50153735,33.24282836,34.98411937,36.72541038,38.46670139,40.2079924,41.94928341,43.69057442,45.43186543,47.17315644],\"y\":[41.18751208965445,52.18476667818496,62.19809901843694,76.40845762696833,85.27194163840542,93.11946398488583,100.77901681148177,111.03998781952306,121.77330539283867,129.79350379212863,135.35087884045288,140.27143447199305,145.81359905114945,151.22992789288693,155.44616557605625,163.4366155152032,169.96673547072157,174.90928411969014,178.69038605347313,181.59801874553804,183.8345262545581,185.5464533035602,186.84254884705615,187.80515198906784,188.49766887537035,188.96963709592572,189.26024647459496,189.40084172801303,189.41673603356156,189.32854756571476,189.1531992921633,188.90467688767913,188.5946101941878,188.23272415514361,187.82719197682093,187.3849142089602,186.91174110703443,186.41265115118682],\"type\":\"scatter\"}],                        {\"template\":{\"data\":{\"histogram2dcontour\":[{\"type\":\"histogram2dcontour\",\"colorbar\":{\"outlinewidth\":0,\"ticks\":\"\"},\"colorscale\":[[0.0,\"#0d0887\"],[0.1111111111111111,\"#46039f\"],[0.2222222222222222,\"#7201a8\"],[0.3333333333333333,\"#9c179e\"],[0.4444444444444444,\"#bd3786\"],[0.5555555555555556,\"#d8576b\"],[0.6666666666666666,\"#ed7953\"],[0.7777777777777778,\"#fb9f3a\"],[0.8888888888888888,\"#fdca26\"],[1.0,\"#f0f921\"]]}],\"choropleth\":[{\"type\":\"choropleth\",\"colorbar\":{\"outlinewidth\":0,\"ticks\":\"\"}}],\"histogram2d\":[{\"type\":\"histogram2d\",\"colorbar\":{\"outlinewidth\":0,\"ticks\":\"\"},\"colorscale\":[[0.0,\"#0d0887\"],[0.1111111111111111,\"#46039f\"],[0.2222222222222222,\"#7201a8\"],[0.3333333333333333,\"#9c179e\"],[0.4444444444444444,\"#bd3786\"],[0.5555555555555556,\"#d8576b\"],[0.6666666666666666,\"#ed7953\"],[0.7777777777777778,\"#fb9f3a\"],[0.8888888888888888,\"#fdca26\"],[1.0,\"#f0f921\"]]}],\"heatmap\":[{\"type\":\"heatmap\",\"colorbar\":{\"outlinewidth\":0,\"ticks\":\"\"},\"colorscale\":[[0.0,\"#0d0887\"],[0.1111111111111111,\"#46039f\"],[0.2222222222222222,\"#7201a8\"],[0.3333333333333333,\"#9c179e\"],[0.4444444444444444,\"#bd3786\"],[0.5555555555555556,\"#d8576b\"],[0.6666666666666666,\"#ed7953\"],[0.7777777777777778,\"#fb9f3a\"],[0.8888888888888888,\"#fdca26\"],[1.0,\"#f0f921\"]]}],\"heatmapgl\":[{\"type\":\"heatmapgl\",\"colorbar\":{\"outlinewidth\":0,\"ticks\":\"\"},\"colorscale\":[[0.0,\"#0d0887\"],[0.1111111111111111,\"#46039f\"],[0.2222222222222222,\"#7201a8\"],[0.3333333333333333,\"#9c179e\"],[0.4444444444444444,\"#bd3786\"],[0.5555555555555556,\"#d8576b\"],[0.6666666666666666,\"#ed7953\"],[0.7777777777777778,\"#fb9f3a\"],[0.8888888888888888,\"#fdca26\"],[1.0,\"#f0f921\"]]}],\"contourcarpet\":[{\"type\":\"contourcarpet\",\"colorbar\":{\"outlinewidth\":0,\"ticks\":\"\"}}],\"contour\":[{\"type\":\"contour\",\"colorbar\":{\"outlinewidth\":0,\"ticks\":\"\"},\"colorscale\":[[0.0,\"#0d0887\"],[0.1111111111111111,\"#46039f\"],[0.2222222222222222,\"#7201a8\"],[0.3333333333333333,\"#9c179e\"],[0.4444444444444444,\"#bd3786\"],[0.5555555555555556,\"#d8576b\"],[0.6666666666666666,\"#ed7953\"],[0.7777777777777778,\"#fb9f3a\"],[0.8888888888888888,\"#fdca26\"],[1.0,\"#f0f921\"]]}],\"surface\":[{\"type\":\"surface\",\"colorbar\":{\"outlinewidth\":0,\"ticks\":\"\"},\"colorscale\":[[0.0,\"#0d0887\"],[0.1111111111111111,\"#46039f\"],[0.2222222222222222,\"#7201a8\"],[0.3333333333333333,\"#9c179e\"],[0.4444444444444444,\"#bd3786\"],[0.5555555555555556,\"#d8576b\"],[0.6666666666666666,\"#ed7953\"],[0.7777777777777778,\"#fb9f3a\"],[0.8888888888888888,\"#fdca26\"],[1.0,\"#f0f921\"]]}],\"mesh3d\":[{\"type\":\"mesh3d\",\"colorbar\":{\"outlinewidth\":0,\"ticks\":\"\"}}],\"scatter\":[{\"fillpattern\":{\"fillmode\":\"overlay\",\"size\":10,\"solidity\":0.2},\"type\":\"scatter\"}],\"parcoords\":[{\"type\":\"parcoords\",\"line\":{\"colorbar\":{\"outlinewidth\":0,\"ticks\":\"\"}}}],\"scatterpolargl\":[{\"type\":\"scatterpolargl\",\"marker\":{\"colorbar\":{\"outlinewidth\":0,\"ticks\":\"\"}}}],\"bar\":[{\"error_x\":{\"color\":\"#2a3f5f\"},\"error_y\":{\"color\":\"#2a3f5f\"},\"marker\":{\"line\":{\"color\":\"#E5ECF6\",\"width\":0.5},\"pattern\":{\"fillmode\":\"overlay\",\"size\":10,\"solidity\":0.2}},\"type\":\"bar\"}],\"scattergeo\":[{\"type\":\"scattergeo\",\"marker\":{\"colorbar\":{\"outlinewidth\":0,\"ticks\":\"\"}}}],\"scatterpolar\":[{\"type\":\"scatterpolar\",\"marker\":{\"colorbar\":{\"outlinewidth\":0,\"ticks\":\"\"}}}],\"histogram\":[{\"marker\":{\"pattern\":{\"fillmode\":\"overlay\",\"size\":10,\"solidity\":0.2}},\"type\":\"histogram\"}],\"scattergl\":[{\"type\":\"scattergl\",\"marker\":{\"colorbar\":{\"outlinewidth\":0,\"ticks\":\"\"}}}],\"scatter3d\":[{\"type\":\"scatter3d\",\"line\":{\"colorbar\":{\"outlinewidth\":0,\"ticks\":\"\"}},\"marker\":{\"colorbar\":{\"outlinewidth\":0,\"ticks\":\"\"}}}],\"scattermapbox\":[{\"type\":\"scattermapbox\",\"marker\":{\"colorbar\":{\"outlinewidth\":0,\"ticks\":\"\"}}}],\"scatterternary\":[{\"type\":\"scatterternary\",\"marker\":{\"colorbar\":{\"outlinewidth\":0,\"ticks\":\"\"}}}],\"scattercarpet\":[{\"type\":\"scattercarpet\",\"marker\":{\"colorbar\":{\"outlinewidth\":0,\"ticks\":\"\"}}}],\"carpet\":[{\"aaxis\":{\"endlinecolor\":\"#2a3f5f\",\"gridcolor\":\"white\",\"linecolor\":\"white\",\"minorgridcolor\":\"white\",\"startlinecolor\":\"#2a3f5f\"},\"baxis\":{\"endlinecolor\":\"#2a3f5f\",\"gridcolor\":\"white\",\"linecolor\":\"white\",\"minorgridcolor\":\"white\",\"startlinecolor\":\"#2a3f5f\"},\"type\":\"carpet\"}],\"table\":[{\"cells\":{\"fill\":{\"color\":\"#EBF0F8\"},\"line\":{\"color\":\"white\"}},\"header\":{\"fill\":{\"color\":\"#C8D4E3\"},\"line\":{\"color\":\"white\"}},\"type\":\"table\"}],\"barpolar\":[{\"marker\":{\"line\":{\"color\":\"#E5ECF6\",\"width\":0.5},\"pattern\":{\"fillmode\":\"overlay\",\"size\":10,\"solidity\":0.2}},\"type\":\"barpolar\"}],\"pie\":[{\"automargin\":true,\"type\":\"pie\"}]},\"layout\":{\"autotypenumbers\":\"strict\",\"colorway\":[\"#636efa\",\"#EF553B\",\"#00cc96\",\"#ab63fa\",\"#FFA15A\",\"#19d3f3\",\"#FF6692\",\"#B6E880\",\"#FF97FF\",\"#FECB52\"],\"font\":{\"color\":\"#2a3f5f\"},\"hovermode\":\"closest\",\"hoverlabel\":{\"align\":\"left\"},\"paper_bgcolor\":\"white\",\"plot_bgcolor\":\"#E5ECF6\",\"polar\":{\"bgcolor\":\"#E5ECF6\",\"angularaxis\":{\"gridcolor\":\"white\",\"linecolor\":\"white\",\"ticks\":\"\"},\"radialaxis\":{\"gridcolor\":\"white\",\"linecolor\":\"white\",\"ticks\":\"\"}},\"ternary\":{\"bgcolor\":\"#E5ECF6\",\"aaxis\":{\"gridcolor\":\"white\",\"linecolor\":\"white\",\"ticks\":\"\"},\"baxis\":{\"gridcolor\":\"white\",\"linecolor\":\"white\",\"ticks\":\"\"},\"caxis\":{\"gridcolor\":\"white\",\"linecolor\":\"white\",\"ticks\":\"\"}},\"coloraxis\":{\"colorbar\":{\"outlinewidth\":0,\"ticks\":\"\"}},\"colorscale\":{\"sequential\":[[0.0,\"#0d0887\"],[0.1111111111111111,\"#46039f\"],[0.2222222222222222,\"#7201a8\"],[0.3333333333333333,\"#9c179e\"],[0.4444444444444444,\"#bd3786\"],[0.5555555555555556,\"#d8576b\"],[0.6666666666666666,\"#ed7953\"],[0.7777777777777778,\"#fb9f3a\"],[0.8888888888888888,\"#fdca26\"],[1.0,\"#f0f921\"]],\"sequentialminus\":[[0.0,\"#0d0887\"],[0.1111111111111111,\"#46039f\"],[0.2222222222222222,\"#7201a8\"],[0.3333333333333333,\"#9c179e\"],[0.4444444444444444,\"#bd3786\"],[0.5555555555555556,\"#d8576b\"],[0.6666666666666666,\"#ed7953\"],[0.7777777777777778,\"#fb9f3a\"],[0.8888888888888888,\"#fdca26\"],[1.0,\"#f0f921\"]],\"diverging\":[[0,\"#8e0152\"],[0.1,\"#c51b7d\"],[0.2,\"#de77ae\"],[0.3,\"#f1b6da\"],[0.4,\"#fde0ef\"],[0.5,\"#f7f7f7\"],[0.6,\"#e6f5d0\"],[0.7,\"#b8e186\"],[0.8,\"#7fbc41\"],[0.9,\"#4d9221\"],[1,\"#276419\"]]},\"xaxis\":{\"gridcolor\":\"white\",\"linecolor\":\"white\",\"ticks\":\"\",\"title\":{\"standoff\":15},\"zerolinecolor\":\"white\",\"automargin\":true,\"zerolinewidth\":2},\"yaxis\":{\"gridcolor\":\"white\",\"linecolor\":\"white\",\"ticks\":\"\",\"title\":{\"standoff\":15},\"zerolinecolor\":\"white\",\"automargin\":true,\"zerolinewidth\":2},\"scene\":{\"xaxis\":{\"backgroundcolor\":\"#E5ECF6\",\"gridcolor\":\"white\",\"linecolor\":\"white\",\"showbackground\":true,\"ticks\":\"\",\"zerolinecolor\":\"white\",\"gridwidth\":2},\"yaxis\":{\"backgroundcolor\":\"#E5ECF6\",\"gridcolor\":\"white\",\"linecolor\":\"white\",\"showbackground\":true,\"ticks\":\"\",\"zerolinecolor\":\"white\",\"gridwidth\":2},\"zaxis\":{\"backgroundcolor\":\"#E5ECF6\",\"gridcolor\":\"white\",\"linecolor\":\"white\",\"showbackground\":true,\"ticks\":\"\",\"zerolinecolor\":\"white\",\"gridwidth\":2}},\"shapedefaults\":{\"line\":{\"color\":\"#2a3f5f\"}},\"annotationdefaults\":{\"arrowcolor\":\"#2a3f5f\",\"arrowhead\":0,\"arrowwidth\":1},\"geo\":{\"bgcolor\":\"white\",\"landcolor\":\"#E5ECF6\",\"subunitcolor\":\"white\",\"showland\":true,\"showlakes\":true,\"lakecolor\":\"white\"},\"title\":{\"x\":0.05},\"mapbox\":{\"style\":\"light\"}}},\"shapes\":[{\"fillcolor\":\"green\",\"line\":{\"width\":0},\"opacity\":0.2,\"type\":\"rect\",\"x0\":\"3.5\",\"x1\":\"4.5\",\"xref\":\"x\",\"y0\":0,\"y1\":1,\"yref\":\"y domain\"},{\"line\":{\"color\":\"green\",\"dash\":\"dash\",\"width\":1.5},\"opacity\":0.4,\"type\":\"line\",\"x0\":8,\"x1\":8,\"xref\":\"x\",\"y0\":0,\"y1\":1,\"yref\":\"y domain\"},{\"line\":{\"color\":\"red\",\"dash\":\"dot\",\"width\":1.5},\"opacity\":0.4,\"type\":\"line\",\"x0\":4.547935050802,\"x1\":4.547935050802,\"xref\":\"x\",\"y0\":0,\"y1\":1,\"yref\":\"y domain\"}],\"annotations\":[{\"showarrow\":false,\"text\":\"Milky Way scale-length\",\"x\":\"3.5\",\"xanchor\":\"left\",\"xref\":\"x\",\"y\":1,\"yanchor\":\"top\",\"yref\":\"y domain\"},{\"showarrow\":false,\"text\":\"Sun position\",\"x\":8,\"xanchor\":\"left\",\"xref\":\"x\",\"y\":0,\"yanchor\":\"bottom\",\"yref\":\"y domain\"},{\"showarrow\":false,\"text\":\"\",\"x\":4.547935050802,\"xanchor\":\"left\",\"xref\":\"x\",\"y\":0,\"yanchor\":\"bottom\",\"yref\":\"y domain\"}],\"paper_bgcolor\":\"rgba(255,255,255,1)\",\"plot_bgcolor\":\"rgba(255,255,255,1)\",\"legend\":{\"yanchor\":\"top\",\"y\":0.55,\"xanchor\":\"right\",\"x\":0.98},\"margin\":{\"l\":50,\"r\":50,\"b\":100,\"t\":100,\"pad\":4},\"autosize\":false,\"width\":650,\"height\":550,\"xaxis\":{\"showline\":true,\"linewidth\":0.005,\"linecolor\":\"black\",\"ticks\":\"outside\",\"range\":[0,45],\"title\":{\"text\":\"Radius     [kpc]\"}},\"yaxis\":{\"showline\":true,\"linewidth\":0.005,\"linecolor\":\"black\",\"ticks\":\"outside\",\"range\":[0,320],\"title\":{\"text\":\"Circular velocity     [km s\\u207b\\u00b9]\"}},\"title\":{\"text\":\"Rotation curve decomposition - NGC 4501\",\"x\":0.2}},                        {\"responsive\": true}                    ).then(function(){\n",
       "                            \n",
       "var gd = document.getElementById('24e53764-82e7-43b3-8997-242a34d7caa9');\n",
       "var x = new MutationObserver(function (mutations, observer) {{\n",
       "        var display = window.getComputedStyle(gd).display;\n",
       "        if (!display || display === 'none') {{\n",
       "            console.log([gd, 'removed!']);\n",
       "            Plotly.purge(gd);\n",
       "            observer.disconnect();\n",
       "        }}\n",
       "}});\n",
       "\n",
       "// Listen for the removal of the full notebook cells\n",
       "var notebookContainer = gd.closest('#notebook-container');\n",
       "if (notebookContainer) {{\n",
       "    x.observe(notebookContainer, {childList: true});\n",
       "}}\n",
       "\n",
       "// Listen for the clearing of the current output cell\n",
       "var outputEl = gd.closest('.output');\n",
       "if (outputEl) {{\n",
       "    x.observe(outputEl, {childList: true});\n",
       "}}\n",
       "\n",
       "                        })                };                });            </script>        </div>"
      ]
     },
     "metadata": {},
     "output_type": "display_data"
    }
   ],
   "source": [
    "fig = go.Figure()\n",
    "\n",
    "fig.add_trace(go.Scatter(x = raios,y = velocidade, line=dict(color='red', width=0.7, dash='solid'),\n",
    "                   mode = 'lines',\n",
    "                   marker = dict(symbol = 'circle-dot', size=3, color = 'red'),\n",
    "                   name = 'Milky Way (Sofue 2020)'))\n",
    "\n",
    "fig.add_trace(go.Scatter(x = radius[0:15]/kpc,y = velocity[0:15]/1e5, line=dict(color='black', width=0.7, dash='solid'),\n",
    "                   mode = 'markers',\n",
    "                   marker = dict(symbol = 'diamond', size=3, color = 'red'),\n",
    "                   name = 'H-alpha data (Rubin+99)'))\n",
    "\n",
    "fig.add_trace(go.Scatter(x = radius[15:200]/kpc,y = velocity[15:200]/1e5, line=dict(color='black', width=0.7, dash='solid'),\n",
    "                   mode = 'markers',\n",
    "                   marker = dict(symbol = 'square', size=3, color = 'black'),\n",
    "                   name = 'HI data'))\n",
    "\n",
    "fig.add_trace(go.Scatter(x = radius/kpc, y = fit_curve(R, *popt)/1e5,line=dict(color='black', width=0.8),\n",
    "                   mode = 'lines',\n",
    "                   marker = dict(symbol = 'circle-dot', size=5, color = 'black'),\n",
    "                   name = 'Best fit'))\n",
    "\n",
    "fig.add_trace(go.Scatter(x = radius/kpc, y = bojo/1e5,line=dict(color='rgba(255,165,0, 1)', width=1, dash='dot'),\n",
    "                   mode = 'lines',\n",
    "                   marker = dict(symbol = 'circle-dot', size=3, color = 'rgba(255,165,0, 1)'),\n",
    "                   name = 'Bulge'))\n",
    "\n",
    "fig.add_trace(go.Scatter(x = radius/kpc, y = disk/1e5,line=dict(color='royalblue', width=1, dash='dash'),\n",
    "                   mode = 'lines',\n",
    "                   marker = dict(symbol = 'circle-dot', size=3, color = 'rgba(8, 0, 246, 0.8)'),\n",
    "                   name = 'Disk'))\n",
    "\n",
    "fig.add_trace(go.Scatter(x = radius/kpc, y = halo/1e5,line=dict(color = 'rgba(153, 51, 230, 1.0)', width=1, \n",
    "                   dash='dashdot'), mode = 'lines',\n",
    "                   marker = dict(symbol = 'circle-dot', size=3, color = 'rgba(153, 51, 153, 1.0)'),\n",
    "                   name = 'Halo'))\n",
    "\n",
    "fig.add_vrect(x0=\"3.5\", x1=\"4.5\", \n",
    "              annotation_text=\"Milky Way scale-length\", annotation_position=\"top left\",\n",
    "              fillcolor=\"green\", opacity=0.2, line_width=0)\n",
    "\n",
    "fig.add_vline(x=8, annotation_text=\"Sun position\",annotation_position=\"bottom right\",\n",
    "              line_width=1.5, line_dash=\"dash\", line_color=\"green\",opacity=0.4)\n",
    "\n",
    "fig.add_vline(x=scale_length_disco, annotation_text=\"\",annotation_position=\"bottom right\",\n",
    "                  line_width=1.5, line_dash=\"dot\", line_color=\"red\",opacity=0.4)\n",
    "\n",
    "fig.update_layout(paper_bgcolor='rgba(255,255,255,1)', plot_bgcolor='rgba(255,255,255,1)')\n",
    "\n",
    "fig.update_layout(legend=dict(\n",
    "    yanchor=\"top\",\n",
    "    y=0.55,\n",
    "    xanchor=\"right\",\n",
    "    x=0.98),\n",
    "    autosize=False,\n",
    "    width=650,\n",
    "    height=550,\n",
    "    margin=dict(\n",
    "        l=50,\n",
    "        r=50,\n",
    "        b=100,\n",
    "        t=100,\n",
    "        pad=4),\n",
    "    paper_bgcolor='rgba(255,255,255,1)', plot_bgcolor='rgba(255,255,255,1)')\n",
    "\n",
    "fig.update_xaxes(showline=True, linewidth=0.005, linecolor='black',ticks=\"outside\")\n",
    "fig.update_yaxes(showline=True, linewidth=0.005, linecolor='black',ticks=\"outside\")\n",
    "\n",
    "fig.update_layout(title = dict(text = \"Rotation curve decomposition - NGC 4501\",x = .2), \n",
    "                  xaxis = dict(range = [0,45], title = 'Radius     [kpc]'),\n",
    "                  yaxis = dict(range = [0,320], title = 'Circular velocity     [km s⁻¹]'))\n",
    "\n",
    "# with open(\"NGC4579 RC.html\", \"w\") as f:\n",
    "#     f.write(fig.to_html())"
   ]
  },
  {
   "cell_type": "markdown",
   "metadata": {},
   "source": [
    "------------------------------------------------------------------------------------------------------------------"
   ]
  },
  {
   "cell_type": "markdown",
   "metadata": {},
   "source": [
    "$$\\textrm{Massa cumulativa no modelo de Hernquist: } M_b(<R)= M_b \\frac{R^2}{(R+A)^2} \\qquad (Bojo)$$"
   ]
  },
  {
   "cell_type": "code",
   "execution_count": 8,
   "metadata": {},
   "outputs": [],
   "source": [
    "massa_bojo = []\n",
    "\n",
    "for i in range(len(R)):\n",
    "    massa_bojo.append(M_b*(R[i]**2/(R[i]+A)**2))\n",
    "\n",
    "massabojo = np.array(massa_bojo)\n",
    "massa_do_bojo = np.log10(massabojo/massa_solar)"
   ]
  },
  {
   "cell_type": "markdown",
   "metadata": {},
   "source": [
    "-"
   ]
  },
  {
   "cell_type": "markdown",
   "metadata": {},
   "source": [
    "$$\\textrm{Massa cumulativa no modelo de Kuzmin: } M_d(<R)= M_d \\left( 1-\\frac{a}{\\sqrt{R^2+a^2}}\\right) \\qquad (Disco)$$"
   ]
  },
  {
   "cell_type": "code",
   "execution_count": 9,
   "metadata": {},
   "outputs": [],
   "source": [
    "massa_disk = []\n",
    "\n",
    "for i in range(len(R)):\n",
    "    massa_disk.append(M*(1-((a)/(np.sqrt((R[i]**2)+(a**2))))))\n",
    "\n",
    "massadisk = np.array(massa_disk)\n",
    "massa_do_disco = np.log10(massadisk/massa_solar)"
   ]
  },
  {
   "cell_type": "markdown",
   "metadata": {},
   "source": [
    "-"
   ]
  },
  {
   "cell_type": "code",
   "execution_count": 10,
   "metadata": {},
   "outputs": [],
   "source": [
    "massa_halo = []\n",
    "\n",
    "for i in range(len(R)):\n",
    "    massa_halo.append(R[i]*halo[i]**2/G)\n",
    "\n",
    "massahalo = np.array(massa_halo)\n",
    "massa_do_halo = np.log10(massahalo/massa_solar)"
   ]
  },
  {
   "cell_type": "code",
   "execution_count": 11,
   "metadata": {},
   "outputs": [
    {
     "data": {
      "application/vnd.plotly.v1+json": {
       "config": {
        "plotlyServerURL": "https://plot.ly"
       },
       "data": [
        {
         "legendgroup": "1",
         "line": {
          "color": "rgba(255,165,0, 1)",
          "dash": "dot",
          "width": 1
         },
         "marker": {
          "color": "rgba(255,165,0, 1)",
          "size": 3,
          "symbol": "circle-dot"
         },
         "mode": "lines",
         "name": "Bojo",
         "type": "scatter",
         "x": [
          0.004046477731220463,
          0.048557733541512015,
          0.09306898935180356,
          0.1375802451620951,
          0.18209150097238666,
          0.22660275678267824,
          0.27111401259296974,
          0.3156252684032613,
          0.36013652421355286,
          0.40464778002384444,
          0.449159035834136,
          0.4936702916444275,
          0.538181547454719,
          0.5826928032650106,
          0.6272040590753021,
          0.6717153146299716,
          0.7162265704402632,
          0.7607378262505546,
          0.8052490820608462,
          0.8497603378711377,
          0.8942715936814294,
          0.9387828494917209,
          0.9832941053020123,
          1.027805361112304,
          1.0723166169225955,
          1.116827872732887,
          1.1613391285431787,
          1.20585038435347
         ],
         "xaxis": "x",
         "y": [
          7.5636790831763365,
          8.992924677907759,
          9.16730248882915,
          9.238283385089087,
          9.276933388316932,
          9.30126707852236,
          9.318001869456902,
          9.330218592582023,
          9.339530166640863,
          9.346863131928362,
          9.352787765628578,
          9.357674342619596,
          9.361773765806786,
          9.365262092413374,
          9.368266510340808,
          9.370881196542623,
          9.373177375662154,
          9.375209911482903,
          9.37702175010091,
          9.378646989535687,
          9.380113046989084,
          9.381442218782734,
          9.382652822680193,
          9.383760047465504,
          9.384776593723375,
          9.385713163336879,
          9.386578837796455,
          9.387381373712543
         ],
         "yaxis": "y"
        },
        {
         "line": {
          "color": "royalblue",
          "dash": "dash",
          "width": 1
         },
         "marker": {
          "color": "rgba(8, 0, 246, 0.8)",
          "size": 3,
          "symbol": "circle-dot"
         },
         "mode": "lines",
         "name": "Disk",
         "type": "scatter",
         "x": [
          0.004046477731220463,
          0.048557733541512015,
          0.09306898935180356,
          0.1375802451620951,
          0.18209150097238666,
          0.22660275678267824,
          0.27111401259296974,
          0.3156252684032613,
          0.36013652421355286,
          0.40464778002384444,
          0.449159035834136,
          0.4936702916444275,
          0.538181547454719,
          0.5826928032650106,
          0.6272040590753021,
          0.6717153146299716,
          0.7162265704402632,
          0.7607378262505546,
          0.8052490820608462,
          0.8497603378711377,
          0.8942715936814294,
          0.9387828494917209,
          0.9832941053020123,
          1.027805361112304,
          1.0723166169225955,
          1.116827872732887,
          1.1613391285431787,
          1.20585038435347
         ],
         "xaxis": "x",
         "y": [
          7.471226543963642,
          9.609505611858408,
          10.125540072877904,
          10.397130633925787,
          10.563415196061875,
          10.673489773883462,
          10.750446069551431,
          10.806598844382016,
          10.849023212394208,
          10.882012481262901,
          10.908290820374626,
          10.9296537024958,
          10.947324089839968,
          10.962159261850392,
          10.974775505830014,
          10.985625827783972,
          10.995049841476087,
          11.003306658408407,
          11.010597096753429,
          11.017079004717878,
          11.02287804214808,
          11.028095402483059,
          11.03281343360703,
          11.037099790292313,
          11.041010543738965,
          11.044592539358522,
          11.04788520521282,
          11.05092195391523
         ],
         "yaxis": "y"
        },
        {
         "line": {
          "color": "rgba(153, 51, 230, 1.0)",
          "dash": "dashdot",
          "width": 1
         },
         "marker": {
          "color": "rgba(153, 51, 153, 1.0)",
          "size": 3,
          "symbol": "circle-dot"
         },
         "mode": "lines",
         "name": "Halo",
         "type": "scatter",
         "x": [
          0.004046477731220463,
          0.048557733541512015,
          0.09306898935180356,
          0.1375802451620951,
          0.18209150097238666,
          0.22660275678267824,
          0.27111401259296974,
          0.3156252684032613,
          0.36013652421355286,
          0.40464778002384444,
          0.449159035834136,
          0.4936702916444275,
          0.538181547454719,
          0.5826928032650106,
          0.6272040590753021,
          0.6717153146299716,
          0.7162265704402632,
          0.7607378262505546,
          0.8052490820608462,
          0.8497603378711377,
          0.8942715936814294,
          0.9387828494917209,
          0.9832941053020123,
          1.027805361112304,
          1.0723166169225955,
          1.116827872732887,
          1.1613391285431787,
          1.20585038435347
         ],
         "xaxis": "x",
         "y": [
          7.048628288530336,
          9.192724631532082,
          9.743866058246043,
          10.069716741339112,
          10.299819542825299,
          10.47668094018462,
          10.61962809029337,
          10.739093704361121,
          10.841352792301082,
          10.930473785048804,
          11.00924449600286,
          11.079658239592066,
          11.143189203899507,
          11.200958013978102,
          11.253836168555708,
          11.302514576408306,
          11.347550052737972,
          11.38939776429977,
          11.428434432243854,
          11.464975278751504,
          11.499286638680928,
          11.531595501583027,
          11.562096838654128,
          11.590959303952786,
          11.618329724066122,
          11.644336672335912,
          11.669093342644196,
          11.692699881082975
         ],
         "yaxis": "y"
        },
        {
         "line": {
          "color": "rgba(255,165,0, 1)",
          "dash": "dot",
          "width": 1
         },
         "marker": {
          "color": "rgba(255,165,0, 1)",
          "size": 3,
          "symbol": "circle-dot"
         },
         "mode": "lines",
         "name": "Bulge",
         "type": "scatter",
         "x": [
          0.004046477731220463,
          0.048557733541512015,
          0.09306898935180356,
          0.1375802451620951,
          0.18209150097238666,
          0.22660275678267824,
          0.27111401259296974,
          0.3156252684032613,
          0.36013652421355286,
          0.40464778002384444,
          0.449159035834136,
          0.4936702916444275,
          0.538181547454719,
          0.5826928032650106,
          0.6272040590753021,
          0.6717153146299716,
          0.7162265704402632,
          0.7607378262505546,
          0.8052490820608462,
          0.8497603378711377,
          0.8942715936814294,
          0.9387828494917209,
          0.9832941053020123,
          1.027805361112304,
          1.0723166169225955,
          1.116827872732887,
          1.1613391285431787,
          1.20585038435347
         ],
         "xaxis": "x2",
         "y": [
          7.5636790831763365,
          8.992924677907759,
          9.16730248882915,
          9.238283385089087,
          9.276933388316932,
          9.30126707852236,
          9.318001869456902,
          9.330218592582023,
          9.339530166640863,
          9.346863131928362,
          9.352787765628578,
          9.357674342619596,
          9.361773765806786,
          9.365262092413374,
          9.368266510340808,
          9.370881196542623,
          9.373177375662154,
          9.375209911482903,
          9.37702175010091,
          9.378646989535687,
          9.380113046989084,
          9.381442218782734,
          9.382652822680193,
          9.383760047465504,
          9.384776593723375,
          9.385713163336879,
          9.386578837796455,
          9.387381373712543
         ],
         "yaxis": "y2"
        },
        {
         "line": {
          "color": "royalblue",
          "dash": "dash",
          "width": 1
         },
         "marker": {
          "color": "rgba(8, 0, 246, 0.8)",
          "size": 3,
          "symbol": "circle-dot"
         },
         "mode": "lines",
         "name": "Disk",
         "type": "scatter",
         "x": [
          0.004046477731220463,
          0.048557733541512015,
          0.09306898935180356,
          0.1375802451620951,
          0.18209150097238666,
          0.22660275678267824,
          0.27111401259296974,
          0.3156252684032613,
          0.36013652421355286,
          0.40464778002384444,
          0.449159035834136,
          0.4936702916444275,
          0.538181547454719,
          0.5826928032650106,
          0.6272040590753021,
          0.6717153146299716,
          0.7162265704402632,
          0.7607378262505546,
          0.8052490820608462,
          0.8497603378711377,
          0.8942715936814294,
          0.9387828494917209,
          0.9832941053020123,
          1.027805361112304,
          1.0723166169225955,
          1.116827872732887,
          1.1613391285431787,
          1.20585038435347
         ],
         "xaxis": "x2",
         "y": [
          7.471226543963642,
          9.609505611858408,
          10.125540072877904,
          10.397130633925787,
          10.563415196061875,
          10.673489773883462,
          10.750446069551431,
          10.806598844382016,
          10.849023212394208,
          10.882012481262901,
          10.908290820374626,
          10.9296537024958,
          10.947324089839968,
          10.962159261850392,
          10.974775505830014,
          10.985625827783972,
          10.995049841476087,
          11.003306658408407,
          11.010597096753429,
          11.017079004717878,
          11.02287804214808,
          11.028095402483059,
          11.03281343360703,
          11.037099790292313,
          11.041010543738965,
          11.044592539358522,
          11.04788520521282,
          11.05092195391523
         ],
         "yaxis": "y2"
        },
        {
         "line": {
          "color": "rgba(153, 51, 230, 1.0)",
          "dash": "dashdot",
          "width": 1
         },
         "marker": {
          "color": "rgba(153, 51, 153, 1.0)",
          "size": 3,
          "symbol": "circle-dot"
         },
         "mode": "lines",
         "type": "scatter",
         "x": [
          0.004046477731220463,
          0.048557733541512015,
          0.09306898935180356,
          0.1375802451620951,
          0.18209150097238666,
          0.22660275678267824,
          0.27111401259296974,
          0.3156252684032613,
          0.36013652421355286,
          0.40464778002384444,
          0.449159035834136,
          0.4936702916444275,
          0.538181547454719,
          0.5826928032650106,
          0.6272040590753021,
          0.6717153146299716,
          0.7162265704402632,
          0.7607378262505546,
          0.8052490820608462,
          0.8497603378711377,
          0.8942715936814294,
          0.9387828494917209,
          0.9832941053020123,
          1.027805361112304,
          1.0723166169225955,
          1.116827872732887,
          1.1613391285431787,
          1.20585038435347
         ],
         "xaxis": "x2",
         "y": [
          7.048628288530336,
          9.192724631532082,
          9.743866058246043,
          10.069716741339112,
          10.299819542825299,
          10.47668094018462,
          10.61962809029337,
          10.739093704361121,
          10.841352792301082,
          10.930473785048804,
          11.00924449600286,
          11.079658239592066,
          11.143189203899507,
          11.200958013978102,
          11.253836168555708,
          11.302514576408306,
          11.347550052737972,
          11.38939776429977,
          11.428434432243854,
          11.464975278751504,
          11.499286638680928,
          11.531595501583027,
          11.562096838654128,
          11.590959303952786,
          11.618329724066122,
          11.644336672335912,
          11.669093342644196,
          11.692699881082975
         ],
         "yaxis": "y2"
        }
       ],
       "layout": {
        "annotations": [
         {
          "arrowhead": 1,
          "showarrow": true,
          "text": "Bojo",
          "x": 1.1,
          "y": 9.5
         },
         {
          "arrowhead": 1,
          "showarrow": true,
          "text": "Disco",
          "x": 0.85,
          "y": 11.1
         },
         {
          "arrowhead": 1,
          "showarrow": true,
          "text": "Halo",
          "x": 1.12,
          "y": 11.7
         }
        ],
        "autosize": false,
        "font": {
         "color": "black",
         "size": 13
        },
        "height": 500,
        "legend": {
         "x": 0.22,
         "xanchor": "right",
         "y": 0.7,
         "yanchor": "top"
        },
        "margin": {
         "b": 100,
         "l": 50,
         "pad": 4,
         "r": 50,
         "t": 100
        },
        "paper_bgcolor": "rgba(255,255,255,1)",
        "plot_bgcolor": "rgba(255,255,255,1)",
        "showlegend": false,
        "template": {
         "data": {
          "bar": [
           {
            "error_x": {
             "color": "#2a3f5f"
            },
            "error_y": {
             "color": "#2a3f5f"
            },
            "marker": {
             "line": {
              "color": "#E5ECF6",
              "width": 0.5
             },
             "pattern": {
              "fillmode": "overlay",
              "size": 10,
              "solidity": 0.2
             }
            },
            "type": "bar"
           }
          ],
          "barpolar": [
           {
            "marker": {
             "line": {
              "color": "#E5ECF6",
              "width": 0.5
             },
             "pattern": {
              "fillmode": "overlay",
              "size": 10,
              "solidity": 0.2
             }
            },
            "type": "barpolar"
           }
          ],
          "carpet": [
           {
            "aaxis": {
             "endlinecolor": "#2a3f5f",
             "gridcolor": "white",
             "linecolor": "white",
             "minorgridcolor": "white",
             "startlinecolor": "#2a3f5f"
            },
            "baxis": {
             "endlinecolor": "#2a3f5f",
             "gridcolor": "white",
             "linecolor": "white",
             "minorgridcolor": "white",
             "startlinecolor": "#2a3f5f"
            },
            "type": "carpet"
           }
          ],
          "choropleth": [
           {
            "colorbar": {
             "outlinewidth": 0,
             "ticks": ""
            },
            "type": "choropleth"
           }
          ],
          "contour": [
           {
            "colorbar": {
             "outlinewidth": 0,
             "ticks": ""
            },
            "colorscale": [
             [
              0,
              "#0d0887"
             ],
             [
              0.1111111111111111,
              "#46039f"
             ],
             [
              0.2222222222222222,
              "#7201a8"
             ],
             [
              0.3333333333333333,
              "#9c179e"
             ],
             [
              0.4444444444444444,
              "#bd3786"
             ],
             [
              0.5555555555555556,
              "#d8576b"
             ],
             [
              0.6666666666666666,
              "#ed7953"
             ],
             [
              0.7777777777777778,
              "#fb9f3a"
             ],
             [
              0.8888888888888888,
              "#fdca26"
             ],
             [
              1,
              "#f0f921"
             ]
            ],
            "type": "contour"
           }
          ],
          "contourcarpet": [
           {
            "colorbar": {
             "outlinewidth": 0,
             "ticks": ""
            },
            "type": "contourcarpet"
           }
          ],
          "heatmap": [
           {
            "colorbar": {
             "outlinewidth": 0,
             "ticks": ""
            },
            "colorscale": [
             [
              0,
              "#0d0887"
             ],
             [
              0.1111111111111111,
              "#46039f"
             ],
             [
              0.2222222222222222,
              "#7201a8"
             ],
             [
              0.3333333333333333,
              "#9c179e"
             ],
             [
              0.4444444444444444,
              "#bd3786"
             ],
             [
              0.5555555555555556,
              "#d8576b"
             ],
             [
              0.6666666666666666,
              "#ed7953"
             ],
             [
              0.7777777777777778,
              "#fb9f3a"
             ],
             [
              0.8888888888888888,
              "#fdca26"
             ],
             [
              1,
              "#f0f921"
             ]
            ],
            "type": "heatmap"
           }
          ],
          "heatmapgl": [
           {
            "colorbar": {
             "outlinewidth": 0,
             "ticks": ""
            },
            "colorscale": [
             [
              0,
              "#0d0887"
             ],
             [
              0.1111111111111111,
              "#46039f"
             ],
             [
              0.2222222222222222,
              "#7201a8"
             ],
             [
              0.3333333333333333,
              "#9c179e"
             ],
             [
              0.4444444444444444,
              "#bd3786"
             ],
             [
              0.5555555555555556,
              "#d8576b"
             ],
             [
              0.6666666666666666,
              "#ed7953"
             ],
             [
              0.7777777777777778,
              "#fb9f3a"
             ],
             [
              0.8888888888888888,
              "#fdca26"
             ],
             [
              1,
              "#f0f921"
             ]
            ],
            "type": "heatmapgl"
           }
          ],
          "histogram": [
           {
            "marker": {
             "pattern": {
              "fillmode": "overlay",
              "size": 10,
              "solidity": 0.2
             }
            },
            "type": "histogram"
           }
          ],
          "histogram2d": [
           {
            "colorbar": {
             "outlinewidth": 0,
             "ticks": ""
            },
            "colorscale": [
             [
              0,
              "#0d0887"
             ],
             [
              0.1111111111111111,
              "#46039f"
             ],
             [
              0.2222222222222222,
              "#7201a8"
             ],
             [
              0.3333333333333333,
              "#9c179e"
             ],
             [
              0.4444444444444444,
              "#bd3786"
             ],
             [
              0.5555555555555556,
              "#d8576b"
             ],
             [
              0.6666666666666666,
              "#ed7953"
             ],
             [
              0.7777777777777778,
              "#fb9f3a"
             ],
             [
              0.8888888888888888,
              "#fdca26"
             ],
             [
              1,
              "#f0f921"
             ]
            ],
            "type": "histogram2d"
           }
          ],
          "histogram2dcontour": [
           {
            "colorbar": {
             "outlinewidth": 0,
             "ticks": ""
            },
            "colorscale": [
             [
              0,
              "#0d0887"
             ],
             [
              0.1111111111111111,
              "#46039f"
             ],
             [
              0.2222222222222222,
              "#7201a8"
             ],
             [
              0.3333333333333333,
              "#9c179e"
             ],
             [
              0.4444444444444444,
              "#bd3786"
             ],
             [
              0.5555555555555556,
              "#d8576b"
             ],
             [
              0.6666666666666666,
              "#ed7953"
             ],
             [
              0.7777777777777778,
              "#fb9f3a"
             ],
             [
              0.8888888888888888,
              "#fdca26"
             ],
             [
              1,
              "#f0f921"
             ]
            ],
            "type": "histogram2dcontour"
           }
          ],
          "mesh3d": [
           {
            "colorbar": {
             "outlinewidth": 0,
             "ticks": ""
            },
            "type": "mesh3d"
           }
          ],
          "parcoords": [
           {
            "line": {
             "colorbar": {
              "outlinewidth": 0,
              "ticks": ""
             }
            },
            "type": "parcoords"
           }
          ],
          "pie": [
           {
            "automargin": true,
            "type": "pie"
           }
          ],
          "scatter": [
           {
            "marker": {
             "colorbar": {
              "outlinewidth": 0,
              "ticks": ""
             }
            },
            "type": "scatter"
           }
          ],
          "scatter3d": [
           {
            "line": {
             "colorbar": {
              "outlinewidth": 0,
              "ticks": ""
             }
            },
            "marker": {
             "colorbar": {
              "outlinewidth": 0,
              "ticks": ""
             }
            },
            "type": "scatter3d"
           }
          ],
          "scattercarpet": [
           {
            "marker": {
             "colorbar": {
              "outlinewidth": 0,
              "ticks": ""
             }
            },
            "type": "scattercarpet"
           }
          ],
          "scattergeo": [
           {
            "marker": {
             "colorbar": {
              "outlinewidth": 0,
              "ticks": ""
             }
            },
            "type": "scattergeo"
           }
          ],
          "scattergl": [
           {
            "marker": {
             "colorbar": {
              "outlinewidth": 0,
              "ticks": ""
             }
            },
            "type": "scattergl"
           }
          ],
          "scattermapbox": [
           {
            "marker": {
             "colorbar": {
              "outlinewidth": 0,
              "ticks": ""
             }
            },
            "type": "scattermapbox"
           }
          ],
          "scatterpolar": [
           {
            "marker": {
             "colorbar": {
              "outlinewidth": 0,
              "ticks": ""
             }
            },
            "type": "scatterpolar"
           }
          ],
          "scatterpolargl": [
           {
            "marker": {
             "colorbar": {
              "outlinewidth": 0,
              "ticks": ""
             }
            },
            "type": "scatterpolargl"
           }
          ],
          "scatterternary": [
           {
            "marker": {
             "colorbar": {
              "outlinewidth": 0,
              "ticks": ""
             }
            },
            "type": "scatterternary"
           }
          ],
          "surface": [
           {
            "colorbar": {
             "outlinewidth": 0,
             "ticks": ""
            },
            "colorscale": [
             [
              0,
              "#0d0887"
             ],
             [
              0.1111111111111111,
              "#46039f"
             ],
             [
              0.2222222222222222,
              "#7201a8"
             ],
             [
              0.3333333333333333,
              "#9c179e"
             ],
             [
              0.4444444444444444,
              "#bd3786"
             ],
             [
              0.5555555555555556,
              "#d8576b"
             ],
             [
              0.6666666666666666,
              "#ed7953"
             ],
             [
              0.7777777777777778,
              "#fb9f3a"
             ],
             [
              0.8888888888888888,
              "#fdca26"
             ],
             [
              1,
              "#f0f921"
             ]
            ],
            "type": "surface"
           }
          ],
          "table": [
           {
            "cells": {
             "fill": {
              "color": "#EBF0F8"
             },
             "line": {
              "color": "white"
             }
            },
            "header": {
             "fill": {
              "color": "#C8D4E3"
             },
             "line": {
              "color": "white"
             }
            },
            "type": "table"
           }
          ]
         },
         "layout": {
          "annotationdefaults": {
           "arrowcolor": "#2a3f5f",
           "arrowhead": 0,
           "arrowwidth": 1
          },
          "autotypenumbers": "strict",
          "coloraxis": {
           "colorbar": {
            "outlinewidth": 0,
            "ticks": ""
           }
          },
          "colorscale": {
           "diverging": [
            [
             0,
             "#8e0152"
            ],
            [
             0.1,
             "#c51b7d"
            ],
            [
             0.2,
             "#de77ae"
            ],
            [
             0.3,
             "#f1b6da"
            ],
            [
             0.4,
             "#fde0ef"
            ],
            [
             0.5,
             "#f7f7f7"
            ],
            [
             0.6,
             "#e6f5d0"
            ],
            [
             0.7,
             "#b8e186"
            ],
            [
             0.8,
             "#7fbc41"
            ],
            [
             0.9,
             "#4d9221"
            ],
            [
             1,
             "#276419"
            ]
           ],
           "sequential": [
            [
             0,
             "#0d0887"
            ],
            [
             0.1111111111111111,
             "#46039f"
            ],
            [
             0.2222222222222222,
             "#7201a8"
            ],
            [
             0.3333333333333333,
             "#9c179e"
            ],
            [
             0.4444444444444444,
             "#bd3786"
            ],
            [
             0.5555555555555556,
             "#d8576b"
            ],
            [
             0.6666666666666666,
             "#ed7953"
            ],
            [
             0.7777777777777778,
             "#fb9f3a"
            ],
            [
             0.8888888888888888,
             "#fdca26"
            ],
            [
             1,
             "#f0f921"
            ]
           ],
           "sequentialminus": [
            [
             0,
             "#0d0887"
            ],
            [
             0.1111111111111111,
             "#46039f"
            ],
            [
             0.2222222222222222,
             "#7201a8"
            ],
            [
             0.3333333333333333,
             "#9c179e"
            ],
            [
             0.4444444444444444,
             "#bd3786"
            ],
            [
             0.5555555555555556,
             "#d8576b"
            ],
            [
             0.6666666666666666,
             "#ed7953"
            ],
            [
             0.7777777777777778,
             "#fb9f3a"
            ],
            [
             0.8888888888888888,
             "#fdca26"
            ],
            [
             1,
             "#f0f921"
            ]
           ]
          },
          "colorway": [
           "#636efa",
           "#EF553B",
           "#00cc96",
           "#ab63fa",
           "#FFA15A",
           "#19d3f3",
           "#FF6692",
           "#B6E880",
           "#FF97FF",
           "#FECB52"
          ],
          "font": {
           "color": "#2a3f5f"
          },
          "geo": {
           "bgcolor": "white",
           "lakecolor": "white",
           "landcolor": "#E5ECF6",
           "showlakes": true,
           "showland": true,
           "subunitcolor": "white"
          },
          "hoverlabel": {
           "align": "left"
          },
          "hovermode": "closest",
          "mapbox": {
           "style": "light"
          },
          "paper_bgcolor": "white",
          "plot_bgcolor": "#E5ECF6",
          "polar": {
           "angularaxis": {
            "gridcolor": "white",
            "linecolor": "white",
            "ticks": ""
           },
           "bgcolor": "#E5ECF6",
           "radialaxis": {
            "gridcolor": "white",
            "linecolor": "white",
            "ticks": ""
           }
          },
          "scene": {
           "xaxis": {
            "backgroundcolor": "#E5ECF6",
            "gridcolor": "white",
            "gridwidth": 2,
            "linecolor": "white",
            "showbackground": true,
            "ticks": "",
            "zerolinecolor": "white"
           },
           "yaxis": {
            "backgroundcolor": "#E5ECF6",
            "gridcolor": "white",
            "gridwidth": 2,
            "linecolor": "white",
            "showbackground": true,
            "ticks": "",
            "zerolinecolor": "white"
           },
           "zaxis": {
            "backgroundcolor": "#E5ECF6",
            "gridcolor": "white",
            "gridwidth": 2,
            "linecolor": "white",
            "showbackground": true,
            "ticks": "",
            "zerolinecolor": "white"
           }
          },
          "shapedefaults": {
           "line": {
            "color": "#2a3f5f"
           }
          },
          "ternary": {
           "aaxis": {
            "gridcolor": "white",
            "linecolor": "white",
            "ticks": ""
           },
           "baxis": {
            "gridcolor": "white",
            "linecolor": "white",
            "ticks": ""
           },
           "bgcolor": "#E5ECF6",
           "caxis": {
            "gridcolor": "white",
            "linecolor": "white",
            "ticks": ""
           }
          },
          "title": {
           "x": 0.05
          },
          "xaxis": {
           "automargin": true,
           "gridcolor": "white",
           "linecolor": "white",
           "ticks": "",
           "title": {
            "standoff": 15
           },
           "zerolinecolor": "white",
           "zerolinewidth": 2
          },
          "yaxis": {
           "automargin": true,
           "gridcolor": "white",
           "linecolor": "white",
           "ticks": "",
           "title": {
            "standoff": 15
           },
           "zerolinecolor": "white",
           "zerolinewidth": 2
          }
         }
        },
        "title": {
         "text": "$$Curva \\,\\, de \\,\\, massa \\,\\, - \\,\\, NGC \\,4501$$",
         "x": 0.5
        },
        "width": 900,
        "xaxis": {
         "anchor": "y",
         "domain": [
          0,
          0.45
         ],
         "linecolor": "black",
         "linewidth": 0.005,
         "showgrid": false,
         "showline": true,
         "ticks": "outside",
         "title": {
          "text": "$$ R/R_{25}$$"
         }
        },
        "xaxis2": {
         "anchor": "y2",
         "domain": [
          0.55,
          1
         ],
         "linecolor": "black",
         "linewidth": 0.005,
         "showgrid": false,
         "showline": true,
         "ticks": "outside",
         "title": {
          "text": "$$ Raio \\quad [kpc]$$"
         }
        },
        "yaxis": {
         "anchor": "x",
         "domain": [
          0,
          1
         ],
         "exponentformat": "power",
         "linecolor": "black",
         "linewidth": 0.005,
         "nticks": 5,
         "showexponent": "all",
         "showline": true,
         "ticks": "outside",
         "title": {
          "text": "$$Massa \\quad [M_\\odot]$$"
         }
        },
        "yaxis2": {
         "anchor": "x2",
         "domain": [
          0,
          1
         ],
         "linecolor": "black",
         "linewidth": 0.005,
         "nticks": 5,
         "showline": true,
         "ticks": "outside",
         "title": {
          "text": "$$Massa \\quad [\\log(M/M_\\odot)]$$"
         }
        }
       }
      },
      "text/html": [
       "<div>                            <div id=\"f9980728-1134-4a4e-9c11-093bc260ad9e\" class=\"plotly-graph-div\" style=\"height:500px; width:900px;\"></div>            <script type=\"text/javascript\">                require([\"plotly\"], function(Plotly) {                    window.PLOTLYENV=window.PLOTLYENV || {};                                    if (document.getElementById(\"f9980728-1134-4a4e-9c11-093bc260ad9e\")) {                    Plotly.newPlot(                        \"f9980728-1134-4a4e-9c11-093bc260ad9e\",                        [{\"legendgroup\":\"1\",\"line\":{\"color\":\"rgba(255,165,0, 1)\",\"dash\":\"dot\",\"width\":1},\"marker\":{\"color\":\"rgba(255,165,0, 1)\",\"size\":3,\"symbol\":\"circle-dot\"},\"mode\":\"lines\",\"name\":\"Bojo\",\"x\":[0.004046477731220463,0.048557733541512015,0.09306898935180356,0.1375802451620951,0.18209150097238666,0.22660275678267824,0.27111401259296974,0.3156252684032613,0.36013652421355286,0.40464778002384444,0.449159035834136,0.4936702916444275,0.538181547454719,0.5826928032650106,0.6272040590753021,0.6717153146299716,0.7162265704402632,0.7607378262505546,0.8052490820608462,0.8497603378711377,0.8942715936814294,0.9387828494917209,0.9832941053020123,1.027805361112304,1.0723166169225955,1.116827872732887,1.1613391285431787,1.20585038435347],\"y\":[7.5636790831763365,8.992924677907759,9.16730248882915,9.238283385089087,9.276933388316932,9.30126707852236,9.318001869456902,9.330218592582023,9.339530166640863,9.346863131928362,9.352787765628578,9.357674342619596,9.361773765806786,9.365262092413374,9.368266510340808,9.370881196542623,9.373177375662154,9.375209911482903,9.37702175010091,9.378646989535687,9.380113046989084,9.381442218782734,9.382652822680193,9.383760047465504,9.384776593723375,9.385713163336879,9.386578837796455,9.387381373712543],\"type\":\"scatter\",\"xaxis\":\"x\",\"yaxis\":\"y\"},{\"line\":{\"color\":\"royalblue\",\"dash\":\"dash\",\"width\":1},\"marker\":{\"color\":\"rgba(8, 0, 246, 0.8)\",\"size\":3,\"symbol\":\"circle-dot\"},\"mode\":\"lines\",\"name\":\"Disk\",\"x\":[0.004046477731220463,0.048557733541512015,0.09306898935180356,0.1375802451620951,0.18209150097238666,0.22660275678267824,0.27111401259296974,0.3156252684032613,0.36013652421355286,0.40464778002384444,0.449159035834136,0.4936702916444275,0.538181547454719,0.5826928032650106,0.6272040590753021,0.6717153146299716,0.7162265704402632,0.7607378262505546,0.8052490820608462,0.8497603378711377,0.8942715936814294,0.9387828494917209,0.9832941053020123,1.027805361112304,1.0723166169225955,1.116827872732887,1.1613391285431787,1.20585038435347],\"y\":[7.471226543963642,9.609505611858408,10.125540072877904,10.397130633925787,10.563415196061875,10.673489773883462,10.750446069551431,10.806598844382016,10.849023212394208,10.882012481262901,10.908290820374626,10.9296537024958,10.947324089839968,10.962159261850392,10.974775505830014,10.985625827783972,10.995049841476087,11.003306658408407,11.010597096753429,11.017079004717878,11.02287804214808,11.028095402483059,11.03281343360703,11.037099790292313,11.041010543738965,11.044592539358522,11.04788520521282,11.05092195391523],\"type\":\"scatter\",\"xaxis\":\"x\",\"yaxis\":\"y\"},{\"line\":{\"color\":\"rgba(153, 51, 230, 1.0)\",\"dash\":\"dashdot\",\"width\":1},\"marker\":{\"color\":\"rgba(153, 51, 153, 1.0)\",\"size\":3,\"symbol\":\"circle-dot\"},\"mode\":\"lines\",\"name\":\"Halo\",\"x\":[0.004046477731220463,0.048557733541512015,0.09306898935180356,0.1375802451620951,0.18209150097238666,0.22660275678267824,0.27111401259296974,0.3156252684032613,0.36013652421355286,0.40464778002384444,0.449159035834136,0.4936702916444275,0.538181547454719,0.5826928032650106,0.6272040590753021,0.6717153146299716,0.7162265704402632,0.7607378262505546,0.8052490820608462,0.8497603378711377,0.8942715936814294,0.9387828494917209,0.9832941053020123,1.027805361112304,1.0723166169225955,1.116827872732887,1.1613391285431787,1.20585038435347],\"y\":[7.048628288530336,9.192724631532082,9.743866058246043,10.069716741339112,10.299819542825299,10.47668094018462,10.61962809029337,10.739093704361121,10.841352792301082,10.930473785048804,11.00924449600286,11.079658239592066,11.143189203899507,11.200958013978102,11.253836168555708,11.302514576408306,11.347550052737972,11.38939776429977,11.428434432243854,11.464975278751504,11.499286638680928,11.531595501583027,11.562096838654128,11.590959303952786,11.618329724066122,11.644336672335912,11.669093342644196,11.692699881082975],\"type\":\"scatter\",\"xaxis\":\"x\",\"yaxis\":\"y\"},{\"line\":{\"color\":\"rgba(255,165,0, 1)\",\"dash\":\"dot\",\"width\":1},\"marker\":{\"color\":\"rgba(255,165,0, 1)\",\"size\":3,\"symbol\":\"circle-dot\"},\"mode\":\"lines\",\"name\":\"Bulge\",\"x\":[0.004046477731220463,0.048557733541512015,0.09306898935180356,0.1375802451620951,0.18209150097238666,0.22660275678267824,0.27111401259296974,0.3156252684032613,0.36013652421355286,0.40464778002384444,0.449159035834136,0.4936702916444275,0.538181547454719,0.5826928032650106,0.6272040590753021,0.6717153146299716,0.7162265704402632,0.7607378262505546,0.8052490820608462,0.8497603378711377,0.8942715936814294,0.9387828494917209,0.9832941053020123,1.027805361112304,1.0723166169225955,1.116827872732887,1.1613391285431787,1.20585038435347],\"y\":[7.5636790831763365,8.992924677907759,9.16730248882915,9.238283385089087,9.276933388316932,9.30126707852236,9.318001869456902,9.330218592582023,9.339530166640863,9.346863131928362,9.352787765628578,9.357674342619596,9.361773765806786,9.365262092413374,9.368266510340808,9.370881196542623,9.373177375662154,9.375209911482903,9.37702175010091,9.378646989535687,9.380113046989084,9.381442218782734,9.382652822680193,9.383760047465504,9.384776593723375,9.385713163336879,9.386578837796455,9.387381373712543],\"type\":\"scatter\",\"xaxis\":\"x2\",\"yaxis\":\"y2\"},{\"line\":{\"color\":\"royalblue\",\"dash\":\"dash\",\"width\":1},\"marker\":{\"color\":\"rgba(8, 0, 246, 0.8)\",\"size\":3,\"symbol\":\"circle-dot\"},\"mode\":\"lines\",\"name\":\"Disk\",\"x\":[0.004046477731220463,0.048557733541512015,0.09306898935180356,0.1375802451620951,0.18209150097238666,0.22660275678267824,0.27111401259296974,0.3156252684032613,0.36013652421355286,0.40464778002384444,0.449159035834136,0.4936702916444275,0.538181547454719,0.5826928032650106,0.6272040590753021,0.6717153146299716,0.7162265704402632,0.7607378262505546,0.8052490820608462,0.8497603378711377,0.8942715936814294,0.9387828494917209,0.9832941053020123,1.027805361112304,1.0723166169225955,1.116827872732887,1.1613391285431787,1.20585038435347],\"y\":[7.471226543963642,9.609505611858408,10.125540072877904,10.397130633925787,10.563415196061875,10.673489773883462,10.750446069551431,10.806598844382016,10.849023212394208,10.882012481262901,10.908290820374626,10.9296537024958,10.947324089839968,10.962159261850392,10.974775505830014,10.985625827783972,10.995049841476087,11.003306658408407,11.010597096753429,11.017079004717878,11.02287804214808,11.028095402483059,11.03281343360703,11.037099790292313,11.041010543738965,11.044592539358522,11.04788520521282,11.05092195391523],\"type\":\"scatter\",\"xaxis\":\"x2\",\"yaxis\":\"y2\"},{\"line\":{\"color\":\"rgba(153, 51, 230, 1.0)\",\"dash\":\"dashdot\",\"width\":1},\"marker\":{\"color\":\"rgba(153, 51, 153, 1.0)\",\"size\":3,\"symbol\":\"circle-dot\"},\"mode\":\"lines\",\"x\":[0.004046477731220463,0.048557733541512015,0.09306898935180356,0.1375802451620951,0.18209150097238666,0.22660275678267824,0.27111401259296974,0.3156252684032613,0.36013652421355286,0.40464778002384444,0.449159035834136,0.4936702916444275,0.538181547454719,0.5826928032650106,0.6272040590753021,0.6717153146299716,0.7162265704402632,0.7607378262505546,0.8052490820608462,0.8497603378711377,0.8942715936814294,0.9387828494917209,0.9832941053020123,1.027805361112304,1.0723166169225955,1.116827872732887,1.1613391285431787,1.20585038435347],\"y\":[7.048628288530336,9.192724631532082,9.743866058246043,10.069716741339112,10.299819542825299,10.47668094018462,10.61962809029337,10.739093704361121,10.841352792301082,10.930473785048804,11.00924449600286,11.079658239592066,11.143189203899507,11.200958013978102,11.253836168555708,11.302514576408306,11.347550052737972,11.38939776429977,11.428434432243854,11.464975278751504,11.499286638680928,11.531595501583027,11.562096838654128,11.590959303952786,11.618329724066122,11.644336672335912,11.669093342644196,11.692699881082975],\"type\":\"scatter\",\"xaxis\":\"x2\",\"yaxis\":\"y2\"}],                        {\"template\":{\"data\":{\"bar\":[{\"error_x\":{\"color\":\"#2a3f5f\"},\"error_y\":{\"color\":\"#2a3f5f\"},\"marker\":{\"line\":{\"color\":\"#E5ECF6\",\"width\":0.5},\"pattern\":{\"fillmode\":\"overlay\",\"size\":10,\"solidity\":0.2}},\"type\":\"bar\"}],\"barpolar\":[{\"marker\":{\"line\":{\"color\":\"#E5ECF6\",\"width\":0.5},\"pattern\":{\"fillmode\":\"overlay\",\"size\":10,\"solidity\":0.2}},\"type\":\"barpolar\"}],\"carpet\":[{\"aaxis\":{\"endlinecolor\":\"#2a3f5f\",\"gridcolor\":\"white\",\"linecolor\":\"white\",\"minorgridcolor\":\"white\",\"startlinecolor\":\"#2a3f5f\"},\"baxis\":{\"endlinecolor\":\"#2a3f5f\",\"gridcolor\":\"white\",\"linecolor\":\"white\",\"minorgridcolor\":\"white\",\"startlinecolor\":\"#2a3f5f\"},\"type\":\"carpet\"}],\"choropleth\":[{\"colorbar\":{\"outlinewidth\":0,\"ticks\":\"\"},\"type\":\"choropleth\"}],\"contour\":[{\"colorbar\":{\"outlinewidth\":0,\"ticks\":\"\"},\"colorscale\":[[0.0,\"#0d0887\"],[0.1111111111111111,\"#46039f\"],[0.2222222222222222,\"#7201a8\"],[0.3333333333333333,\"#9c179e\"],[0.4444444444444444,\"#bd3786\"],[0.5555555555555556,\"#d8576b\"],[0.6666666666666666,\"#ed7953\"],[0.7777777777777778,\"#fb9f3a\"],[0.8888888888888888,\"#fdca26\"],[1.0,\"#f0f921\"]],\"type\":\"contour\"}],\"contourcarpet\":[{\"colorbar\":{\"outlinewidth\":0,\"ticks\":\"\"},\"type\":\"contourcarpet\"}],\"heatmap\":[{\"colorbar\":{\"outlinewidth\":0,\"ticks\":\"\"},\"colorscale\":[[0.0,\"#0d0887\"],[0.1111111111111111,\"#46039f\"],[0.2222222222222222,\"#7201a8\"],[0.3333333333333333,\"#9c179e\"],[0.4444444444444444,\"#bd3786\"],[0.5555555555555556,\"#d8576b\"],[0.6666666666666666,\"#ed7953\"],[0.7777777777777778,\"#fb9f3a\"],[0.8888888888888888,\"#fdca26\"],[1.0,\"#f0f921\"]],\"type\":\"heatmap\"}],\"heatmapgl\":[{\"colorbar\":{\"outlinewidth\":0,\"ticks\":\"\"},\"colorscale\":[[0.0,\"#0d0887\"],[0.1111111111111111,\"#46039f\"],[0.2222222222222222,\"#7201a8\"],[0.3333333333333333,\"#9c179e\"],[0.4444444444444444,\"#bd3786\"],[0.5555555555555556,\"#d8576b\"],[0.6666666666666666,\"#ed7953\"],[0.7777777777777778,\"#fb9f3a\"],[0.8888888888888888,\"#fdca26\"],[1.0,\"#f0f921\"]],\"type\":\"heatmapgl\"}],\"histogram\":[{\"marker\":{\"pattern\":{\"fillmode\":\"overlay\",\"size\":10,\"solidity\":0.2}},\"type\":\"histogram\"}],\"histogram2d\":[{\"colorbar\":{\"outlinewidth\":0,\"ticks\":\"\"},\"colorscale\":[[0.0,\"#0d0887\"],[0.1111111111111111,\"#46039f\"],[0.2222222222222222,\"#7201a8\"],[0.3333333333333333,\"#9c179e\"],[0.4444444444444444,\"#bd3786\"],[0.5555555555555556,\"#d8576b\"],[0.6666666666666666,\"#ed7953\"],[0.7777777777777778,\"#fb9f3a\"],[0.8888888888888888,\"#fdca26\"],[1.0,\"#f0f921\"]],\"type\":\"histogram2d\"}],\"histogram2dcontour\":[{\"colorbar\":{\"outlinewidth\":0,\"ticks\":\"\"},\"colorscale\":[[0.0,\"#0d0887\"],[0.1111111111111111,\"#46039f\"],[0.2222222222222222,\"#7201a8\"],[0.3333333333333333,\"#9c179e\"],[0.4444444444444444,\"#bd3786\"],[0.5555555555555556,\"#d8576b\"],[0.6666666666666666,\"#ed7953\"],[0.7777777777777778,\"#fb9f3a\"],[0.8888888888888888,\"#fdca26\"],[1.0,\"#f0f921\"]],\"type\":\"histogram2dcontour\"}],\"mesh3d\":[{\"colorbar\":{\"outlinewidth\":0,\"ticks\":\"\"},\"type\":\"mesh3d\"}],\"parcoords\":[{\"line\":{\"colorbar\":{\"outlinewidth\":0,\"ticks\":\"\"}},\"type\":\"parcoords\"}],\"pie\":[{\"automargin\":true,\"type\":\"pie\"}],\"scatter\":[{\"marker\":{\"colorbar\":{\"outlinewidth\":0,\"ticks\":\"\"}},\"type\":\"scatter\"}],\"scatter3d\":[{\"line\":{\"colorbar\":{\"outlinewidth\":0,\"ticks\":\"\"}},\"marker\":{\"colorbar\":{\"outlinewidth\":0,\"ticks\":\"\"}},\"type\":\"scatter3d\"}],\"scattercarpet\":[{\"marker\":{\"colorbar\":{\"outlinewidth\":0,\"ticks\":\"\"}},\"type\":\"scattercarpet\"}],\"scattergeo\":[{\"marker\":{\"colorbar\":{\"outlinewidth\":0,\"ticks\":\"\"}},\"type\":\"scattergeo\"}],\"scattergl\":[{\"marker\":{\"colorbar\":{\"outlinewidth\":0,\"ticks\":\"\"}},\"type\":\"scattergl\"}],\"scattermapbox\":[{\"marker\":{\"colorbar\":{\"outlinewidth\":0,\"ticks\":\"\"}},\"type\":\"scattermapbox\"}],\"scatterpolar\":[{\"marker\":{\"colorbar\":{\"outlinewidth\":0,\"ticks\":\"\"}},\"type\":\"scatterpolar\"}],\"scatterpolargl\":[{\"marker\":{\"colorbar\":{\"outlinewidth\":0,\"ticks\":\"\"}},\"type\":\"scatterpolargl\"}],\"scatterternary\":[{\"marker\":{\"colorbar\":{\"outlinewidth\":0,\"ticks\":\"\"}},\"type\":\"scatterternary\"}],\"surface\":[{\"colorbar\":{\"outlinewidth\":0,\"ticks\":\"\"},\"colorscale\":[[0.0,\"#0d0887\"],[0.1111111111111111,\"#46039f\"],[0.2222222222222222,\"#7201a8\"],[0.3333333333333333,\"#9c179e\"],[0.4444444444444444,\"#bd3786\"],[0.5555555555555556,\"#d8576b\"],[0.6666666666666666,\"#ed7953\"],[0.7777777777777778,\"#fb9f3a\"],[0.8888888888888888,\"#fdca26\"],[1.0,\"#f0f921\"]],\"type\":\"surface\"}],\"table\":[{\"cells\":{\"fill\":{\"color\":\"#EBF0F8\"},\"line\":{\"color\":\"white\"}},\"header\":{\"fill\":{\"color\":\"#C8D4E3\"},\"line\":{\"color\":\"white\"}},\"type\":\"table\"}]},\"layout\":{\"annotationdefaults\":{\"arrowcolor\":\"#2a3f5f\",\"arrowhead\":0,\"arrowwidth\":1},\"autotypenumbers\":\"strict\",\"coloraxis\":{\"colorbar\":{\"outlinewidth\":0,\"ticks\":\"\"}},\"colorscale\":{\"diverging\":[[0,\"#8e0152\"],[0.1,\"#c51b7d\"],[0.2,\"#de77ae\"],[0.3,\"#f1b6da\"],[0.4,\"#fde0ef\"],[0.5,\"#f7f7f7\"],[0.6,\"#e6f5d0\"],[0.7,\"#b8e186\"],[0.8,\"#7fbc41\"],[0.9,\"#4d9221\"],[1,\"#276419\"]],\"sequential\":[[0.0,\"#0d0887\"],[0.1111111111111111,\"#46039f\"],[0.2222222222222222,\"#7201a8\"],[0.3333333333333333,\"#9c179e\"],[0.4444444444444444,\"#bd3786\"],[0.5555555555555556,\"#d8576b\"],[0.6666666666666666,\"#ed7953\"],[0.7777777777777778,\"#fb9f3a\"],[0.8888888888888888,\"#fdca26\"],[1.0,\"#f0f921\"]],\"sequentialminus\":[[0.0,\"#0d0887\"],[0.1111111111111111,\"#46039f\"],[0.2222222222222222,\"#7201a8\"],[0.3333333333333333,\"#9c179e\"],[0.4444444444444444,\"#bd3786\"],[0.5555555555555556,\"#d8576b\"],[0.6666666666666666,\"#ed7953\"],[0.7777777777777778,\"#fb9f3a\"],[0.8888888888888888,\"#fdca26\"],[1.0,\"#f0f921\"]]},\"colorway\":[\"#636efa\",\"#EF553B\",\"#00cc96\",\"#ab63fa\",\"#FFA15A\",\"#19d3f3\",\"#FF6692\",\"#B6E880\",\"#FF97FF\",\"#FECB52\"],\"font\":{\"color\":\"#2a3f5f\"},\"geo\":{\"bgcolor\":\"white\",\"lakecolor\":\"white\",\"landcolor\":\"#E5ECF6\",\"showlakes\":true,\"showland\":true,\"subunitcolor\":\"white\"},\"hoverlabel\":{\"align\":\"left\"},\"hovermode\":\"closest\",\"mapbox\":{\"style\":\"light\"},\"paper_bgcolor\":\"white\",\"plot_bgcolor\":\"#E5ECF6\",\"polar\":{\"angularaxis\":{\"gridcolor\":\"white\",\"linecolor\":\"white\",\"ticks\":\"\"},\"bgcolor\":\"#E5ECF6\",\"radialaxis\":{\"gridcolor\":\"white\",\"linecolor\":\"white\",\"ticks\":\"\"}},\"scene\":{\"xaxis\":{\"backgroundcolor\":\"#E5ECF6\",\"gridcolor\":\"white\",\"gridwidth\":2,\"linecolor\":\"white\",\"showbackground\":true,\"ticks\":\"\",\"zerolinecolor\":\"white\"},\"yaxis\":{\"backgroundcolor\":\"#E5ECF6\",\"gridcolor\":\"white\",\"gridwidth\":2,\"linecolor\":\"white\",\"showbackground\":true,\"ticks\":\"\",\"zerolinecolor\":\"white\"},\"zaxis\":{\"backgroundcolor\":\"#E5ECF6\",\"gridcolor\":\"white\",\"gridwidth\":2,\"linecolor\":\"white\",\"showbackground\":true,\"ticks\":\"\",\"zerolinecolor\":\"white\"}},\"shapedefaults\":{\"line\":{\"color\":\"#2a3f5f\"}},\"ternary\":{\"aaxis\":{\"gridcolor\":\"white\",\"linecolor\":\"white\",\"ticks\":\"\"},\"baxis\":{\"gridcolor\":\"white\",\"linecolor\":\"white\",\"ticks\":\"\"},\"bgcolor\":\"#E5ECF6\",\"caxis\":{\"gridcolor\":\"white\",\"linecolor\":\"white\",\"ticks\":\"\"}},\"title\":{\"x\":0.05},\"xaxis\":{\"automargin\":true,\"gridcolor\":\"white\",\"linecolor\":\"white\",\"ticks\":\"\",\"title\":{\"standoff\":15},\"zerolinecolor\":\"white\",\"zerolinewidth\":2},\"yaxis\":{\"automargin\":true,\"gridcolor\":\"white\",\"linecolor\":\"white\",\"ticks\":\"\",\"title\":{\"standoff\":15},\"zerolinecolor\":\"white\",\"zerolinewidth\":2}}},\"xaxis\":{\"anchor\":\"y\",\"domain\":[0.0,0.45],\"title\":{\"text\":\"$$ R/R_{25}$$\"},\"showgrid\":false,\"showline\":true,\"linewidth\":0.005,\"linecolor\":\"black\",\"ticks\":\"outside\"},\"yaxis\":{\"anchor\":\"x\",\"domain\":[0.0,1.0],\"title\":{\"text\":\"$$Massa \\\\quad [M_\\\\odot]$$\"},\"nticks\":5,\"showexponent\":\"all\",\"exponentformat\":\"power\",\"showline\":true,\"linewidth\":0.005,\"linecolor\":\"black\",\"ticks\":\"outside\"},\"xaxis2\":{\"anchor\":\"y2\",\"domain\":[0.55,1.0],\"title\":{\"text\":\"$$ Raio \\\\quad [kpc]$$\"},\"showgrid\":false,\"showline\":true,\"linewidth\":0.005,\"linecolor\":\"black\",\"ticks\":\"outside\"},\"yaxis2\":{\"anchor\":\"x2\",\"domain\":[0.0,1.0],\"title\":{\"text\":\"$$Massa \\\\quad [\\\\log(M/M_\\\\odot)]$$\"},\"nticks\":5,\"showline\":true,\"linewidth\":0.005,\"linecolor\":\"black\",\"ticks\":\"outside\"},\"annotations\":[{\"arrowhead\":1,\"showarrow\":true,\"text\":\"Bojo\",\"x\":1.1,\"y\":9.5},{\"arrowhead\":1,\"showarrow\":true,\"text\":\"Disco\",\"x\":0.85,\"y\":11.1},{\"arrowhead\":1,\"showarrow\":true,\"text\":\"Halo\",\"x\":1.12,\"y\":11.7}],\"paper_bgcolor\":\"rgba(255,255,255,1)\",\"plot_bgcolor\":\"rgba(255,255,255,1)\",\"legend\":{\"yanchor\":\"top\",\"y\":0.7,\"xanchor\":\"right\",\"x\":0.22},\"margin\":{\"l\":50,\"r\":50,\"b\":100,\"t\":100,\"pad\":4},\"font\":{\"size\":13,\"color\":\"black\"},\"autosize\":false,\"width\":900,\"height\":500,\"title\":{\"text\":\"$$Curva \\\\,\\\\, de \\\\,\\\\, massa \\\\,\\\\, - \\\\,\\\\, NGC \\\\,4501$$\",\"x\":0.5},\"showlegend\":false},                        {\"responsive\": true}                    ).then(function(){\n",
       "                            \n",
       "var gd = document.getElementById('f9980728-1134-4a4e-9c11-093bc260ad9e');\n",
       "var x = new MutationObserver(function (mutations, observer) {{\n",
       "        var display = window.getComputedStyle(gd).display;\n",
       "        if (!display || display === 'none') {{\n",
       "            console.log([gd, 'removed!']);\n",
       "            Plotly.purge(gd);\n",
       "            observer.disconnect();\n",
       "        }}\n",
       "}});\n",
       "\n",
       "// Listen for the removal of the full notebook cells\n",
       "var notebookContainer = gd.closest('#notebook-container');\n",
       "if (notebookContainer) {{\n",
       "    x.observe(notebookContainer, {childList: true});\n",
       "}}\n",
       "\n",
       "// Listen for the clearing of the current output cell\n",
       "var outputEl = gd.closest('.output');\n",
       "if (outputEl) {{\n",
       "    x.observe(outputEl, {childList: true});\n",
       "}}\n",
       "\n",
       "                        })                };                });            </script>        </div>"
      ]
     },
     "metadata": {},
     "output_type": "display_data"
    }
   ],
   "source": [
    "# fig = go.Figure()\n",
    "\n",
    "# fig = make_subplots(rows=1, cols=2)\n",
    "\n",
    "fig = make_subplots(\n",
    "    rows=1, cols=2)#, subplot_titles=(\"$$Curva \\,\\, de \\,\\, massa:\\,\\, M_\\odot$$\", \"$$Curva \\,\\, de \\,\\, massa: \\,\\, \\log$$\"))\n",
    "\n",
    "\n",
    "# fig.append_trace(go.Scatter(x = xdata/39.12024, y = massabojo/massa_solar,line=dict(color='rgba(255,165,0, 1)', width=1, dash='dot'),\n",
    "#                    mode = 'lines',\n",
    "#                    marker = dict(symbol = 'circle-dot', size=3, color = 'rgba(255,165,0, 1)'),\n",
    "#                    name = 'Bojo',legendgroup = '1'), row=1, col=1)\n",
    "\n",
    "# fig.append_trace(go.Scatter(x = xdata/39.12024, y = massadisk/massa_solar,line=dict(color='royalblue', width=1, dash='dash'),\n",
    "#                    mode = 'lines',\n",
    "#                    marker = dict(symbol = 'circle-dot', size=3, color = 'rgba(8, 0, 246, 0.8)'),\n",
    "#                    name = 'Disk'),row=1, col=1)\n",
    "\n",
    "# fig.append_trace(go.Scatter(x = xdata/39.12024, y = massahalo/massa_solar,line=dict(color = 'rgba(153, 51, 230, 1.0)', width=1, \n",
    "#                    dash='dashdot'), mode = 'lines',\n",
    "#                    marker = dict(symbol = 'circle-dot', size=3, color = 'rgba(153, 51, 153, 1.0)'),\n",
    "#                    name = 'Halo'),row=1, col=1)\n",
    "\n",
    "\n",
    "\n",
    "\n",
    "fig.append_trace(go.Scatter(x = xdata/39.12024, y = massa_do_bojo,line=dict(color='rgba(255,165,0, 1)', width=1, dash='dot'),\n",
    "                   mode = 'lines',\n",
    "                   marker = dict(symbol = 'circle-dot', size=3, color = 'rgba(255,165,0, 1)'),\n",
    "                   name = 'Bojo',legendgroup = '1'), row=1, col=1)\n",
    "\n",
    "fig.append_trace(go.Scatter(x = xdata/39.12024, y = massa_do_disco,line=dict(color='royalblue', width=1, dash='dash'),\n",
    "                   mode = 'lines',\n",
    "                   marker = dict(symbol = 'circle-dot', size=3, color = 'rgba(8, 0, 246, 0.8)'),\n",
    "                   name = 'Disk'),row=1, col=1)\n",
    "\n",
    "fig.append_trace(go.Scatter(x = xdata/39.12024, y = massa_do_halo,line=dict(color = 'rgba(153, 51, 230, 1.0)', width=1, \n",
    "                   dash='dashdot'), mode = 'lines',\n",
    "                   marker = dict(symbol = 'circle-dot', size=3, color = 'rgba(153, 51, 153, 1.0)'),\n",
    "                   name = 'Halo'),row=1, col=1)\n",
    "\n",
    "\n",
    "\n",
    "fig.append_trace(go.Scatter(x = xdata/39.12024, y = massa_do_bojo,line=dict(color='rgba(255,165,0, 1)', width=1, dash='dot'),\n",
    "                   mode = 'lines',\n",
    "                   marker = dict(symbol = 'circle-dot', size=3, color = 'rgba(255,165,0, 1)'),\n",
    "                   name = 'Bulge'),row=1, col=2)\n",
    "\n",
    "fig.append_trace(go.Scatter(x = xdata/39.12024, y = massa_do_disco,line=dict(color='royalblue', width=1, dash='dash'),\n",
    "                   mode = 'lines',\n",
    "                   marker = dict(symbol = 'circle-dot', size=3, color = 'rgba(8, 0, 246, 0.8)'),\n",
    "                   name = 'Disk'),row=1, col=2)\n",
    "\n",
    "fig.append_trace(go.Scatter(x = xdata/39.12024, y = massa_do_halo,line=dict(color = 'rgba(153, 51, 230, 1.0)', width=1, \n",
    "                   dash='dashdot'), mode = 'lines',\n",
    "                   marker = dict(symbol = 'circle-dot', size=3, color = 'rgba(153, 51, 153, 1.0)')),row=1, col=2)\n",
    "\n",
    "\n",
    "fig.update_xaxes(title_text=\"$$ R/R_{25}$$\", row=1, col=1)\n",
    "fig.update_yaxes(title_text=\"$$Massa \\quad [M_\\odot]$$\", row=1, col=1)\n",
    "\n",
    "fig.add_annotation(x=1.1, y=9.5,\n",
    "            text=\"Bojo\",\n",
    "            showarrow=True,\n",
    "            arrowhead=1)\n",
    "\n",
    "fig.add_annotation(x=0.85, y=11.1,\n",
    "            text=\"Disco\",\n",
    "            showarrow=True,\n",
    "            arrowhead=1)\n",
    "\n",
    "fig.add_annotation(x=1.12, y=11.7,\n",
    "            text=\"Halo\",\n",
    "            showarrow=True,\n",
    "            arrowhead=1)\n",
    "\n",
    "\n",
    "fig.update_xaxes(title_text=\"$$ Raio \\quad [kpc]$$\", row=1, col=2)\n",
    "fig.update_yaxes(title_text=\"$$Massa \\quad [\\log(M/M_\\odot)]$$\", row=1, col=2)\n",
    "\n",
    "\n",
    "\n",
    "fig.update_layout(paper_bgcolor='rgba(255,255,255,1)', plot_bgcolor='rgba(255,255,255,1)')\n",
    "\n",
    "fig.update_layout(legend=dict(\n",
    "    yanchor=\"top\",\n",
    "    y=0.70,\n",
    "    xanchor=\"right\",\n",
    "    x=0.22\n",
    "))\n",
    "\n",
    "fig.update_layout(\n",
    "    autosize=False,width=900,height=500,\n",
    "    margin=dict(l=50,r=50,b=100,t=100,pad=4),\n",
    "    font=dict(size=13, color=\"black\"),\n",
    "    paper_bgcolor='rgba(255,255,255,1)', plot_bgcolor='rgba(255,255,255,1)')\n",
    "\n",
    "fig.update_xaxes(showgrid=False)\n",
    "fig.update_yaxes(nticks=5)\n",
    "\n",
    "fig.update_layout(title = dict(text = \"$$Curva \\,\\, de \\,\\, massa \\,\\, - \\,\\, NGC \\,4501$$\",x = .5)) \n",
    "#                   xaxis = dict(title = '$$ Radius \\quad [kpc]$$'),\n",
    "#                   yaxis = dict(title = 'Mass \\quad [\\log_{10} (M_\\star/M_\\odot)]$$Mass \\quad [M_\\odot]$$'))\n",
    "\n",
    "fig.update_layout(\n",
    "    yaxis = dict(\n",
    "        showexponent = 'all',\n",
    "        exponentformat = 'power'\n",
    "    ),showlegend=False)\n",
    "\n",
    "fig.update_xaxes(showline=True, linewidth=0.005, linecolor='black',ticks=\"outside\")\n",
    "fig.update_yaxes(showline=True, linewidth=0.005, linecolor='black',ticks=\"outside\")\n",
    "\n",
    "\n",
    "\n",
    "# tickvals=[0,1e7, 1e8, 1e9,1e10,1e11,1e12],\n",
    "\n",
    "# with open(\"NGC4579 RC.png\", \"w\") as f:\n",
    "#     f.write(fig.to_html())"
   ]
  },
  {
   "cell_type": "markdown",
   "metadata": {},
   "source": [
    "$$\\textrm{NFW Profile: }  M_h(v_c,R)=\\frac{v_c^2\\cdot\\left[R\\,(\\log(4)-1)(R_s+R)\\right]}{2G\\,\\left[R\\,\\left(\\log\\left(\\frac{R}{R_s} +1\\right)-1\\right)+R_s \\, \\log\\left(\\frac{R}{R_s}+1\\right)\\right]} \\qquad \\qquad (Halo)$$"
   ]
  },
  {
   "cell_type": "markdown",
   "metadata": {},
   "source": [
    "------------------------------------------------------------------------------------------------------------------"
   ]
  },
  {
   "cell_type": "markdown",
   "metadata": {},
   "source": [
    "$$G = 6.67 \\times 10^{-8} \\,\\, cm^3\\,g^{-1}\\,s^{-2}$$"
   ]
  },
  {
   "cell_type": "markdown",
   "metadata": {},
   "source": [
    "$$ \\textrm{Equação tradicional: } M_G = \\frac{v_c^2 \\cdot R}{G}$$"
   ]
  },
  {
   "cell_type": "markdown",
   "metadata": {},
   "source": [
    "$$\\textrm{Hernquist Model: } M_b(v_c,R)=\\frac{v_c^2\\,(R+A)^2}{GR} \\qquad \\qquad (Bojo)$$"
   ]
  },
  {
   "cell_type": "markdown",
   "metadata": {},
   "source": [
    "$$\\textrm{Kuzmin Model: } M_d(v_c,R) = \\frac{v_c^2\\,(R^2+a^2)^{\\frac{3}{2}}}{GR^2} \\qquad \\qquad (Disco)$$"
   ]
  },
  {
   "cell_type": "code",
   "execution_count": 12,
   "metadata": {},
   "outputs": [],
   "source": [
    "# massa_bojo = ((bojo**2)*(R+A)**2)/(G*(R**2)) # Errado\n",
    "# massa_disk = (((disk)**2)*((R**2)+((a*3.086e+21)**2))**(3/2))/(G*R**2) # Errado\n",
    "# massa_halo = ((halo**2)*(R*(np.log(4)-1)*(R_s+R)))/(2*G*(R*(np.log((R/R_s)+1)-1)+R_s*(np.log((R/R_s)+1))))"
   ]
  },
  {
   "cell_type": "markdown",
   "metadata": {},
   "source": [
    "Esse passo a passo tá errado porque, pra cada componente, a fórmula da massa deve ser diferente, i. e., Kuzmin model, Heinrquest e NFW model.\n",
    "\n",
    "Ideia: Calcular a massa de cada componente separadamente em TODOS os pontos e depois calcular a porcentagem de contribuiçao de cada uma delas em cada ponto para a massa total (dinâmica!); depois disso, definir três cores (uma pra cada componente) e fazer o mapa de distribuição com a porcentagem da cor. Tipo, com 1 kpc de raio, a contribuição do bojo é 70%, do disco é 20% e do halo é 10%; então eu escolheria essa porcentagem para cada uma das três cores pra representar aquele raio, e assim por diante, até a porcentagem de cor do halo ser muito mais visível"
   ]
  },
  {
   "cell_type": "code",
   "execution_count": null,
   "metadata": {},
   "outputs": [],
   "source": []
  },
  {
   "cell_type": "code",
   "execution_count": 13,
   "metadata": {},
   "outputs": [
    {
     "data": {
      "text/plain": [
       "10.985235219740439"
      ]
     },
     "execution_count": 13,
     "metadata": {},
     "output_type": "execute_result"
    }
   ],
   "source": [
    "R = 47.17316*kpc\n",
    "R_s = 69*kpc\n",
    "\n",
    "np.log10((M_s*(np.log(1+(R/R_s))-((R/R_s)/(1+(R/R_s)))))/massa_solar)"
   ]
  },
  {
   "cell_type": "code",
   "execution_count": 14,
   "metadata": {},
   "outputs": [],
   "source": [
    "distribuicao_diskk = []\n",
    "\n",
    "for i in range(len(massadisk)-1):\n",
    "    distribuicao_diskk.append(massadisk[i+1]-massadisk[i])\n",
    "    \n",
    "distribuicao_disk = np.array(distribuicao_diskk)\n",
    "\n",
    "#----------------------------------------------------------------\n",
    "\n",
    "distribuicao_bojoo = []\n",
    "\n",
    "for i in range(len(massabojo)-1):\n",
    "    distribuicao_bojoo.append(massabojo[i+1]-massabojo[i])\n",
    "    \n",
    "distribuicao_bojo = np.array(distribuicao_bojoo)\n",
    "\n",
    "#----------------------------------------------------------------\n",
    "\n",
    "distribuicao_haloo = []\n",
    "\n",
    "for i in range(len(massahalo)-1):\n",
    "    distribuicao_haloo.append(massahalo[i+1]-massahalo[i])\n",
    "    \n",
    "distribuicao_halo = np.array(distribuicao_haloo)"
   ]
  },
  {
   "cell_type": "code",
   "execution_count": 15,
   "metadata": {},
   "outputs": [
    {
     "data": {
      "application/vnd.plotly.v1+json": {
       "config": {
        "plotlyServerURL": "https://plot.ly"
       },
       "data": [
        {
         "line": {
          "color": "rgba(255,165,0, 1)",
          "dash": "dot",
          "width": 1
         },
         "marker": {
          "color": "rgba(255,165,0, 1)",
          "size": 3,
          "symbol": "circle-dot"
         },
         "mode": "lines",
         "name": "Bojo",
         "type": "scatter",
         "x": [
          0.15829918,
          1.89959019,
          3.6408812,
          5.38217221,
          7.12346322,
          8.86475423,
          10.60604524,
          12.34733625,
          14.08862726,
          15.82991827,
          17.57120928,
          19.31250029,
          21.0537913,
          22.79508231,
          24.53637332,
          26.27766432,
          28.01895533,
          29.76024634,
          31.50153735,
          33.24282836,
          34.98411937,
          36.72541038,
          38.46670139,
          40.2079924,
          41.94928341,
          43.69057442,
          45.43186543,
          47.17315644
         ],
         "y": [
          8.976452586991122,
          8.686733922993518,
          8.416633375471177,
          8.207116919385276,
          8.037580704765057,
          7.8954973221021225,
          7.773294969978633,
          7.666121488629251,
          7.570697126104652,
          7.484706009700318,
          7.406453779498572,
          7.33466410847231,
          7.268351925740291,
          7.206741200852322,
          7.149209773089803,
          7.095251243983176,
          7.044447936821597,
          6.9964513465306375,
          6.950967663431224,
          6.9077469033966405,
          6.866574607626914,
          6.827265417799331,
          6.78965804032762,
          6.753611254402286,
          6.719000714609846,
          6.685716365663567,
          6.653660333845955
         ]
        },
        {
         "line": {
          "color": "royalblue",
          "dash": "dash",
          "width": 1
         },
         "marker": {
          "color": "rgba(8, 0, 246, 0.8)",
          "size": 3,
          "symbol": "circle-dot"
         },
         "mode": "lines",
         "name": "Disco",
         "type": "scatter",
         "x": [
          0.15829918,
          1.89959019,
          3.6408812,
          5.38217221,
          7.12346322,
          8.86475423,
          10.60604524,
          12.34733625,
          14.08862726,
          15.82991827,
          17.57120928,
          19.31250029,
          21.0537913,
          22.79508231,
          24.53637332,
          26.27766432,
          28.01895533,
          29.76024634,
          31.50153735,
          33.24282836,
          34.98411937,
          36.72541038,
          38.46670139,
          40.2079924,
          41.94928341,
          43.69057442,
          45.43186543,
          47.17315644
         ],
         "y": [
          9.606335391948615,
          9.967671503618439,
          10.064519542596763,
          10.065990124731341,
          10.02351704175086,
          9.960995805270578,
          9.890411840625664,
          9.817814762077429,
          9.746210632880143,
          9.677031502428902,
          9.610891578219764,
          9.547980610908677,
          9.488271065495177,
          9.43162842235052,
          9.377870275427643,
          9.326797952443846,
          9.278213135060334,
          9.231926307082654,
          9.187760630666887,
          9.145553350447724,
          9.105155854747759,
          9.066433043891362,
          9.029262370989212,
          8.993532759766758,
          8.959143511649792,
          8.926003261100155,
          8.894029007604368
         ]
        },
        {
         "line": {
          "color": "rgba(153, 51, 230, 1.0)",
          "dash": "dashdot",
          "width": 1
         },
         "marker": {
          "color": "rgba(153, 51, 153, 1.0)",
          "size": 3,
          "symbol": "circle-dot"
         },
         "mode": "lines",
         "name": "Halo",
         "type": "scatter",
         "x": [
          0.15829918,
          1.89959019,
          3.6408812,
          5.38217221,
          7.12346322,
          8.86475423,
          10.60604524,
          12.34733625,
          14.08862726,
          15.82991827,
          17.57120928,
          19.31250029,
          21.0537913,
          22.79508231,
          24.53637332,
          26.27766432,
          28.01895533,
          29.76024634,
          31.50153735,
          33.24282836,
          34.98411937,
          36.72541038,
          38.46670139,
          40.2079924,
          41.94928341,
          43.69057442,
          45.43186543,
          47.17315644
         ],
         "y": [
          9.189596745124323,
          9.600535430363937,
          9.792165250085596,
          9.913973725471015,
          10.001095877062127,
          10.067504386987924,
          10.120187917161186,
          10.163143636752553,
          10.198870742429554,
          10.229034728763118,
          10.254800071642544,
          10.277012024413917,
          10.29630285033725,
          10.313157297588942,
          10.327954743194795,
          10.340997333438626,
          10.352529312775284,
          10.362750718457965,
          10.371827244362725,
          10.37989752164266,
          10.387078576944985,
          10.393469989835637,
          10.399157103745972,
          10.404213537117906,
          10.408703169597663,
          10.412681729245199,
          10.416198072857597
         ]
        }
       ],
       "layout": {
        "autosize": false,
        "height": 500,
        "legend": {
         "x": 0.85,
         "xanchor": "right",
         "y": 0.45,
         "yanchor": "top"
        },
        "margin": {
         "b": 100,
         "l": 50,
         "pad": 4,
         "r": 50,
         "t": 100
        },
        "paper_bgcolor": "rgba(255,255,255,1)",
        "plot_bgcolor": "rgba(255,255,255,1)",
        "template": {
         "data": {
          "bar": [
           {
            "error_x": {
             "color": "#2a3f5f"
            },
            "error_y": {
             "color": "#2a3f5f"
            },
            "marker": {
             "line": {
              "color": "#E5ECF6",
              "width": 0.5
             },
             "pattern": {
              "fillmode": "overlay",
              "size": 10,
              "solidity": 0.2
             }
            },
            "type": "bar"
           }
          ],
          "barpolar": [
           {
            "marker": {
             "line": {
              "color": "#E5ECF6",
              "width": 0.5
             },
             "pattern": {
              "fillmode": "overlay",
              "size": 10,
              "solidity": 0.2
             }
            },
            "type": "barpolar"
           }
          ],
          "carpet": [
           {
            "aaxis": {
             "endlinecolor": "#2a3f5f",
             "gridcolor": "white",
             "linecolor": "white",
             "minorgridcolor": "white",
             "startlinecolor": "#2a3f5f"
            },
            "baxis": {
             "endlinecolor": "#2a3f5f",
             "gridcolor": "white",
             "linecolor": "white",
             "minorgridcolor": "white",
             "startlinecolor": "#2a3f5f"
            },
            "type": "carpet"
           }
          ],
          "choropleth": [
           {
            "colorbar": {
             "outlinewidth": 0,
             "ticks": ""
            },
            "type": "choropleth"
           }
          ],
          "contour": [
           {
            "colorbar": {
             "outlinewidth": 0,
             "ticks": ""
            },
            "colorscale": [
             [
              0,
              "#0d0887"
             ],
             [
              0.1111111111111111,
              "#46039f"
             ],
             [
              0.2222222222222222,
              "#7201a8"
             ],
             [
              0.3333333333333333,
              "#9c179e"
             ],
             [
              0.4444444444444444,
              "#bd3786"
             ],
             [
              0.5555555555555556,
              "#d8576b"
             ],
             [
              0.6666666666666666,
              "#ed7953"
             ],
             [
              0.7777777777777778,
              "#fb9f3a"
             ],
             [
              0.8888888888888888,
              "#fdca26"
             ],
             [
              1,
              "#f0f921"
             ]
            ],
            "type": "contour"
           }
          ],
          "contourcarpet": [
           {
            "colorbar": {
             "outlinewidth": 0,
             "ticks": ""
            },
            "type": "contourcarpet"
           }
          ],
          "heatmap": [
           {
            "colorbar": {
             "outlinewidth": 0,
             "ticks": ""
            },
            "colorscale": [
             [
              0,
              "#0d0887"
             ],
             [
              0.1111111111111111,
              "#46039f"
             ],
             [
              0.2222222222222222,
              "#7201a8"
             ],
             [
              0.3333333333333333,
              "#9c179e"
             ],
             [
              0.4444444444444444,
              "#bd3786"
             ],
             [
              0.5555555555555556,
              "#d8576b"
             ],
             [
              0.6666666666666666,
              "#ed7953"
             ],
             [
              0.7777777777777778,
              "#fb9f3a"
             ],
             [
              0.8888888888888888,
              "#fdca26"
             ],
             [
              1,
              "#f0f921"
             ]
            ],
            "type": "heatmap"
           }
          ],
          "heatmapgl": [
           {
            "colorbar": {
             "outlinewidth": 0,
             "ticks": ""
            },
            "colorscale": [
             [
              0,
              "#0d0887"
             ],
             [
              0.1111111111111111,
              "#46039f"
             ],
             [
              0.2222222222222222,
              "#7201a8"
             ],
             [
              0.3333333333333333,
              "#9c179e"
             ],
             [
              0.4444444444444444,
              "#bd3786"
             ],
             [
              0.5555555555555556,
              "#d8576b"
             ],
             [
              0.6666666666666666,
              "#ed7953"
             ],
             [
              0.7777777777777778,
              "#fb9f3a"
             ],
             [
              0.8888888888888888,
              "#fdca26"
             ],
             [
              1,
              "#f0f921"
             ]
            ],
            "type": "heatmapgl"
           }
          ],
          "histogram": [
           {
            "marker": {
             "pattern": {
              "fillmode": "overlay",
              "size": 10,
              "solidity": 0.2
             }
            },
            "type": "histogram"
           }
          ],
          "histogram2d": [
           {
            "colorbar": {
             "outlinewidth": 0,
             "ticks": ""
            },
            "colorscale": [
             [
              0,
              "#0d0887"
             ],
             [
              0.1111111111111111,
              "#46039f"
             ],
             [
              0.2222222222222222,
              "#7201a8"
             ],
             [
              0.3333333333333333,
              "#9c179e"
             ],
             [
              0.4444444444444444,
              "#bd3786"
             ],
             [
              0.5555555555555556,
              "#d8576b"
             ],
             [
              0.6666666666666666,
              "#ed7953"
             ],
             [
              0.7777777777777778,
              "#fb9f3a"
             ],
             [
              0.8888888888888888,
              "#fdca26"
             ],
             [
              1,
              "#f0f921"
             ]
            ],
            "type": "histogram2d"
           }
          ],
          "histogram2dcontour": [
           {
            "colorbar": {
             "outlinewidth": 0,
             "ticks": ""
            },
            "colorscale": [
             [
              0,
              "#0d0887"
             ],
             [
              0.1111111111111111,
              "#46039f"
             ],
             [
              0.2222222222222222,
              "#7201a8"
             ],
             [
              0.3333333333333333,
              "#9c179e"
             ],
             [
              0.4444444444444444,
              "#bd3786"
             ],
             [
              0.5555555555555556,
              "#d8576b"
             ],
             [
              0.6666666666666666,
              "#ed7953"
             ],
             [
              0.7777777777777778,
              "#fb9f3a"
             ],
             [
              0.8888888888888888,
              "#fdca26"
             ],
             [
              1,
              "#f0f921"
             ]
            ],
            "type": "histogram2dcontour"
           }
          ],
          "mesh3d": [
           {
            "colorbar": {
             "outlinewidth": 0,
             "ticks": ""
            },
            "type": "mesh3d"
           }
          ],
          "parcoords": [
           {
            "line": {
             "colorbar": {
              "outlinewidth": 0,
              "ticks": ""
             }
            },
            "type": "parcoords"
           }
          ],
          "pie": [
           {
            "automargin": true,
            "type": "pie"
           }
          ],
          "scatter": [
           {
            "marker": {
             "colorbar": {
              "outlinewidth": 0,
              "ticks": ""
             }
            },
            "type": "scatter"
           }
          ],
          "scatter3d": [
           {
            "line": {
             "colorbar": {
              "outlinewidth": 0,
              "ticks": ""
             }
            },
            "marker": {
             "colorbar": {
              "outlinewidth": 0,
              "ticks": ""
             }
            },
            "type": "scatter3d"
           }
          ],
          "scattercarpet": [
           {
            "marker": {
             "colorbar": {
              "outlinewidth": 0,
              "ticks": ""
             }
            },
            "type": "scattercarpet"
           }
          ],
          "scattergeo": [
           {
            "marker": {
             "colorbar": {
              "outlinewidth": 0,
              "ticks": ""
             }
            },
            "type": "scattergeo"
           }
          ],
          "scattergl": [
           {
            "marker": {
             "colorbar": {
              "outlinewidth": 0,
              "ticks": ""
             }
            },
            "type": "scattergl"
           }
          ],
          "scattermapbox": [
           {
            "marker": {
             "colorbar": {
              "outlinewidth": 0,
              "ticks": ""
             }
            },
            "type": "scattermapbox"
           }
          ],
          "scatterpolar": [
           {
            "marker": {
             "colorbar": {
              "outlinewidth": 0,
              "ticks": ""
             }
            },
            "type": "scatterpolar"
           }
          ],
          "scatterpolargl": [
           {
            "marker": {
             "colorbar": {
              "outlinewidth": 0,
              "ticks": ""
             }
            },
            "type": "scatterpolargl"
           }
          ],
          "scatterternary": [
           {
            "marker": {
             "colorbar": {
              "outlinewidth": 0,
              "ticks": ""
             }
            },
            "type": "scatterternary"
           }
          ],
          "surface": [
           {
            "colorbar": {
             "outlinewidth": 0,
             "ticks": ""
            },
            "colorscale": [
             [
              0,
              "#0d0887"
             ],
             [
              0.1111111111111111,
              "#46039f"
             ],
             [
              0.2222222222222222,
              "#7201a8"
             ],
             [
              0.3333333333333333,
              "#9c179e"
             ],
             [
              0.4444444444444444,
              "#bd3786"
             ],
             [
              0.5555555555555556,
              "#d8576b"
             ],
             [
              0.6666666666666666,
              "#ed7953"
             ],
             [
              0.7777777777777778,
              "#fb9f3a"
             ],
             [
              0.8888888888888888,
              "#fdca26"
             ],
             [
              1,
              "#f0f921"
             ]
            ],
            "type": "surface"
           }
          ],
          "table": [
           {
            "cells": {
             "fill": {
              "color": "#EBF0F8"
             },
             "line": {
              "color": "white"
             }
            },
            "header": {
             "fill": {
              "color": "#C8D4E3"
             },
             "line": {
              "color": "white"
             }
            },
            "type": "table"
           }
          ]
         },
         "layout": {
          "annotationdefaults": {
           "arrowcolor": "#2a3f5f",
           "arrowhead": 0,
           "arrowwidth": 1
          },
          "autotypenumbers": "strict",
          "coloraxis": {
           "colorbar": {
            "outlinewidth": 0,
            "ticks": ""
           }
          },
          "colorscale": {
           "diverging": [
            [
             0,
             "#8e0152"
            ],
            [
             0.1,
             "#c51b7d"
            ],
            [
             0.2,
             "#de77ae"
            ],
            [
             0.3,
             "#f1b6da"
            ],
            [
             0.4,
             "#fde0ef"
            ],
            [
             0.5,
             "#f7f7f7"
            ],
            [
             0.6,
             "#e6f5d0"
            ],
            [
             0.7,
             "#b8e186"
            ],
            [
             0.8,
             "#7fbc41"
            ],
            [
             0.9,
             "#4d9221"
            ],
            [
             1,
             "#276419"
            ]
           ],
           "sequential": [
            [
             0,
             "#0d0887"
            ],
            [
             0.1111111111111111,
             "#46039f"
            ],
            [
             0.2222222222222222,
             "#7201a8"
            ],
            [
             0.3333333333333333,
             "#9c179e"
            ],
            [
             0.4444444444444444,
             "#bd3786"
            ],
            [
             0.5555555555555556,
             "#d8576b"
            ],
            [
             0.6666666666666666,
             "#ed7953"
            ],
            [
             0.7777777777777778,
             "#fb9f3a"
            ],
            [
             0.8888888888888888,
             "#fdca26"
            ],
            [
             1,
             "#f0f921"
            ]
           ],
           "sequentialminus": [
            [
             0,
             "#0d0887"
            ],
            [
             0.1111111111111111,
             "#46039f"
            ],
            [
             0.2222222222222222,
             "#7201a8"
            ],
            [
             0.3333333333333333,
             "#9c179e"
            ],
            [
             0.4444444444444444,
             "#bd3786"
            ],
            [
             0.5555555555555556,
             "#d8576b"
            ],
            [
             0.6666666666666666,
             "#ed7953"
            ],
            [
             0.7777777777777778,
             "#fb9f3a"
            ],
            [
             0.8888888888888888,
             "#fdca26"
            ],
            [
             1,
             "#f0f921"
            ]
           ]
          },
          "colorway": [
           "#636efa",
           "#EF553B",
           "#00cc96",
           "#ab63fa",
           "#FFA15A",
           "#19d3f3",
           "#FF6692",
           "#B6E880",
           "#FF97FF",
           "#FECB52"
          ],
          "font": {
           "color": "#2a3f5f"
          },
          "geo": {
           "bgcolor": "white",
           "lakecolor": "white",
           "landcolor": "#E5ECF6",
           "showlakes": true,
           "showland": true,
           "subunitcolor": "white"
          },
          "hoverlabel": {
           "align": "left"
          },
          "hovermode": "closest",
          "mapbox": {
           "style": "light"
          },
          "paper_bgcolor": "white",
          "plot_bgcolor": "#E5ECF6",
          "polar": {
           "angularaxis": {
            "gridcolor": "white",
            "linecolor": "white",
            "ticks": ""
           },
           "bgcolor": "#E5ECF6",
           "radialaxis": {
            "gridcolor": "white",
            "linecolor": "white",
            "ticks": ""
           }
          },
          "scene": {
           "xaxis": {
            "backgroundcolor": "#E5ECF6",
            "gridcolor": "white",
            "gridwidth": 2,
            "linecolor": "white",
            "showbackground": true,
            "ticks": "",
            "zerolinecolor": "white"
           },
           "yaxis": {
            "backgroundcolor": "#E5ECF6",
            "gridcolor": "white",
            "gridwidth": 2,
            "linecolor": "white",
            "showbackground": true,
            "ticks": "",
            "zerolinecolor": "white"
           },
           "zaxis": {
            "backgroundcolor": "#E5ECF6",
            "gridcolor": "white",
            "gridwidth": 2,
            "linecolor": "white",
            "showbackground": true,
            "ticks": "",
            "zerolinecolor": "white"
           }
          },
          "shapedefaults": {
           "line": {
            "color": "#2a3f5f"
           }
          },
          "ternary": {
           "aaxis": {
            "gridcolor": "white",
            "linecolor": "white",
            "ticks": ""
           },
           "baxis": {
            "gridcolor": "white",
            "linecolor": "white",
            "ticks": ""
           },
           "bgcolor": "#E5ECF6",
           "caxis": {
            "gridcolor": "white",
            "linecolor": "white",
            "ticks": ""
           }
          },
          "title": {
           "x": 0.05
          },
          "xaxis": {
           "automargin": true,
           "gridcolor": "white",
           "linecolor": "white",
           "ticks": "",
           "title": {
            "standoff": 15
           },
           "zerolinecolor": "white",
           "zerolinewidth": 2
          },
          "yaxis": {
           "automargin": true,
           "gridcolor": "white",
           "linecolor": "white",
           "ticks": "",
           "title": {
            "standoff": 15
           },
           "zerolinecolor": "white",
           "zerolinewidth": 2
          }
         }
        },
        "title": {
         "text": "$$Curva \\,\\, de \\,\\, massa \\,\\, - \\,\\, NGC \\,4501$$",
         "x": 0.5
        },
        "width": 500,
        "xaxis": {
         "linecolor": "black",
         "linewidth": 0.005,
         "showgrid": false,
         "showline": true,
         "ticks": "outside",
         "title": {
          "text": "$$ Raio \\quad [kpc]$$"
         }
        },
        "yaxis": {
         "linecolor": "black",
         "linewidth": 0.005,
         "showgrid": false,
         "showline": true,
         "ticks": "outside",
         "title": {
          "text": "$$ Massa \\quad [M_\\odot]$$"
         }
        }
       }
      },
      "text/html": [
       "<div>                            <div id=\"84ef302c-4a6c-45fa-b935-59cbd8f1ff4a\" class=\"plotly-graph-div\" style=\"height:500px; width:500px;\"></div>            <script type=\"text/javascript\">                require([\"plotly\"], function(Plotly) {                    window.PLOTLYENV=window.PLOTLYENV || {};                                    if (document.getElementById(\"84ef302c-4a6c-45fa-b935-59cbd8f1ff4a\")) {                    Plotly.newPlot(                        \"84ef302c-4a6c-45fa-b935-59cbd8f1ff4a\",                        [{\"line\":{\"color\":\"rgba(255,165,0, 1)\",\"dash\":\"dot\",\"width\":1},\"marker\":{\"color\":\"rgba(255,165,0, 1)\",\"size\":3,\"symbol\":\"circle-dot\"},\"mode\":\"lines\",\"name\":\"Bojo\",\"x\":[0.15829918,1.89959019,3.6408812,5.38217221,7.12346322,8.86475423,10.60604524,12.34733625,14.08862726,15.82991827,17.57120928,19.31250029,21.0537913,22.79508231,24.53637332,26.27766432,28.01895533,29.76024634,31.50153735,33.24282836,34.98411937,36.72541038,38.46670139,40.2079924,41.94928341,43.69057442,45.43186543,47.17315644],\"y\":[8.976452586991122,8.686733922993518,8.416633375471177,8.207116919385276,8.037580704765057,7.8954973221021225,7.773294969978633,7.666121488629251,7.570697126104652,7.484706009700318,7.406453779498572,7.33466410847231,7.268351925740291,7.206741200852322,7.149209773089803,7.095251243983176,7.044447936821597,6.9964513465306375,6.950967663431224,6.9077469033966405,6.866574607626914,6.827265417799331,6.78965804032762,6.753611254402286,6.719000714609846,6.685716365663567,6.653660333845955],\"type\":\"scatter\"},{\"line\":{\"color\":\"royalblue\",\"dash\":\"dash\",\"width\":1},\"marker\":{\"color\":\"rgba(8, 0, 246, 0.8)\",\"size\":3,\"symbol\":\"circle-dot\"},\"mode\":\"lines\",\"name\":\"Disco\",\"x\":[0.15829918,1.89959019,3.6408812,5.38217221,7.12346322,8.86475423,10.60604524,12.34733625,14.08862726,15.82991827,17.57120928,19.31250029,21.0537913,22.79508231,24.53637332,26.27766432,28.01895533,29.76024634,31.50153735,33.24282836,34.98411937,36.72541038,38.46670139,40.2079924,41.94928341,43.69057442,45.43186543,47.17315644],\"y\":[9.606335391948615,9.967671503618439,10.064519542596763,10.065990124731341,10.02351704175086,9.960995805270578,9.890411840625664,9.817814762077429,9.746210632880143,9.677031502428902,9.610891578219764,9.547980610908677,9.488271065495177,9.43162842235052,9.377870275427643,9.326797952443846,9.278213135060334,9.231926307082654,9.187760630666887,9.145553350447724,9.105155854747759,9.066433043891362,9.029262370989212,8.993532759766758,8.959143511649792,8.926003261100155,8.894029007604368],\"type\":\"scatter\"},{\"line\":{\"color\":\"rgba(153, 51, 230, 1.0)\",\"dash\":\"dashdot\",\"width\":1},\"marker\":{\"color\":\"rgba(153, 51, 153, 1.0)\",\"size\":3,\"symbol\":\"circle-dot\"},\"mode\":\"lines\",\"name\":\"Halo\",\"x\":[0.15829918,1.89959019,3.6408812,5.38217221,7.12346322,8.86475423,10.60604524,12.34733625,14.08862726,15.82991827,17.57120928,19.31250029,21.0537913,22.79508231,24.53637332,26.27766432,28.01895533,29.76024634,31.50153735,33.24282836,34.98411937,36.72541038,38.46670139,40.2079924,41.94928341,43.69057442,45.43186543,47.17315644],\"y\":[9.189596745124323,9.600535430363937,9.792165250085596,9.913973725471015,10.001095877062127,10.067504386987924,10.120187917161186,10.163143636752553,10.198870742429554,10.229034728763118,10.254800071642544,10.277012024413917,10.29630285033725,10.313157297588942,10.327954743194795,10.340997333438626,10.352529312775284,10.362750718457965,10.371827244362725,10.37989752164266,10.387078576944985,10.393469989835637,10.399157103745972,10.404213537117906,10.408703169597663,10.412681729245199,10.416198072857597],\"type\":\"scatter\"}],                        {\"template\":{\"data\":{\"bar\":[{\"error_x\":{\"color\":\"#2a3f5f\"},\"error_y\":{\"color\":\"#2a3f5f\"},\"marker\":{\"line\":{\"color\":\"#E5ECF6\",\"width\":0.5},\"pattern\":{\"fillmode\":\"overlay\",\"size\":10,\"solidity\":0.2}},\"type\":\"bar\"}],\"barpolar\":[{\"marker\":{\"line\":{\"color\":\"#E5ECF6\",\"width\":0.5},\"pattern\":{\"fillmode\":\"overlay\",\"size\":10,\"solidity\":0.2}},\"type\":\"barpolar\"}],\"carpet\":[{\"aaxis\":{\"endlinecolor\":\"#2a3f5f\",\"gridcolor\":\"white\",\"linecolor\":\"white\",\"minorgridcolor\":\"white\",\"startlinecolor\":\"#2a3f5f\"},\"baxis\":{\"endlinecolor\":\"#2a3f5f\",\"gridcolor\":\"white\",\"linecolor\":\"white\",\"minorgridcolor\":\"white\",\"startlinecolor\":\"#2a3f5f\"},\"type\":\"carpet\"}],\"choropleth\":[{\"colorbar\":{\"outlinewidth\":0,\"ticks\":\"\"},\"type\":\"choropleth\"}],\"contour\":[{\"colorbar\":{\"outlinewidth\":0,\"ticks\":\"\"},\"colorscale\":[[0.0,\"#0d0887\"],[0.1111111111111111,\"#46039f\"],[0.2222222222222222,\"#7201a8\"],[0.3333333333333333,\"#9c179e\"],[0.4444444444444444,\"#bd3786\"],[0.5555555555555556,\"#d8576b\"],[0.6666666666666666,\"#ed7953\"],[0.7777777777777778,\"#fb9f3a\"],[0.8888888888888888,\"#fdca26\"],[1.0,\"#f0f921\"]],\"type\":\"contour\"}],\"contourcarpet\":[{\"colorbar\":{\"outlinewidth\":0,\"ticks\":\"\"},\"type\":\"contourcarpet\"}],\"heatmap\":[{\"colorbar\":{\"outlinewidth\":0,\"ticks\":\"\"},\"colorscale\":[[0.0,\"#0d0887\"],[0.1111111111111111,\"#46039f\"],[0.2222222222222222,\"#7201a8\"],[0.3333333333333333,\"#9c179e\"],[0.4444444444444444,\"#bd3786\"],[0.5555555555555556,\"#d8576b\"],[0.6666666666666666,\"#ed7953\"],[0.7777777777777778,\"#fb9f3a\"],[0.8888888888888888,\"#fdca26\"],[1.0,\"#f0f921\"]],\"type\":\"heatmap\"}],\"heatmapgl\":[{\"colorbar\":{\"outlinewidth\":0,\"ticks\":\"\"},\"colorscale\":[[0.0,\"#0d0887\"],[0.1111111111111111,\"#46039f\"],[0.2222222222222222,\"#7201a8\"],[0.3333333333333333,\"#9c179e\"],[0.4444444444444444,\"#bd3786\"],[0.5555555555555556,\"#d8576b\"],[0.6666666666666666,\"#ed7953\"],[0.7777777777777778,\"#fb9f3a\"],[0.8888888888888888,\"#fdca26\"],[1.0,\"#f0f921\"]],\"type\":\"heatmapgl\"}],\"histogram\":[{\"marker\":{\"pattern\":{\"fillmode\":\"overlay\",\"size\":10,\"solidity\":0.2}},\"type\":\"histogram\"}],\"histogram2d\":[{\"colorbar\":{\"outlinewidth\":0,\"ticks\":\"\"},\"colorscale\":[[0.0,\"#0d0887\"],[0.1111111111111111,\"#46039f\"],[0.2222222222222222,\"#7201a8\"],[0.3333333333333333,\"#9c179e\"],[0.4444444444444444,\"#bd3786\"],[0.5555555555555556,\"#d8576b\"],[0.6666666666666666,\"#ed7953\"],[0.7777777777777778,\"#fb9f3a\"],[0.8888888888888888,\"#fdca26\"],[1.0,\"#f0f921\"]],\"type\":\"histogram2d\"}],\"histogram2dcontour\":[{\"colorbar\":{\"outlinewidth\":0,\"ticks\":\"\"},\"colorscale\":[[0.0,\"#0d0887\"],[0.1111111111111111,\"#46039f\"],[0.2222222222222222,\"#7201a8\"],[0.3333333333333333,\"#9c179e\"],[0.4444444444444444,\"#bd3786\"],[0.5555555555555556,\"#d8576b\"],[0.6666666666666666,\"#ed7953\"],[0.7777777777777778,\"#fb9f3a\"],[0.8888888888888888,\"#fdca26\"],[1.0,\"#f0f921\"]],\"type\":\"histogram2dcontour\"}],\"mesh3d\":[{\"colorbar\":{\"outlinewidth\":0,\"ticks\":\"\"},\"type\":\"mesh3d\"}],\"parcoords\":[{\"line\":{\"colorbar\":{\"outlinewidth\":0,\"ticks\":\"\"}},\"type\":\"parcoords\"}],\"pie\":[{\"automargin\":true,\"type\":\"pie\"}],\"scatter\":[{\"marker\":{\"colorbar\":{\"outlinewidth\":0,\"ticks\":\"\"}},\"type\":\"scatter\"}],\"scatter3d\":[{\"line\":{\"colorbar\":{\"outlinewidth\":0,\"ticks\":\"\"}},\"marker\":{\"colorbar\":{\"outlinewidth\":0,\"ticks\":\"\"}},\"type\":\"scatter3d\"}],\"scattercarpet\":[{\"marker\":{\"colorbar\":{\"outlinewidth\":0,\"ticks\":\"\"}},\"type\":\"scattercarpet\"}],\"scattergeo\":[{\"marker\":{\"colorbar\":{\"outlinewidth\":0,\"ticks\":\"\"}},\"type\":\"scattergeo\"}],\"scattergl\":[{\"marker\":{\"colorbar\":{\"outlinewidth\":0,\"ticks\":\"\"}},\"type\":\"scattergl\"}],\"scattermapbox\":[{\"marker\":{\"colorbar\":{\"outlinewidth\":0,\"ticks\":\"\"}},\"type\":\"scattermapbox\"}],\"scatterpolar\":[{\"marker\":{\"colorbar\":{\"outlinewidth\":0,\"ticks\":\"\"}},\"type\":\"scatterpolar\"}],\"scatterpolargl\":[{\"marker\":{\"colorbar\":{\"outlinewidth\":0,\"ticks\":\"\"}},\"type\":\"scatterpolargl\"}],\"scatterternary\":[{\"marker\":{\"colorbar\":{\"outlinewidth\":0,\"ticks\":\"\"}},\"type\":\"scatterternary\"}],\"surface\":[{\"colorbar\":{\"outlinewidth\":0,\"ticks\":\"\"},\"colorscale\":[[0.0,\"#0d0887\"],[0.1111111111111111,\"#46039f\"],[0.2222222222222222,\"#7201a8\"],[0.3333333333333333,\"#9c179e\"],[0.4444444444444444,\"#bd3786\"],[0.5555555555555556,\"#d8576b\"],[0.6666666666666666,\"#ed7953\"],[0.7777777777777778,\"#fb9f3a\"],[0.8888888888888888,\"#fdca26\"],[1.0,\"#f0f921\"]],\"type\":\"surface\"}],\"table\":[{\"cells\":{\"fill\":{\"color\":\"#EBF0F8\"},\"line\":{\"color\":\"white\"}},\"header\":{\"fill\":{\"color\":\"#C8D4E3\"},\"line\":{\"color\":\"white\"}},\"type\":\"table\"}]},\"layout\":{\"annotationdefaults\":{\"arrowcolor\":\"#2a3f5f\",\"arrowhead\":0,\"arrowwidth\":1},\"autotypenumbers\":\"strict\",\"coloraxis\":{\"colorbar\":{\"outlinewidth\":0,\"ticks\":\"\"}},\"colorscale\":{\"diverging\":[[0,\"#8e0152\"],[0.1,\"#c51b7d\"],[0.2,\"#de77ae\"],[0.3,\"#f1b6da\"],[0.4,\"#fde0ef\"],[0.5,\"#f7f7f7\"],[0.6,\"#e6f5d0\"],[0.7,\"#b8e186\"],[0.8,\"#7fbc41\"],[0.9,\"#4d9221\"],[1,\"#276419\"]],\"sequential\":[[0.0,\"#0d0887\"],[0.1111111111111111,\"#46039f\"],[0.2222222222222222,\"#7201a8\"],[0.3333333333333333,\"#9c179e\"],[0.4444444444444444,\"#bd3786\"],[0.5555555555555556,\"#d8576b\"],[0.6666666666666666,\"#ed7953\"],[0.7777777777777778,\"#fb9f3a\"],[0.8888888888888888,\"#fdca26\"],[1.0,\"#f0f921\"]],\"sequentialminus\":[[0.0,\"#0d0887\"],[0.1111111111111111,\"#46039f\"],[0.2222222222222222,\"#7201a8\"],[0.3333333333333333,\"#9c179e\"],[0.4444444444444444,\"#bd3786\"],[0.5555555555555556,\"#d8576b\"],[0.6666666666666666,\"#ed7953\"],[0.7777777777777778,\"#fb9f3a\"],[0.8888888888888888,\"#fdca26\"],[1.0,\"#f0f921\"]]},\"colorway\":[\"#636efa\",\"#EF553B\",\"#00cc96\",\"#ab63fa\",\"#FFA15A\",\"#19d3f3\",\"#FF6692\",\"#B6E880\",\"#FF97FF\",\"#FECB52\"],\"font\":{\"color\":\"#2a3f5f\"},\"geo\":{\"bgcolor\":\"white\",\"lakecolor\":\"white\",\"landcolor\":\"#E5ECF6\",\"showlakes\":true,\"showland\":true,\"subunitcolor\":\"white\"},\"hoverlabel\":{\"align\":\"left\"},\"hovermode\":\"closest\",\"mapbox\":{\"style\":\"light\"},\"paper_bgcolor\":\"white\",\"plot_bgcolor\":\"#E5ECF6\",\"polar\":{\"angularaxis\":{\"gridcolor\":\"white\",\"linecolor\":\"white\",\"ticks\":\"\"},\"bgcolor\":\"#E5ECF6\",\"radialaxis\":{\"gridcolor\":\"white\",\"linecolor\":\"white\",\"ticks\":\"\"}},\"scene\":{\"xaxis\":{\"backgroundcolor\":\"#E5ECF6\",\"gridcolor\":\"white\",\"gridwidth\":2,\"linecolor\":\"white\",\"showbackground\":true,\"ticks\":\"\",\"zerolinecolor\":\"white\"},\"yaxis\":{\"backgroundcolor\":\"#E5ECF6\",\"gridcolor\":\"white\",\"gridwidth\":2,\"linecolor\":\"white\",\"showbackground\":true,\"ticks\":\"\",\"zerolinecolor\":\"white\"},\"zaxis\":{\"backgroundcolor\":\"#E5ECF6\",\"gridcolor\":\"white\",\"gridwidth\":2,\"linecolor\":\"white\",\"showbackground\":true,\"ticks\":\"\",\"zerolinecolor\":\"white\"}},\"shapedefaults\":{\"line\":{\"color\":\"#2a3f5f\"}},\"ternary\":{\"aaxis\":{\"gridcolor\":\"white\",\"linecolor\":\"white\",\"ticks\":\"\"},\"baxis\":{\"gridcolor\":\"white\",\"linecolor\":\"white\",\"ticks\":\"\"},\"bgcolor\":\"#E5ECF6\",\"caxis\":{\"gridcolor\":\"white\",\"linecolor\":\"white\",\"ticks\":\"\"}},\"title\":{\"x\":0.05},\"xaxis\":{\"automargin\":true,\"gridcolor\":\"white\",\"linecolor\":\"white\",\"ticks\":\"\",\"title\":{\"standoff\":15},\"zerolinecolor\":\"white\",\"zerolinewidth\":2},\"yaxis\":{\"automargin\":true,\"gridcolor\":\"white\",\"linecolor\":\"white\",\"ticks\":\"\",\"title\":{\"standoff\":15},\"zerolinecolor\":\"white\",\"zerolinewidth\":2}}},\"paper_bgcolor\":\"rgba(255,255,255,1)\",\"plot_bgcolor\":\"rgba(255,255,255,1)\",\"legend\":{\"yanchor\":\"top\",\"y\":0.45,\"xanchor\":\"right\",\"x\":0.85},\"xaxis\":{\"showgrid\":false,\"title\":{\"text\":\"$$ Raio \\\\quad [kpc]$$\"},\"showline\":true,\"linewidth\":0.005,\"linecolor\":\"black\",\"ticks\":\"outside\"},\"yaxis\":{\"showgrid\":false,\"title\":{\"text\":\"$$ Massa \\\\quad [M_\\\\odot]$$\"},\"showline\":true,\"linewidth\":0.005,\"linecolor\":\"black\",\"ticks\":\"outside\"},\"title\":{\"text\":\"$$Curva \\\\,\\\\, de \\\\,\\\\, massa \\\\,\\\\, - \\\\,\\\\, NGC \\\\,4501$$\",\"x\":0.5},\"margin\":{\"l\":50,\"r\":50,\"b\":100,\"t\":100,\"pad\":4},\"autosize\":false,\"width\":500,\"height\":500},                        {\"responsive\": true}                    ).then(function(){\n",
       "                            \n",
       "var gd = document.getElementById('84ef302c-4a6c-45fa-b935-59cbd8f1ff4a');\n",
       "var x = new MutationObserver(function (mutations, observer) {{\n",
       "        var display = window.getComputedStyle(gd).display;\n",
       "        if (!display || display === 'none') {{\n",
       "            console.log([gd, 'removed!']);\n",
       "            Plotly.purge(gd);\n",
       "            observer.disconnect();\n",
       "        }}\n",
       "}});\n",
       "\n",
       "// Listen for the removal of the full notebook cells\n",
       "var notebookContainer = gd.closest('#notebook-container');\n",
       "if (notebookContainer) {{\n",
       "    x.observe(notebookContainer, {childList: true});\n",
       "}}\n",
       "\n",
       "// Listen for the clearing of the current output cell\n",
       "var outputEl = gd.closest('.output');\n",
       "if (outputEl) {{\n",
       "    x.observe(outputEl, {childList: true});\n",
       "}}\n",
       "\n",
       "                        })                };                });            </script>        </div>"
      ]
     },
     "metadata": {},
     "output_type": "display_data"
    }
   ],
   "source": [
    "fig = go.Figure()\n",
    "\n",
    "fig.add_trace(go.Scatter(x = xdata, y = np.log10(distribuicao_bojo/massa_solar),line=dict(color='rgba(255,165,0, 1)',\n",
    "                   width=1, dash='dot'), mode = 'lines',\n",
    "                   marker = dict(symbol = 'circle-dot', size=3, color = 'rgba(255,165,0, 1)'),\n",
    "                   name = 'Bojo'))\n",
    "\n",
    "\n",
    "fig.add_trace(go.Scatter(x = xdata, y = np.log10(distribuicao_disk/massa_solar),line=dict(color='royalblue', width=1, \n",
    "                   dash='dash'), mode = 'lines',\n",
    "                   marker = dict(symbol = 'circle-dot', size=3, color = 'rgba(8, 0, 246, 0.8)'),\n",
    "                   name = 'Disco'))\n",
    "\n",
    "fig.add_trace(go.Scatter(x = xdata, y = np.log10(distribuicao_halo/massa_solar),line=dict(color = 'rgba(153, 51, 230, 1.0)', width=1, \n",
    "                   dash='dashdot'), mode = 'lines',\n",
    "                   marker = dict(symbol = 'circle-dot', size=3, color = 'rgba(153, 51, 153, 1.0)'),\n",
    "                   name = 'Halo'))\n",
    "\n",
    "\n",
    "fig.update_layout(paper_bgcolor='rgba(255,255,255,1)', plot_bgcolor='rgba(255,255,255,1)')\n",
    "\n",
    "fig.update_layout(legend=dict(\n",
    "    yanchor=\"top\",\n",
    "    y=0.45,\n",
    "    xanchor=\"right\",\n",
    "    x=0.85\n",
    "))\n",
    "\n",
    "fig.update_xaxes(showgrid=False)\n",
    "fig.update_yaxes(showgrid=False)\n",
    "\n",
    "fig.update_layout(title = dict(text = \"$$Curva \\,\\, de \\,\\, massa \\,\\, - \\,\\, NGC \\,4501$$\",x = .5), \n",
    "                  xaxis = dict(title = '$$ Raio \\quad [kpc]$$'),\n",
    "                  yaxis = dict(title = '$$ Massa \\quad [M_\\odot]$$'))\n",
    "\n",
    "fig.update_layout(\n",
    "    autosize=False,\n",
    "    width=500,\n",
    "    height=500,\n",
    "    margin=dict(\n",
    "        l=50,\n",
    "        r=50,\n",
    "        b=100,\n",
    "        t=100,\n",
    "        pad=4\n",
    "    ),\n",
    "    paper_bgcolor='rgba(255,255,255,1)', plot_bgcolor='rgba(255,255,255,1)')\n",
    "\n",
    "fig.update_xaxes(showline=True, linewidth=0.005, linecolor='black',ticks=\"outside\")\n",
    "fig.update_yaxes(showline=True, linewidth=0.005, linecolor='black',ticks=\"outside\")\n",
    "\n",
    "\n",
    "# with open(\"NGC4579 RC.html\", \"w\") as f:\n",
    "#     f.write(fig.to_html())"
   ]
  },
  {
   "cell_type": "code",
   "execution_count": null,
   "metadata": {},
   "outputs": [],
   "source": []
  },
  {
   "cell_type": "code",
   "execution_count": 16,
   "metadata": {},
   "outputs": [
    {
     "name": "stdout",
     "output_type": "stream",
     "text": [
      "[6.62122488e+07 5.05300838e+09 1.48217576e+10 2.66843975e+10\n",
      " 3.84865010e+10 4.91519690e+10 5.83716266e+10 6.62007953e+10\n",
      " 7.28209268e+10 7.84327005e+10 8.32169261e+10 8.73245957e+10\n",
      " 9.08778801e+10 9.39744479e+10 9.66921906e+10 9.90933884e+10\n",
      " 1.01228098e+11 1.03136812e+11 1.04852524e+11 1.06402307e+11\n",
      " 1.07808542e+11 1.09089857e+11 1.10261863e+11 1.11337725e+11\n",
      " 1.12328614e+11 1.13244064e+11 1.14092255e+11 1.14880242e+11]\n"
     ]
    }
   ],
   "source": [
    "barionica = (massabojo+massadisk)/massa_solar\n",
    "DM = massahalo/massa_solar\n",
    "\n",
    "print(barionica)"
   ]
  },
  {
   "cell_type": "code",
   "execution_count": 17,
   "metadata": {},
   "outputs": [
    {
     "name": "stdout",
     "output_type": "stream",
     "text": [
      "[4.98679613e+09 9.76874920e+09 1.18626399e+10 1.18021035e+10\n",
      " 1.06654680e+10 9.21965766e+09 7.82916861e+09 6.62013155e+09\n",
      " 5.61177371e+09 4.78422560e+09 4.10766955e+09 3.55328449e+09\n",
      " 3.09656771e+09 2.71774274e+09 2.40119784e+09 2.13470924e+09\n",
      " 1.90871464e+09 1.71571154e+09 1.54978334e+09 1.40623490e+09\n",
      " 1.28131505e+09 1.17200578e+09 1.07586202e+09 9.90889325e+08\n",
      " 9.15450014e+08 8.48190807e+08 7.87986614e+08]\n"
     ]
    }
   ],
   "source": [
    "barionica = (distribuicao_bojo+distribuicao_disk)/massa_solar\n",
    "DM = distribuicao_halo/massa_solar\n",
    "\n",
    "print(barionica)"
   ]
  },
  {
   "cell_type": "code",
   "execution_count": 18,
   "metadata": {},
   "outputs": [],
   "source": [
    "# barionica = np.insert(barionica, 0, (massabojo[0]+massadisk[0])/massa_solar, axis=None)"
   ]
  },
  {
   "cell_type": "code",
   "execution_count": 19,
   "metadata": {},
   "outputs": [],
   "source": [
    "# DM = np.insert(DM, 0, (massahalo[0])/massa_solar, axis=None)"
   ]
  },
  {
   "cell_type": "code",
   "execution_count": 20,
   "metadata": {},
   "outputs": [
    {
     "data": {
      "text/plain": [
       "28"
      ]
     },
     "execution_count": 20,
     "metadata": {},
     "output_type": "execute_result"
    }
   ],
   "source": [
    "r_data = xdata\n",
    "len(r_data)"
   ]
  },
  {
   "cell_type": "code",
   "execution_count": 21,
   "metadata": {},
   "outputs": [],
   "source": [
    "r_data = np.delete(r_data, 0, axis=None)"
   ]
  },
  {
   "cell_type": "code",
   "execution_count": 22,
   "metadata": {},
   "outputs": [],
   "source": [
    "s4g = np.array([1.50613898e+09, 3.84477450e+10, 4.07881648e+10, 3.81735668e+10,\n",
    "       2.95020330e+10, 2.24772792e+10, 1.67429876e+10, 1.33980503e+10,\n",
    "       9.92571447e+09, 6.25944115e+09, 4.42956292e+09, 2.96408022e+09,\n",
    "       1.85155079e+09, 1.38026582e+09, 7.82010620e+08, 5.12496274e+08,\n",
    "       2.07157106e+08,0,0,0,0,0,0,0,0,0,0,0])"
   ]
  },
  {
   "cell_type": "code",
   "execution_count": 23,
   "metadata": {},
   "outputs": [],
   "source": [
    "viva = np.array([0.00000000e+00, 7.41323408e+06, 6.06858027e+07, 2.07554977e+08,\n",
    "       4.62465357e+08, 8.00261945e+08, 1.18839579e+09, 1.69209023e+09,\n",
    "       1.82530617e+09, 2.09351888e+09, 2.07659261e+09, 1.94471861e+09,\n",
    "       1.97828049e+09, 2.00298274e+09, 2.08743111e+09, 2.00584902e+09,\n",
    "       1.98109591e+09, 1.97484403e+09, 1.98629309e+09, 1.74563053e+09,\n",
    "       1.79613095e+09, 1.40322360e+09, 1.14368227e+09, 9.71281868e+08,\n",
    "       7.39046713e+08, 6.54429010e+08, 5.30728257e+08, 4.36974966e+08])"
   ]
  },
  {
   "cell_type": "code",
   "execution_count": 24,
   "metadata": {},
   "outputs": [
    {
     "data": {
      "text/plain": [
       "27"
      ]
     },
     "execution_count": 24,
     "metadata": {},
     "output_type": "execute_result"
    }
   ],
   "source": [
    "bari = s4g + viva\n",
    "\n",
    "len(bari)\n",
    "len(DM)"
   ]
  },
  {
   "cell_type": "code",
   "execution_count": 25,
   "metadata": {},
   "outputs": [
    {
     "name": "stdout",
     "output_type": "stream",
     "text": [
      "DM é maior\n"
     ]
    }
   ],
   "source": [
    "def materia(materia):\n",
    "    if (materia*4.292)>math.fsum(DM):\n",
    "        print(\"Bariônica é maior\")\n",
    "    else:\n",
    "        print(\"DM é maior\")\n",
    "        \n",
    "materia(math.fsum(barionica))"
   ]
  },
  {
   "cell_type": "code",
   "execution_count": 32,
   "metadata": {},
   "outputs": [
    {
     "name": "stdout",
     "output_type": "stream",
     "text": [
      "27\n",
      "27\n",
      "27\n",
      "28\n",
      "28\n",
      "28\n"
     ]
    }
   ],
   "source": [
    "print(len(r_data))\n",
    "print(len(barionica))\n",
    "print(len(DM))\n",
    "print(len(bari))\n",
    "print(len(s4g))\n",
    "print(len(viva))"
   ]
  },
  {
   "cell_type": "code",
   "execution_count": 31,
   "metadata": {},
   "outputs": [
    {
     "data": {
      "image/png": "[encoded data removed]",
      "text/plain": [
       "<Figure size 720x432 with 1 Axes>"
      ]
     },
     "metadata": {
      "needs_background": "light"
     },
     "output_type": "display_data"
    }
   ],
   "source": [
    "plt.figure(figsize=(10,6))\n",
    "\n",
    "plt.bar(r_data,barionica,color=\"gold\",alpha=0.5,label='Bariônica - Ajuste')\n",
    "plt.bar(r_data,DM,color=\"lightcoral\",alpha=0.4,label='Escura - Ajuste')\n",
    "plt.bar(r_data,bari[0:27],color=\"mediumspringgreen\",alpha=0.4,label='S⁴G + VIVA')\n",
    "\n",
    "plt.title('\\n Contribuição de massa de NGC 4501 \\n',fontsize=20)  \n",
    "plt.ylabel('Massa   [$M_\\odot$]',fontsize=20)                     \n",
    "plt.xlabel('Raio   [kpc]',fontsize=20)\n",
    "# plt.yticks([1e7,1e8,1e10,1e11,1e12])\n",
    "plt.yscale(\"log\")\n",
    "plt.legend(loc='upper right',frameon=True,fontsize=12)              \n",
    "\n",
    "plt.show()"
   ]
  },
  {
   "cell_type": "code",
   "execution_count": null,
   "metadata": {},
   "outputs": [],
   "source": []
  },
  {
   "cell_type": "code",
   "execution_count": null,
   "metadata": {},
   "outputs": [],
   "source": []
  }
 ],
 "metadata": {
  "kernelspec": {
   "display_name": "Python 3 (ipykernel)",
   "language": "python",
   "name": "python3"
  },
  "language_info": {
   "codemirror_mode": {
    "name": "ipython",
    "version": 3
   },
   "file_extension": ".py",
   "mimetype": "text/x-python",
   "name": "python",
   "nbconvert_exporter": "python",
   "pygments_lexer": "ipython3",
   "version": "3.10.4"
  },
  "varInspector": {
   "cols": {
    "lenName": 16,
    "lenType": 16,
    "lenVar": 40
   },
   "kernels_config": {
    "python": {
     "delete_cmd_postfix": "",
     "delete_cmd_prefix": "del ",
     "library": "var_list.py",
     "varRefreshCmd": "print(var_dic_list())"
    },
    "r": {
     "delete_cmd_postfix": ") ",
     "delete_cmd_prefix": "rm(",
     "library": "var_list.r",
     "varRefreshCmd": "cat(var_dic_list()) "
    }
   },
   "types_to_exclude": [
    "module",
    "function",
    "builtin_function_or_method",
    "instance",
    "_Feature"
   ],
   "window_display": false
  }
 },
 "nbformat": 4,
 "nbformat_minor": 4
}
