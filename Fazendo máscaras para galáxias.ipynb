{
 "cells": [
  {
   "cell_type": "code",
   "execution_count": 129,
   "id": "racial-ability",
   "metadata": {},
   "outputs": [],
   "source": [
    "from astropy.io import fits as pyfits\n",
    "import numpy as np"
   ]
  },
  {
   "cell_type": "markdown",
   "id": "8fb6785b",
   "metadata": {},
   "source": [
    "## Documentação"
   ]
  },
  {
   "cell_type": "markdown",
   "id": "responsible-statistics",
   "metadata": {},
   "source": [
    "Links úteis:\n",
    "\n",
    "[Exemplos de máscaras](https://numpy.org/doc/stable/reference/generated/numpy.ma.masked_where.html)\n",
    "\n",
    "[Máscara em 2D](https://stackoverflow.com/questions/34860570/mask-2d-numpy-array)\n",
    "\n"
   ]
  },
  {
   "cell_type": "markdown",
   "id": "08c8ce94",
   "metadata": {},
   "source": [
    "# Máscara para regiões"
   ]
  },
  {
   "cell_type": "code",
   "execution_count": 130,
   "id": "0ecbf23c",
   "metadata": {},
   "outputs": [
    {
     "name": "stdout",
     "output_type": "stream",
     "text": [
      "[False False False ... False False False]\n",
      "[False False False ... False False False]\n"
     ]
    }
   ],
   "source": [
    "# dimensões da sua imagem\n",
    "y=np.arange(0,1620,1)\n",
    "x=np.arange(0,1345,1)\n",
    "\n",
    "#intervalo, em pixeis, a ser coberto (veja no ds9) \n",
    "xmask = (x > 486) & (x < 496)\n",
    "ymask = (y > 915) & (y < 923)\n",
    "\n",
    "\n",
    "print(xmask) # mascara em x\n",
    "print(ymask) # mascara em y"
   ]
  },
  {
   "cell_type": "code",
   "execution_count": 131,
   "id": "782c413b",
   "metadata": {},
   "outputs": [],
   "source": [
    "#Compondo uma máscara em 2D (apenas os pontos com dois valores \"True\" serão mascaradas). Estamos criando eixos \n",
    "# adicionais para cada máscara e unindo elas\n",
    "mask = xmask[np.newaxis, :] & ymask[:, np.newaxis]"
   ]
  },
  {
   "cell_type": "code",
   "execution_count": 132,
   "id": "67e76731",
   "metadata": {},
   "outputs": [
    {
     "name": "stdout",
     "output_type": "stream",
     "text": [
      "[[False False False ... False False False]\n",
      " [False False False ... False False False]\n",
      " [False False False ... False False False]\n",
      " ...\n",
      " [False False False ... False False False]\n",
      " [False False False ... False False False]\n",
      " [False False False ... False False False]]\n"
     ]
    }
   ],
   "source": [
    "print(mask)"
   ]
  },
  {
   "cell_type": "markdown",
   "id": "e1abc2b3",
   "metadata": {},
   "source": [
    "### Preparando a máscara para uso "
   ]
  },
  {
   "cell_type": "markdown",
   "id": "2f9206ab",
   "metadata": {},
   "source": [
    " Vamos trocar o tipo dos dados para float, em vez de booleano:"
   ]
  },
  {
   "cell_type": "code",
   "execution_count": 133,
   "id": "576c3a68",
   "metadata": {},
   "outputs": [
    {
     "data": {
      "text/plain": [
       "array([[0., 0., 0., ..., 0., 0., 0.],\n",
       "       [0., 0., 0., ..., 0., 0., 0.],\n",
       "       [0., 0., 0., ..., 0., 0., 0.],\n",
       "       ...,\n",
       "       [0., 0., 0., ..., 0., 0., 0.],\n",
       "       [0., 0., 0., ..., 0., 0., 0.],\n",
       "       [0., 0., 0., ..., 0., 0., 0.]])"
      ]
     },
     "execution_count": 133,
     "metadata": {},
     "output_type": "execute_result"
    }
   ],
   "source": [
    "#Vamos trocar o tipo dos dados \n",
    "mask = mask.astype('float')\n",
    "mask"
   ]
  },
  {
   "cell_type": "markdown",
   "id": "3c17f93a",
   "metadata": {},
   "source": [
    "E transformar 1 (região de leitura com defeito) para nan. E 0 (região sem defeito) para 1:"
   ]
  },
  {
   "cell_type": "code",
   "execution_count": 134,
   "id": "e46a3806",
   "metadata": {},
   "outputs": [
    {
     "name": "stdout",
     "output_type": "stream",
     "text": [
      "[[1. 1. 1. ... 1. 1. 1.]\n",
      " [1. 1. 1. ... 1. 1. 1.]\n",
      " [1. 1. 1. ... 1. 1. 1.]\n",
      " ...\n",
      " [1. 1. 1. ... 1. 1. 1.]\n",
      " [1. 1. 1. ... 1. 1. 1.]\n",
      " [1. 1. 1. ... 1. 1. 1.]]\n"
     ]
    }
   ],
   "source": [
    "count=0\n",
    "count2=0\n",
    "for i in range(0,1620):\n",
    "    for j in range(0,1345):\n",
    "        if mask[i,j] == 1:\n",
    "            mask[i,j] = 0.02\n",
    "            count=count+1\n",
    "            \n",
    "        if mask[i,j] == 0:\n",
    "            mask[i,j] = 1\n",
    "            count2=count2+1\n",
    "#print(count, count2)\n",
    "print(mask)"
   ]
  },
  {
   "cell_type": "markdown",
   "id": "d76b40cf",
   "metadata": {},
   "source": [
    "### Aplicando a máscara em uma imagem"
   ]
  },
  {
   "cell_type": "code",
   "execution_count": 135,
   "id": "7865abab",
   "metadata": {},
   "outputs": [],
   "source": [
    "# imagem a ser testada com a correção\n",
    "chip1_29=pyfits.open('NGC4501.phot.2 teste2.fits')"
   ]
  },
  {
   "cell_type": "code",
   "execution_count": 136,
   "id": "6046975e",
   "metadata": {
    "scrolled": true
   },
   "outputs": [
    {
     "name": "stdout",
     "output_type": "stream",
     "text": [
      "Filename: NGC4501.phot.2 teste2.fits\n",
      "No.    Name      Ver    Type      Cards   Dimensions   Format\n",
      "  0  PRIMARY       1 PrimaryHDU    2658   (1345, 1620)   float64   \n"
     ]
    }
   ],
   "source": [
    "chip1_29.info()"
   ]
  },
  {
   "cell_type": "code",
   "execution_count": 137,
   "id": "174e78fe",
   "metadata": {},
   "outputs": [
    {
     "data": {
      "text/plain": [
       "array([[nan, nan, nan, ..., nan, nan, nan],\n",
       "       [nan, nan, nan, ..., nan, nan, nan],\n",
       "       [nan, nan, nan, ..., nan, nan, nan],\n",
       "       ...,\n",
       "       [nan, nan, nan, ..., nan, nan, nan],\n",
       "       [nan, nan, nan, ..., nan, nan, nan],\n",
       "       [nan, nan, nan, ..., nan, nan, nan]])"
      ]
     },
     "execution_count": 137,
     "metadata": {},
     "output_type": "execute_result"
    }
   ],
   "source": [
    "# matriz de dados da imagem (obs: pyfits.getdata tmb funciona). \n",
    "im=chip1_29[0].data\n",
    "im"
   ]
  },
  {
   "cell_type": "code",
   "execution_count": 138,
   "id": "0fa817bf",
   "metadata": {},
   "outputs": [],
   "source": [
    "# a = mask*0.02"
   ]
  },
  {
   "cell_type": "code",
   "execution_count": 139,
   "id": "45aa047f",
   "metadata": {},
   "outputs": [],
   "source": [
    "# multiplicando a matriz de dados pela máscara\n",
    "im2=im*mask"
   ]
  },
  {
   "cell_type": "markdown",
   "id": "d8694640",
   "metadata": {},
   "source": [
    "### Salvando em fits (aprendi com Natanael =) )"
   ]
  },
  {
   "cell_type": "code",
   "execution_count": 140,
   "id": "6137c326",
   "metadata": {
    "scrolled": false
   },
   "outputs": [],
   "source": [
    "path='/home/natanael/Área de Trabalho/Iniciação Científica/IC Novembro 2021/Subsample/Análogas/NGC4501 JIC/'\n",
    "#salvando \n",
    "# name=chip1_29[0].header['FILENAME'] #nome original do header, não inclui \".fits\"\n",
    "name='NGC4501.phot.2 final.fits'\n",
    "hdu = pyfits.PrimaryHDU(im2,chip1_29[0].header)\n",
    "hdul = pyfits.HDUList([hdu])\n",
    "hdul.writeto(path+'/'+name, overwrite=True) "
   ]
  },
  {
   "cell_type": "code",
   "execution_count": null,
   "id": "c4361c74",
   "metadata": {},
   "outputs": [],
   "source": []
  },
  {
   "cell_type": "code",
   "execution_count": null,
   "id": "9eed23f5",
   "metadata": {},
   "outputs": [],
   "source": []
  },
  {
   "cell_type": "code",
   "execution_count": null,
   "id": "4170f94a",
   "metadata": {},
   "outputs": [],
   "source": []
  },
  {
   "cell_type": "code",
   "execution_count": null,
   "id": "88b338c9",
   "metadata": {},
   "outputs": [],
   "source": []
  }
 ],
 "metadata": {
  "kernelspec": {
   "display_name": "Python 3 (ipykernel)",
   "language": "python",
   "name": "python3"
  },
  "language_info": {
   "codemirror_mode": {
    "name": "ipython",
    "version": 3
   },
   "file_extension": ".py",
   "mimetype": "text/x-python",
   "name": "python",
   "nbconvert_exporter": "python",
   "pygments_lexer": "ipython3",
   "version": "3.9.7"
  }
 },
 "nbformat": 4,
 "nbformat_minor": 5
}
