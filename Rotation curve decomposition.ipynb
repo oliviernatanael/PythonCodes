{
 "cells": [
  {
   "cell_type": "markdown",
   "id": "447ab460",
   "metadata": {},
   "source": [
    "# Rotation curve decomposition (e.g. bulge, gas, disk, and halo)"
   ]
  },
  {
   "cell_type": "code",
   "execution_count": null,
   "id": "fa152934",
   "metadata": {},
   "outputs": [],
   "source": [
    "import matplotlib.pyplot as plt\n",
    "from scipy.optimize import curve_fit\n",
    "import numpy as np\n",
    "import plotly.graph_objs as go\n",
    "from numpy import arange\n",
    "from matplotlib import pyplot\n",
    "from lmfit import Model, Parameters\n",
    "import scipy\n",
    "from astropy.table import Table\n",
    "from matplotlib import ticker, cm\n",
    "import matplotlib.ticker as ticker"
   ]
  },
  {
   "cell_type": "code",
   "execution_count": null,
   "id": "fdc596e5",
   "metadata": {},
   "outputs": [],
   "source": [
    "radius = np.array([ # array of radii  \n",
    "                    ])\n",
    "\n",
    "velocity = np.array([ # array of velocities  \n",
    "                    ])"
   ]
  },
  {
   "cell_type": "code",
   "execution_count": null,
   "id": "1a4db0c1",
   "metadata": {},
   "outputs": [],
   "source": [
    "# Defining some constants:\n",
    "G = 4.30091e-6                  # Gravoitational constant in [kpc M_sun⁻¹ km² s⁻²]\n",
    "r_meia_massa = y                # Half stellar mass radius in [kpc]\n",
    "scale_length_disco = y          # Disk scale-length in [kpc]\n",
    "scale_length_bojo = z           # Bulge scale-length in [kpc]\n",
    "r_vir = r_meia_massa / 0.015    # Relation between virial radius and half stellar mass radius\n",
    "                                # suggested by Kravtsov (2012): https://arxiv.org/pdf/1212.2980.pdf"
   ]
  },
  {
   "cell_type": "markdown",
   "id": "deb13ae0",
   "metadata": {},
   "source": [
    "## Decomposition using the following profiles:\n",
    "### Bulge: Hernquist profile\n",
    "### Disk: Kuzmin profile\n",
    "### Gas: Chauhan profile\n",
    "### Halo: Navarro-Frenk-White profile"
   ]
  },
  {
   "cell_type": "code",
   "execution_count": null,
   "id": "58a2e322",
   "metadata": {},
   "outputs": [],
   "source": [
    "def fit_curve(radius,M_h,R_h):\n",
    "    G = 4.30091e-6\n",
    "    a = scale_length_disco\n",
    "    R = radius\n",
    "    R_b = scale_length_bojo\n",
    "    M_b = # Add the bulge mass;\n",
    "    M_d = # Add the disk mass;\n",
    "    M_gas = 4.8e9\n",
    "    r_meia_massa_estelar = # Add the half stellar mass radius;\n",
    "    r_vir = r_meia_massa_estelar / 0.015\n",
    "    r_sgas = xx/1.67   # Add the gas radius; 1.67 comes from G. Chauhan et al.: https://arxiv.org/pdf/1906.06130.pdf\n",
    "    c_gas = r_vir/r_sgas\n",
    "    x = R/r_vir\n",
    "    \n",
    "    v_disk = ((G*M_d*(R**2))/(((R**2)+(a**2))**(3/2)))\n",
    "    v_halo = (R*((2*G*M_h*(R+R_h)*np.log((R+R_h)/R_h)-2*G*M_h*R)/((R**2)*np.log(4)*R_h + \n",
    "                                                    (R**3)*np.log(4)-(R**2)*R_h-R**3)))\n",
    "    v_bulge = ((G*M_b*R)/(R+R_b)**2)\n",
    "    v_gas =  ((G*M_gas)/r_vir)*((c_gas+4.8*c_gas*np.exp((-0.35*c_gas*x)-(3.5/(c_gas*x))))/((c_gas*x)+((c_gas*x)**(-2))+2*(c_gas*x)**(-1/2)))\n",
    "    \n",
    "    \n",
    "    return np.sqrt(v_halo + v_bulge + v_disk + v_gas)"
   ]
  },
  {
   "cell_type": "code",
   "execution_count": null,
   "id": "1cff8534",
   "metadata": {},
   "outputs": [],
   "source": [
    "G = 4.30091e-6\n",
    "a = scale_length_disco\n",
    "R = radius\n",
    "R_b = scale_length_bojo\n",
    "M_b = # Add the bulge mass;\n",
    "M_d = # Add the disk mass;\n",
    "M_gas = 4.8e9\n",
    "r_meia_massa_estelar = # Add the half stellar mass radius;\n",
    "r_vir = r_meia_massa_estelar / 0.015\n",
    "r_sgas = xx/1.67   # Add the gas radius; 1.67 comes from G. Chauhan et al.: https://arxiv.org/pdf/1906.06130.pdf\n",
    "c_gas = r_vir/r_sgas\n",
    "x = R/r_vir\n",
    "\n",
    "\n",
    "popt, pcov = curve_fit(fit_curve, radius, velocity, p0=[1e12,12],bounds=((3.5e11, 7),(1e13,80)))\n",
    "\n",
    "M_h,R_h = popt"
   ]
  },
  {
   "cell_type": "code",
   "execution_count": null,
   "id": "a159d56e",
   "metadata": {},
   "outputs": [],
   "source": [
    "print('Halo scale radius:  ',round((R_h),2), 'kpc')\n",
    "print('Virial mass (log):  ',round((np.log10(M_h)),3), '')"
   ]
  },
  {
   "cell_type": "code",
   "execution_count": null,
   "id": "b1009517",
   "metadata": {},
   "outputs": [],
   "source": [
    "v_halo = np.sqrt(R*((2*G*M_h*(R+R_h)*np.log((R+R_h)/R_h)-2*G*M_h*R)/((R**2)*np.log(4)*R_h + \n",
    "                                                    (R**3)*np.log(4)-(R**2)*R_h-R**3)))\n",
    "v_disk = np.sqrt(((G*M_d*(R**2))/(((R**2)+(a**2))**(3/2))))\n",
    "v_bulge = np.sqrt(((G*M_b*R)/(R+R_b)**2))\n",
    "v_gas = np.sqrt(((G*M_gas)/r_vir)*((c_gas+4.8*c_gas*np.exp((-0.35*c_gas*x)-(3.5/(c_gas*x))))/((c_gas*x)+((c_gas*x)**(-2))+2*(c_gas*x)**(-1/2))))"
   ]
  },
  {
   "cell_type": "code",
   "execution_count": null,
   "id": "bca24c71",
   "metadata": {},
   "outputs": [],
   "source": [
    "def fmt(x, pos):\n",
    "    a, b = '{:.1e}'.format(x).split('e')\n",
    "    b = int(b)\n",
    "    return r'${} \\times 10^{{{}}}$'.format(a, b)\n",
    "\n",
    "font = {'family': 'serif',\n",
    "        'color':  'black',\n",
    "        'weight': 'light',\n",
    "        'size': 13}\n",
    "# plt.text(0.25, 1.75e11, \"Iocco et al. (2011)\", fontdict=font)\n",
    "\n",
    "font2 = {'family': 'sans-serif',\n",
    "        'color':  'black',\n",
    "        'weight': 'bold',\n",
    "        'size': 20}"
   ]
  },
  {
   "cell_type": "code",
   "execution_count": null,
   "id": "4c17b297",
   "metadata": {},
   "outputs": [],
   "source": [
    "# Calculating the 1-sigma range of reliability \n",
    "\n",
    "v_fit = fit_curve(R, *popt)\n",
    "v = velocity\n",
    "residuals = v - v_fit\n",
    "residual_std = np.std(residuals)"
   ]
  },
  {
   "cell_type": "code",
   "execution_count": null,
   "id": "a736db7e",
   "metadata": {},
   "outputs": [],
   "source": [
    "plt.figure(figsize=(12,8))\n",
    "\n",
    "plt.plot(radius, v_halo,linestyle='dashed', label=r'$\\bf NGC \\,\\,xxxx$',color='white',linewidth=0.01)\n",
    "\n",
    "plt.plot(radius,velocity, '.',ms=7, label = 'HI (This work)',color='k')\n",
    "\n",
    "plt.plot(radius, fit_curve(R, *popt),linestyle='-', label='Best fit',color='r',linewidth=1.5)\n",
    "\n",
    "plt.plot(radius, v_bulge,linestyle='-', label='Bulge',color='y',linewidth=0.8)\n",
    "\n",
    "plt.plot(radius, v_disk,linestyle='-', label='Disk',color='blue',linewidth=0.8)\n",
    "\n",
    "plt.plot(radius, v_gas,linestyle='-', label='Gas',color='r',linewidth=0.8)\n",
    "\n",
    "plt.plot(radius, v_halo,linestyle='-', label='Halo',color='purple',linewidth=0.8)\n",
    "plt.fill_between(radius, v_fit - residual_std, v_fit + residual_std, alpha=0.2, color='gray', label=r'$1\\,\\sigma$')\n",
    "\n",
    "\n",
    "plt.xlabel(r\"$\\bf{Raio \\,\\, [kpc]}$\",size=18,fontdict=font2)\n",
    "plt.ylabel(r\"Velocidade circular $\\,\\, \\bf{\\left[km \\, s^{-1} \\right]}$\",size=18, fontdict=font2)\n",
    "\n",
    "# plt.xlim([0, 1])\n",
    "# plt.yscale(\"log\")\n",
    "# plt.ylim(-10,195)\n",
    "# plt.yticks([0,45,90,135,180])\n",
    "\n",
    "plt.legend(frameon=True,framealpha=0.6, loc='best')\n",
    "\n",
    "# resolution_value = 2200\n",
    "# plt.savefig(\"x.svg\", format=\"svg\", dpi=resolution_value)\n"
   ]
  },
  {
   "cell_type": "code",
   "execution_count": null,
   "id": "48d83d3d",
   "metadata": {},
   "outputs": [],
   "source": []
  },
  {
   "cell_type": "code",
   "execution_count": null,
   "id": "c60f4d41",
   "metadata": {},
   "outputs": [],
   "source": []
  }
 ],
 "metadata": {
  "kernelspec": {
   "display_name": "Python 3 (ipykernel)",
   "language": "python",
   "name": "python3"
  },
  "language_info": {
   "codemirror_mode": {
    "name": "ipython",
    "version": 3
   },
   "file_extension": ".py",
   "mimetype": "text/x-python",
   "name": "python",
   "nbconvert_exporter": "python",
   "pygments_lexer": "ipython3",
   "version": "3.9.12"
  }
 },
 "nbformat": 4,
 "nbformat_minor": 5
}
