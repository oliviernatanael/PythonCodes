{
 "cells": [
  {
   "cell_type": "markdown",
   "id": "fd997bf1",
   "metadata": {},
   "source": [
    "# NGC 4501"
   ]
  },
  {
   "cell_type": "code",
   "execution_count": 1,
   "id": "7f63799f",
   "metadata": {},
   "outputs": [],
   "source": [
    "import matplotlib.pyplot as plt\n",
    "from scipy.optimize import curve_fit\n",
    "import numpy as np\n",
    "import plotly.graph_objs as go\n",
    "from numpy import arange\n",
    "from scipy.optimize import curve_fit\n",
    "from matplotlib import pyplot"
   ]
  },
  {
   "cell_type": "markdown",
   "id": "56df3aef",
   "metadata": {},
   "source": [
    "$$(M_{3.6\\,\\mu m} - M_{4.5\\,\\mu m})_{Bojo}=(M_{3.6\\,\\mu m} - M_{4.5\\,\\mu m})_{NGC\\,4698}$$\n",
    "$$(10.8527-M_{4.5\\,\\mu m})_{Bojo}=[-21.693-(-21.205)]_{NGC\\,4698}$$\n",
    "$$(10.8527-M_{4.5\\,\\mu m})_{Bojo}=(-0.488)_{NGC\\,4698}$$\n",
    "$$(M_{4.5\\,\\mu m})_{Bojo}=11.3407$$"
   ]
  },
  {
   "cell_type": "code",
   "execution_count": 46,
   "id": "cae802ac",
   "metadata": {},
   "outputs": [],
   "source": [
    "# Gás se aproximando\n",
    "\n",
    "radius = np.array([ 3.6408812 ,  5.38217221,  7.12346322,\n",
    "        8.86475423, 10.60604524, 12.34733625, 14.08862726, 15.82991827,\n",
    "       17.57120928, 19.31250029, 21.0537913 , 22.79508231, 24.53637332,\n",
    "       26.27766432, 28.01895533, 29.76024634, 31.50153735, 33.24282836,\n",
    "       34.98411937, 36.72541038, 38.46670139, 40.2079924 , 41.94928341,\n",
    "       43.69057442, 45.43186543, 47.17315644])\n",
    "\n",
    "velocity = np.array([ 154.83117279, 178.38194055,\n",
    "       203.00195324, 210.32529973, 211.68917458, 213.26239175,\n",
    "       215.42438416, 223.88699865, 229.4820596 , 236.16211461,\n",
    "       236.16211461, 230.20288526, 230.21063868, 230.17187159,\n",
    "       231.58226695, 228.89304205, 231.93868193, 230.71436862,\n",
    "       226.84735092, 229.45104592, 230.56705366, 233.6744786 ,\n",
    "       236.5650501 , 236.5650501 , 241.07535928, 246.50784072])"
   ]
  },
  {
   "cell_type": "code",
   "execution_count": 47,
   "id": "7abf5178",
   "metadata": {},
   "outputs": [],
   "source": [
    "kpc = 3.086e+21 # conversão de [kpc] para [cm];\n",
    "massa_solar = 1.9889999e+33 # conversão de [massa solar] para [g];\n",
    "radius = radius * 3.086e+21 # passar de [kpc] para [cm], a fim de deixar as unidades no sistema cgs;\n",
    "velocity = velocity * 1e5 # passar de [km s⁻¹] para [cm s⁻¹];\n",
    "G = 6.67e-8 # constante gravitacional em [cm³ g⁻¹ s⁻²];\n",
    "diametropixel = 0.085993765 # em [kpc]"
   ]
  },
  {
   "cell_type": "code",
   "execution_count": 48,
   "id": "84e9deca",
   "metadata": {},
   "outputs": [],
   "source": [
    "# scale_radius_halo = (420.11903*2)*diametropixel # quantidade de pixels que correspondem ao raio halo multiplicada por 2,\n",
    "#                                         # vezes o diâmetro físico de cada pixel\n",
    "# print('O raio do halo é: ',scale_radius_halo,' kpc!') # em [kpc]"
   ]
  },
  {
   "cell_type": "code",
   "execution_count": 49,
   "id": "9fe04b3b",
   "metadata": {},
   "outputs": [
    {
     "name": "stdout",
     "output_type": "stream",
     "text": [
      "O raio do bojo é:  4.206337667006005  kpc!\n"
     ]
    }
   ],
   "source": [
    "scale_length_bojo = (88.7944/1.8153)*diametropixel # valor tirado de S4G: https://irsa.ipac.caltech.edu/data/SPITZER/S4G/galaxies/NGC4698/P4/NGC4698_bd.outgal\n",
    "                                                # tá dividido por 1.7 porque tem uma relação que diz que o raio efetivo é 1.7 x o scale length: http://burro.case.edu/Academics/Astr222/Galaxies/Intro/properties.html\n",
    "\n",
    "print('O raio do bojo é: ',scale_length_bojo,' kpc!') # em [kpc]"
   ]
  },
  {
   "cell_type": "code",
   "execution_count": 50,
   "id": "599eaffd",
   "metadata": {},
   "outputs": [
    {
     "name": "stdout",
     "output_type": "stream",
     "text": [
      "O scale-length do disco é:  4.547935050802  kpc!\n"
     ]
    }
   ],
   "source": [
    "scale_length_disco = (52.8868)*diametropixel # valor tirado de S4G: https://irsa.ipac.caltech.edu/data/SPITZER/S4G/galaxies/NGC4698/P4/NGC4698_bd.outgal\n",
    "\n",
    "print('O scale-length do disco é: ',scale_length_disco,' kpc!') # em [kpc]"
   ]
  },
  {
   "cell_type": "code",
   "execution_count": 51,
   "id": "f81d5952",
   "metadata": {},
   "outputs": [],
   "source": [
    "def fit_curve(radius,M_h,R_h):\n",
    "    G = 6.67e-8\n",
    "    a = scale_length_disco * kpc\n",
    "    R = radius\n",
    "    R_b = scale_length_bojo * kpc\n",
    "#     R_h = scale_radius_halo * kpc\n",
    "    M_b = 7722834333.776 * massa_solar\n",
    "    M_d = 125179189956.762 * massa_solar\n",
    "    \n",
    "    comp1 = ((G*M_b*R)/(R+R_b)**2)\n",
    "    comp2 = ((G*M_d*(R**2))/(((R**2)+(a**2))**(3/2)))\n",
    "    comp3 = (R*((2*G*M_h*(R+R_h)*np.log((R+R_h)/R_h)-2*G*M_h*R)/((R**2)*np.log(4)*R_h + \n",
    "                                                    (R**3)*np.log(4)-(R**2)*R_h-R**3)))\n",
    "    \n",
    "    return np.sqrt(comp1 + comp2 + comp3)"
   ]
  },
  {
   "cell_type": "code",
   "execution_count": 52,
   "id": "ba2e45e0",
   "metadata": {},
   "outputs": [],
   "source": [
    "a = scale_length_disco * kpc\n",
    "R = radius\n",
    "R_b = scale_length_bojo * kpc\n",
    "# R_h = scale_radius_halo * kpc\n",
    "M_b = 7722834333.776 * massa_solar\n",
    "M_d = 125179189956.762 * massa_solar\n",
    "\n",
    "popt, pcov = curve_fit(fit_curve, radius, velocity, p0=[6e11*massa_solar,20*kpc])#, 1.1*kpc, 35*kpc])\n",
    "#                                                     bounds=((1e8*massa_solar, 1e10*massa_solar,\n",
    "#                                                              1e11*massa_solar, 0.2*kpc, 5*kpc),\n",
    "#                                                             (3e10*massa_solar, 3e11*massa_solar,\n",
    "#                                                              5e15*massa_solar, 4*kpc, 5000*kpc)))\n",
    "M_h,R_h = popt"
   ]
  },
  {
   "cell_type": "code",
   "execution_count": 53,
   "id": "51f73d5a",
   "metadata": {},
   "outputs": [
    {
     "name": "stdout",
     "output_type": "stream",
     "text": [
      "Massa do Bojo (log):    9.888\n",
      "Massa do Disco (log):   11.098\n",
      "\"Massa\" do Halo (log):  14.532\n",
      "Scale lenght do Bojo:   4.206 kpc\n",
      "Scale radius do Halo:   1863.59 kpc\n",
      "Scale lenght do Disco:  4.548 kpc\n"
     ]
    }
   ],
   "source": [
    "print('Massa do Bojo (log):   ',round(np.log10(M_b/massa_solar),3))\n",
    "print('Massa do Disco (log):  ',round(np.log10(M_d/massa_solar),3))\n",
    "print('\"Massa\" do Halo (log): ',round(np.log10(M_h/massa_solar),3))\n",
    "print('Scale lenght do Bojo:  ',round((R_b/kpc),3), 'kpc')\n",
    "print('Scale radius do Halo:  ',round((R_h/kpc),2), 'kpc')\n",
    "print('Scale lenght do Disco: ',round((a/kpc),3), 'kpc')"
   ]
  },
  {
   "cell_type": "markdown",
   "id": "20879aae",
   "metadata": {},
   "source": [
    "Qual a diferença entre effective radius, scale radius e scale lenght?"
   ]
  },
  {
   "cell_type": "code",
   "execution_count": 37,
   "id": "55afc38c",
   "metadata": {},
   "outputs": [],
   "source": [
    "# Bojo de Hernquist\n",
    "bojo = np.sqrt((G*M_b*R)/(R+R_b)**2)\n",
    "\n",
    "# Disco de Kuzmin\n",
    "disk = np.sqrt((G*M_d*(R**2))/(((R**2)+(a**2))**(3/2)))\n",
    "\n",
    "# Halo de NFW\n",
    "halo = np.sqrt(R*((2*G*M_h*(R+R_h)*np.log((R+R_h)/R_h)-2*G*M_h*R)/((R**2)*np.log(4)*R_h + \n",
    "                                                    (R**3)*np.log(4)-(R**2)*R_h-R**3)))"
   ]
  },
  {
   "cell_type": "code",
   "execution_count": 38,
   "id": "fbff9b8b",
   "metadata": {},
   "outputs": [
    {
     "data": {
      "application/vnd.plotly.v1+json": {
       "config": {
        "plotlyServerURL": "https://plot.ly"
       },
       "data": [
        {
         "line": {
          "color": "black",
          "dash": "solid",
          "width": 0.7
         },
         "marker": {
          "color": "black",
          "size": 3,
          "symbol": "circle-dot"
         },
         "mode": "markers",
         "name": "HI data",
         "type": "scatter",
         "x": [
          1.58299183,
          3.32428284,
          5.06557385,
          6.806864859999999,
          8.54815586,
          10.28944687,
          12.03073788,
          13.772028890000001,
          15.513319900000003,
          17.25461091,
          18.99590192,
          20.73719293,
          22.47848394,
          24.21977495,
          25.961065960000003,
          27.702356970000004,
          29.443647980000005,
          31.18493899,
          32.92623,
          34.66752101,
          36.40881202,
          38.15010303,
          39.89139404,
          41.63268504,
          43.37397605,
          45.11526706,
          46.85655807,
          48.59784908,
          50.33914009
         ],
         "y": [
          28.64573319,
          37.33295453,
          52.63820353,
          104.34308925,
          168.16026914,
          200.50656380999996,
          197.82533462,
          206.33422733,
          209.94562449999998,
          209.94562449999998,
          215.42438416,
          223.88699865,
          229.4820596,
          236.16211461,
          230.20288526000002,
          227.56793429,
          230.17187159,
          233.9613551,
          231.58226695,
          232.54320630999996,
          233.81404013999997,
          230.71436862,
          229.69140191,
          234.38755085,
          235.50355859,
          237.1773279,
          239.85879939,
          237.88264673,
          242.71060379
         ]
        },
        {
         "line": {
          "color": "black",
          "width": 0.8
         },
         "marker": {
          "color": "black",
          "size": 5,
          "symbol": "circle-dot"
         },
         "mode": "lines",
         "name": "Best fit",
         "type": "scatter",
         "x": [
          1.58299183,
          3.32428284,
          5.06557385,
          6.806864859999999,
          8.54815586,
          10.28944687,
          12.03073788,
          13.772028890000001,
          15.513319900000003,
          17.25461091,
          18.99590192,
          20.73719293,
          22.47848394,
          24.21977495,
          25.961065960000003,
          27.702356970000004,
          29.443647980000005,
          31.18493899,
          32.92623,
          34.66752101,
          36.40881202,
          38.15010303,
          39.89139404,
          41.63268504,
          43.37397605,
          45.11526706,
          46.85655807,
          48.59784908,
          50.33914009
         ],
         "y": [
          123.25368661215816,
          196.11261768960568,
          225.10702350472718,
          232.28537218189297,
          231.09007525896232,
          227.3321005420755,
          223.27875210000198,
          219.7521390894559,
          216.99873433912248,
          215.03878489778697,
          213.80839703592386,
          213.21804259982926,
          213.1764341470368,
          213.59969733735755,
          214.41423441479165,
          215.55692036054722,
          216.97424329750706,
          218.62110568411245,
          220.4595984977474,
          222.45787535526398,
          224.58916868622782,
          226.83095215120184,
          229.1642376901981,
          231.5729901449432,
          234.0436418182681,
          236.5646903739408,
          239.12636605443876,
          241.72035584489376,
          244.33957456478907
         ]
        },
        {
         "line": {
          "color": "rgba(255,165,0, 1)",
          "dash": "dot",
          "width": 1
         },
         "marker": {
          "color": "rgba(255,165,0, 1)",
          "size": 3,
          "symbol": "circle-dot"
         },
         "mode": "lines",
         "name": "Bulge",
         "type": "scatter",
         "x": [
          1.58299183,
          3.32428284,
          5.06557385,
          6.806864859999999,
          8.54815586,
          10.28944687,
          12.03073788,
          13.772028890000001,
          15.513319900000003,
          17.25461091,
          18.99590192,
          20.73719293,
          22.47848394,
          24.21977495,
          25.961065960000003,
          27.702356970000004,
          29.443647980000005,
          31.18493899,
          32.92623,
          34.66752101,
          36.40881202,
          38.15010303,
          39.89139404,
          41.63268504,
          43.37397605,
          45.11526706,
          46.85655807,
          48.59784908,
          50.33914009
         ],
         "y": [
          39.598776253637745,
          44.115267537290144,
          44.22987818282428,
          43.16488960673861,
          41.768001367287624,
          40.32041425989149,
          38.92324295541661,
          37.61139379342403,
          36.393489684515444,
          35.267475016731936,
          34.22715080357774,
          33.265017409492295,
          32.373518326913505,
          31.54556247272912,
          30.774713773194584,
          30.055227442796856,
          29.382018047127403,
          28.750600258728127,
          28.15702190548473,
          27.59779843013878,
          27.069852677902077,
          26.570461359148094,
          26.097208295293846,
          25.647943997192172,
          25.220750889595287,
          24.81391350110963,
          24.425892881939387,
          24.05530466901236,
          23.700900240420243
         ]
        },
        {
         "line": {
          "color": "royalblue",
          "dash": "dash",
          "width": 1
         },
         "marker": {
          "color": "rgba(8, 0, 246, 0.8)",
          "size": 3,
          "symbol": "circle-dot"
         },
         "mode": "lines",
         "name": "Disk",
         "type": "scatter",
         "x": [
          1.58299183,
          3.32428284,
          5.06557385,
          6.806864859999999,
          8.54815586,
          10.28944687,
          12.03073788,
          13.772028890000001,
          15.513319900000003,
          17.25461091,
          18.99590192,
          20.73719293,
          22.47848394,
          24.21977495,
          25.961065960000003,
          27.702356970000004,
          29.443647980000005,
          31.18493899,
          32.92623,
          34.66752101,
          36.40881202,
          38.15010303,
          39.89139404,
          41.63268504,
          43.37397605,
          45.11526706,
          46.85655807,
          48.59784908,
          50.33914009
         ],
         "y": [
          109.88982139371585,
          182.3882738986567,
          209.2105904804497,
          213.1847827820003,
          208.125892899555,
          200.0448025761589,
          191.33525365654833,
          182.90921366984256,
          175.0814980060753,
          167.92615666141174,
          161.42229191181497,
          155.51487958624392,
          150.14027177998594,
          145.23661713763892,
          140.74772953568794,
          136.62411309599509,
          132.8227917675011,
          129.30668393329677,
          126.04385235022839,
          123.00677139236846,
          120.17166667924492,
          117.51794256536631,
          115.0276956446716,
          112.68530561310061,
          110.47709278536877,
          108.39103204521166,
          106.41651360579195,
          104.54414274552121,
          102.76557169163239
         ]
        },
        {
         "line": {
          "color": "rgba(153, 51, 230, 1.0)",
          "dash": "dashdot",
          "width": 1
         },
         "marker": {
          "color": "rgba(153, 51, 153, 1.0)",
          "size": 3,
          "symbol": "circle-dot"
         },
         "mode": "lines",
         "name": "Halo",
         "type": "scatter",
         "x": [
          1.58299183,
          3.32428284,
          5.06557385,
          6.806864859999999,
          8.54815586,
          10.28944687,
          12.03073788,
          13.772028890000001,
          15.513319900000003,
          17.25461091,
          18.99590192,
          20.73719293,
          22.47848394,
          24.21977495,
          25.961065960000003,
          27.702356970000004,
          29.443647980000005,
          31.18493899,
          32.92623,
          34.66752101,
          36.40881202,
          38.15010303,
          39.89139404,
          41.63268504,
          43.37397605,
          45.11526706,
          46.85655807,
          48.59784908,
          50.33914009
         ],
         "y": [
          39.33999665429147,
          56.995785207779555,
          70.34073313459204,
          81.52014981039929,
          91.33274138959202,
          100.18096172950565,
          108.30144507508686,
          115.84733594687205,
          122.924503941699,
          129.60976091787177,
          135.9609372756646,
          142.02286623683113,
          147.8311407539523,
          153.4145795982402,
          158.79690658954286,
          163.99792968027916,
          169.03439075256583,
          173.92059201107037,
          178.6688668232825,
          183.28993977033545,
          187.79320619953225,
          192.18695224230524,
          196.47853009934306,
          200.67449920771938,
          204.78074120828785,
          208.80255410471355,
          212.74473044310585,
          216.6116224136349,
          220.40719657304234
         ]
        }
       ],
       "layout": {
        "autosize": false,
        "height": 500,
        "legend": {
         "x": 0.95,
         "xanchor": "right",
         "y": 0.69,
         "yanchor": "top"
        },
        "margin": {
         "b": 100,
         "l": 50,
         "pad": 4,
         "r": 50,
         "t": 100
        },
        "paper_bgcolor": "rgba(255,255,255,1)",
        "plot_bgcolor": "rgba(255,255,255,1)",
        "template": {
         "data": {
          "bar": [
           {
            "error_x": {
             "color": "#2a3f5f"
            },
            "error_y": {
             "color": "#2a3f5f"
            },
            "marker": {
             "line": {
              "color": "#E5ECF6",
              "width": 0.5
             },
             "pattern": {
              "fillmode": "overlay",
              "size": 10,
              "solidity": 0.2
             }
            },
            "type": "bar"
           }
          ],
          "barpolar": [
           {
            "marker": {
             "line": {
              "color": "#E5ECF6",
              "width": 0.5
             },
             "pattern": {
              "fillmode": "overlay",
              "size": 10,
              "solidity": 0.2
             }
            },
            "type": "barpolar"
           }
          ],
          "carpet": [
           {
            "aaxis": {
             "endlinecolor": "#2a3f5f",
             "gridcolor": "white",
             "linecolor": "white",
             "minorgridcolor": "white",
             "startlinecolor": "#2a3f5f"
            },
            "baxis": {
             "endlinecolor": "#2a3f5f",
             "gridcolor": "white",
             "linecolor": "white",
             "minorgridcolor": "white",
             "startlinecolor": "#2a3f5f"
            },
            "type": "carpet"
           }
          ],
          "choropleth": [
           {
            "colorbar": {
             "outlinewidth": 0,
             "ticks": ""
            },
            "type": "choropleth"
           }
          ],
          "contour": [
           {
            "colorbar": {
             "outlinewidth": 0,
             "ticks": ""
            },
            "colorscale": [
             [
              0,
              "#0d0887"
             ],
             [
              0.1111111111111111,
              "#46039f"
             ],
             [
              0.2222222222222222,
              "#7201a8"
             ],
             [
              0.3333333333333333,
              "#9c179e"
             ],
             [
              0.4444444444444444,
              "#bd3786"
             ],
             [
              0.5555555555555556,
              "#d8576b"
             ],
             [
              0.6666666666666666,
              "#ed7953"
             ],
             [
              0.7777777777777778,
              "#fb9f3a"
             ],
             [
              0.8888888888888888,
              "#fdca26"
             ],
             [
              1,
              "#f0f921"
             ]
            ],
            "type": "contour"
           }
          ],
          "contourcarpet": [
           {
            "colorbar": {
             "outlinewidth": 0,
             "ticks": ""
            },
            "type": "contourcarpet"
           }
          ],
          "heatmap": [
           {
            "colorbar": {
             "outlinewidth": 0,
             "ticks": ""
            },
            "colorscale": [
             [
              0,
              "#0d0887"
             ],
             [
              0.1111111111111111,
              "#46039f"
             ],
             [
              0.2222222222222222,
              "#7201a8"
             ],
             [
              0.3333333333333333,
              "#9c179e"
             ],
             [
              0.4444444444444444,
              "#bd3786"
             ],
             [
              0.5555555555555556,
              "#d8576b"
             ],
             [
              0.6666666666666666,
              "#ed7953"
             ],
             [
              0.7777777777777778,
              "#fb9f3a"
             ],
             [
              0.8888888888888888,
              "#fdca26"
             ],
             [
              1,
              "#f0f921"
             ]
            ],
            "type": "heatmap"
           }
          ],
          "heatmapgl": [
           {
            "colorbar": {
             "outlinewidth": 0,
             "ticks": ""
            },
            "colorscale": [
             [
              0,
              "#0d0887"
             ],
             [
              0.1111111111111111,
              "#46039f"
             ],
             [
              0.2222222222222222,
              "#7201a8"
             ],
             [
              0.3333333333333333,
              "#9c179e"
             ],
             [
              0.4444444444444444,
              "#bd3786"
             ],
             [
              0.5555555555555556,
              "#d8576b"
             ],
             [
              0.6666666666666666,
              "#ed7953"
             ],
             [
              0.7777777777777778,
              "#fb9f3a"
             ],
             [
              0.8888888888888888,
              "#fdca26"
             ],
             [
              1,
              "#f0f921"
             ]
            ],
            "type": "heatmapgl"
           }
          ],
          "histogram": [
           {
            "marker": {
             "pattern": {
              "fillmode": "overlay",
              "size": 10,
              "solidity": 0.2
             }
            },
            "type": "histogram"
           }
          ],
          "histogram2d": [
           {
            "colorbar": {
             "outlinewidth": 0,
             "ticks": ""
            },
            "colorscale": [
             [
              0,
              "#0d0887"
             ],
             [
              0.1111111111111111,
              "#46039f"
             ],
             [
              0.2222222222222222,
              "#7201a8"
             ],
             [
              0.3333333333333333,
              "#9c179e"
             ],
             [
              0.4444444444444444,
              "#bd3786"
             ],
             [
              0.5555555555555556,
              "#d8576b"
             ],
             [
              0.6666666666666666,
              "#ed7953"
             ],
             [
              0.7777777777777778,
              "#fb9f3a"
             ],
             [
              0.8888888888888888,
              "#fdca26"
             ],
             [
              1,
              "#f0f921"
             ]
            ],
            "type": "histogram2d"
           }
          ],
          "histogram2dcontour": [
           {
            "colorbar": {
             "outlinewidth": 0,
             "ticks": ""
            },
            "colorscale": [
             [
              0,
              "#0d0887"
             ],
             [
              0.1111111111111111,
              "#46039f"
             ],
             [
              0.2222222222222222,
              "#7201a8"
             ],
             [
              0.3333333333333333,
              "#9c179e"
             ],
             [
              0.4444444444444444,
              "#bd3786"
             ],
             [
              0.5555555555555556,
              "#d8576b"
             ],
             [
              0.6666666666666666,
              "#ed7953"
             ],
             [
              0.7777777777777778,
              "#fb9f3a"
             ],
             [
              0.8888888888888888,
              "#fdca26"
             ],
             [
              1,
              "#f0f921"
             ]
            ],
            "type": "histogram2dcontour"
           }
          ],
          "mesh3d": [
           {
            "colorbar": {
             "outlinewidth": 0,
             "ticks": ""
            },
            "type": "mesh3d"
           }
          ],
          "parcoords": [
           {
            "line": {
             "colorbar": {
              "outlinewidth": 0,
              "ticks": ""
             }
            },
            "type": "parcoords"
           }
          ],
          "pie": [
           {
            "automargin": true,
            "type": "pie"
           }
          ],
          "scatter": [
           {
            "fillpattern": {
             "fillmode": "overlay",
             "size": 10,
             "solidity": 0.2
            },
            "type": "scatter"
           }
          ],
          "scatter3d": [
           {
            "line": {
             "colorbar": {
              "outlinewidth": 0,
              "ticks": ""
             }
            },
            "marker": {
             "colorbar": {
              "outlinewidth": 0,
              "ticks": ""
             }
            },
            "type": "scatter3d"
           }
          ],
          "scattercarpet": [
           {
            "marker": {
             "colorbar": {
              "outlinewidth": 0,
              "ticks": ""
             }
            },
            "type": "scattercarpet"
           }
          ],
          "scattergeo": [
           {
            "marker": {
             "colorbar": {
              "outlinewidth": 0,
              "ticks": ""
             }
            },
            "type": "scattergeo"
           }
          ],
          "scattergl": [
           {
            "marker": {
             "colorbar": {
              "outlinewidth": 0,
              "ticks": ""
             }
            },
            "type": "scattergl"
           }
          ],
          "scattermapbox": [
           {
            "marker": {
             "colorbar": {
              "outlinewidth": 0,
              "ticks": ""
             }
            },
            "type": "scattermapbox"
           }
          ],
          "scatterpolar": [
           {
            "marker": {
             "colorbar": {
              "outlinewidth": 0,
              "ticks": ""
             }
            },
            "type": "scatterpolar"
           }
          ],
          "scatterpolargl": [
           {
            "marker": {
             "colorbar": {
              "outlinewidth": 0,
              "ticks": ""
             }
            },
            "type": "scatterpolargl"
           }
          ],
          "scatterternary": [
           {
            "marker": {
             "colorbar": {
              "outlinewidth": 0,
              "ticks": ""
             }
            },
            "type": "scatterternary"
           }
          ],
          "surface": [
           {
            "colorbar": {
             "outlinewidth": 0,
             "ticks": ""
            },
            "colorscale": [
             [
              0,
              "#0d0887"
             ],
             [
              0.1111111111111111,
              "#46039f"
             ],
             [
              0.2222222222222222,
              "#7201a8"
             ],
             [
              0.3333333333333333,
              "#9c179e"
             ],
             [
              0.4444444444444444,
              "#bd3786"
             ],
             [
              0.5555555555555556,
              "#d8576b"
             ],
             [
              0.6666666666666666,
              "#ed7953"
             ],
             [
              0.7777777777777778,
              "#fb9f3a"
             ],
             [
              0.8888888888888888,
              "#fdca26"
             ],
             [
              1,
              "#f0f921"
             ]
            ],
            "type": "surface"
           }
          ],
          "table": [
           {
            "cells": {
             "fill": {
              "color": "#EBF0F8"
             },
             "line": {
              "color": "white"
             }
            },
            "header": {
             "fill": {
              "color": "#C8D4E3"
             },
             "line": {
              "color": "white"
             }
            },
            "type": "table"
           }
          ]
         },
         "layout": {
          "annotationdefaults": {
           "arrowcolor": "#2a3f5f",
           "arrowhead": 0,
           "arrowwidth": 1
          },
          "autotypenumbers": "strict",
          "coloraxis": {
           "colorbar": {
            "outlinewidth": 0,
            "ticks": ""
           }
          },
          "colorscale": {
           "diverging": [
            [
             0,
             "#8e0152"
            ],
            [
             0.1,
             "#c51b7d"
            ],
            [
             0.2,
             "#de77ae"
            ],
            [
             0.3,
             "#f1b6da"
            ],
            [
             0.4,
             "#fde0ef"
            ],
            [
             0.5,
             "#f7f7f7"
            ],
            [
             0.6,
             "#e6f5d0"
            ],
            [
             0.7,
             "#b8e186"
            ],
            [
             0.8,
             "#7fbc41"
            ],
            [
             0.9,
             "#4d9221"
            ],
            [
             1,
             "#276419"
            ]
           ],
           "sequential": [
            [
             0,
             "#0d0887"
            ],
            [
             0.1111111111111111,
             "#46039f"
            ],
            [
             0.2222222222222222,
             "#7201a8"
            ],
            [
             0.3333333333333333,
             "#9c179e"
            ],
            [
             0.4444444444444444,
             "#bd3786"
            ],
            [
             0.5555555555555556,
             "#d8576b"
            ],
            [
             0.6666666666666666,
             "#ed7953"
            ],
            [
             0.7777777777777778,
             "#fb9f3a"
            ],
            [
             0.8888888888888888,
             "#fdca26"
            ],
            [
             1,
             "#f0f921"
            ]
           ],
           "sequentialminus": [
            [
             0,
             "#0d0887"
            ],
            [
             0.1111111111111111,
             "#46039f"
            ],
            [
             0.2222222222222222,
             "#7201a8"
            ],
            [
             0.3333333333333333,
             "#9c179e"
            ],
            [
             0.4444444444444444,
             "#bd3786"
            ],
            [
             0.5555555555555556,
             "#d8576b"
            ],
            [
             0.6666666666666666,
             "#ed7953"
            ],
            [
             0.7777777777777778,
             "#fb9f3a"
            ],
            [
             0.8888888888888888,
             "#fdca26"
            ],
            [
             1,
             "#f0f921"
            ]
           ]
          },
          "colorway": [
           "#636efa",
           "#EF553B",
           "#00cc96",
           "#ab63fa",
           "#FFA15A",
           "#19d3f3",
           "#FF6692",
           "#B6E880",
           "#FF97FF",
           "#FECB52"
          ],
          "font": {
           "color": "#2a3f5f"
          },
          "geo": {
           "bgcolor": "white",
           "lakecolor": "white",
           "landcolor": "#E5ECF6",
           "showlakes": true,
           "showland": true,
           "subunitcolor": "white"
          },
          "hoverlabel": {
           "align": "left"
          },
          "hovermode": "closest",
          "mapbox": {
           "style": "light"
          },
          "paper_bgcolor": "white",
          "plot_bgcolor": "#E5ECF6",
          "polar": {
           "angularaxis": {
            "gridcolor": "white",
            "linecolor": "white",
            "ticks": ""
           },
           "bgcolor": "#E5ECF6",
           "radialaxis": {
            "gridcolor": "white",
            "linecolor": "white",
            "ticks": ""
           }
          },
          "scene": {
           "xaxis": {
            "backgroundcolor": "#E5ECF6",
            "gridcolor": "white",
            "gridwidth": 2,
            "linecolor": "white",
            "showbackground": true,
            "ticks": "",
            "zerolinecolor": "white"
           },
           "yaxis": {
            "backgroundcolor": "#E5ECF6",
            "gridcolor": "white",
            "gridwidth": 2,
            "linecolor": "white",
            "showbackground": true,
            "ticks": "",
            "zerolinecolor": "white"
           },
           "zaxis": {
            "backgroundcolor": "#E5ECF6",
            "gridcolor": "white",
            "gridwidth": 2,
            "linecolor": "white",
            "showbackground": true,
            "ticks": "",
            "zerolinecolor": "white"
           }
          },
          "shapedefaults": {
           "line": {
            "color": "#2a3f5f"
           }
          },
          "ternary": {
           "aaxis": {
            "gridcolor": "white",
            "linecolor": "white",
            "ticks": ""
           },
           "baxis": {
            "gridcolor": "white",
            "linecolor": "white",
            "ticks": ""
           },
           "bgcolor": "#E5ECF6",
           "caxis": {
            "gridcolor": "white",
            "linecolor": "white",
            "ticks": ""
           }
          },
          "title": {
           "x": 0.05
          },
          "xaxis": {
           "automargin": true,
           "gridcolor": "white",
           "linecolor": "white",
           "ticks": "",
           "title": {
            "standoff": 15
           },
           "zerolinecolor": "white",
           "zerolinewidth": 2
          },
          "yaxis": {
           "automargin": true,
           "gridcolor": "white",
           "linecolor": "white",
           "ticks": "",
           "title": {
            "standoff": 15
           },
           "zerolinecolor": "white",
           "zerolinewidth": 2
          }
         }
        },
        "title": {
         "text": "Rotation curve decomposition - NGC 4698",
         "x": 0.2
        },
        "width": 600,
        "xaxis": {
         "linecolor": "black",
         "linewidth": 0.005,
         "range": [
          0,
          50
         ],
         "showline": true,
         "ticks": "outside",
         "title": {
          "text": "Radius     [kpc]"
         }
        },
        "yaxis": {
         "linecolor": "black",
         "linewidth": 0.005,
         "range": [
          0,
          270
         ],
         "showline": true,
         "ticks": "outside",
         "title": {
          "text": "Circular velocity     [km s⁻¹]"
         }
        }
       }
      },
      "text/html": [
       "<div>                            <div id=\"f7419b5d-9cb5-4f41-bc68-cff3a4be6931\" class=\"plotly-graph-div\" style=\"height:500px; width:600px;\"></div>            <script type=\"text/javascript\">                require([\"plotly\"], function(Plotly) {                    window.PLOTLYENV=window.PLOTLYENV || {};                                    if (document.getElementById(\"f7419b5d-9cb5-4f41-bc68-cff3a4be6931\")) {                    Plotly.newPlot(                        \"f7419b5d-9cb5-4f41-bc68-cff3a4be6931\",                        [{\"line\":{\"color\":\"black\",\"dash\":\"solid\",\"width\":0.7},\"marker\":{\"color\":\"black\",\"size\":3,\"symbol\":\"circle-dot\"},\"mode\":\"markers\",\"name\":\"HI data\",\"x\":[1.58299183,3.32428284,5.06557385,6.806864859999999,8.54815586,10.28944687,12.03073788,13.772028890000001,15.513319900000003,17.25461091,18.99590192,20.73719293,22.47848394,24.21977495,25.961065960000003,27.702356970000004,29.443647980000005,31.18493899,32.92623,34.66752101,36.40881202,38.15010303,39.89139404,41.63268504,43.37397605,45.11526706,46.85655807,48.59784908,50.33914009],\"y\":[28.64573319,37.33295453,52.63820353,104.34308925,168.16026914,200.50656380999996,197.82533462,206.33422733,209.94562449999998,209.94562449999998,215.42438416,223.88699865,229.4820596,236.16211461,230.20288526000002,227.56793429,230.17187159,233.9613551,231.58226695,232.54320630999996,233.81404013999997,230.71436862,229.69140191,234.38755085,235.50355859,237.1773279,239.85879939,237.88264673,242.71060379],\"type\":\"scatter\"},{\"line\":{\"color\":\"black\",\"width\":0.8},\"marker\":{\"color\":\"black\",\"size\":5,\"symbol\":\"circle-dot\"},\"mode\":\"lines\",\"name\":\"Best fit\",\"x\":[1.58299183,3.32428284,5.06557385,6.806864859999999,8.54815586,10.28944687,12.03073788,13.772028890000001,15.513319900000003,17.25461091,18.99590192,20.73719293,22.47848394,24.21977495,25.961065960000003,27.702356970000004,29.443647980000005,31.18493899,32.92623,34.66752101,36.40881202,38.15010303,39.89139404,41.63268504,43.37397605,45.11526706,46.85655807,48.59784908,50.33914009],\"y\":[123.25368661215816,196.11261768960568,225.10702350472718,232.28537218189297,231.09007525896232,227.3321005420755,223.27875210000198,219.7521390894559,216.99873433912248,215.03878489778697,213.80839703592386,213.21804259982926,213.1764341470368,213.59969733735755,214.41423441479165,215.55692036054722,216.97424329750706,218.62110568411245,220.4595984977474,222.45787535526398,224.58916868622782,226.83095215120184,229.1642376901981,231.5729901449432,234.0436418182681,236.5646903739408,239.12636605443876,241.72035584489376,244.33957456478907],\"type\":\"scatter\"},{\"line\":{\"color\":\"rgba(255,165,0, 1)\",\"dash\":\"dot\",\"width\":1},\"marker\":{\"color\":\"rgba(255,165,0, 1)\",\"size\":3,\"symbol\":\"circle-dot\"},\"mode\":\"lines\",\"name\":\"Bulge\",\"x\":[1.58299183,3.32428284,5.06557385,6.806864859999999,8.54815586,10.28944687,12.03073788,13.772028890000001,15.513319900000003,17.25461091,18.99590192,20.73719293,22.47848394,24.21977495,25.961065960000003,27.702356970000004,29.443647980000005,31.18493899,32.92623,34.66752101,36.40881202,38.15010303,39.89139404,41.63268504,43.37397605,45.11526706,46.85655807,48.59784908,50.33914009],\"y\":[39.598776253637745,44.115267537290144,44.22987818282428,43.16488960673861,41.768001367287624,40.32041425989149,38.92324295541661,37.61139379342403,36.393489684515444,35.267475016731936,34.22715080357774,33.265017409492295,32.373518326913505,31.54556247272912,30.774713773194584,30.055227442796856,29.382018047127403,28.750600258728127,28.15702190548473,27.59779843013878,27.069852677902077,26.570461359148094,26.097208295293846,25.647943997192172,25.220750889595287,24.81391350110963,24.425892881939387,24.05530466901236,23.700900240420243],\"type\":\"scatter\"},{\"line\":{\"color\":\"royalblue\",\"dash\":\"dash\",\"width\":1},\"marker\":{\"color\":\"rgba(8, 0, 246, 0.8)\",\"size\":3,\"symbol\":\"circle-dot\"},\"mode\":\"lines\",\"name\":\"Disk\",\"x\":[1.58299183,3.32428284,5.06557385,6.806864859999999,8.54815586,10.28944687,12.03073788,13.772028890000001,15.513319900000003,17.25461091,18.99590192,20.73719293,22.47848394,24.21977495,25.961065960000003,27.702356970000004,29.443647980000005,31.18493899,32.92623,34.66752101,36.40881202,38.15010303,39.89139404,41.63268504,43.37397605,45.11526706,46.85655807,48.59784908,50.33914009],\"y\":[109.88982139371585,182.3882738986567,209.2105904804497,213.1847827820003,208.125892899555,200.0448025761589,191.33525365654833,182.90921366984256,175.0814980060753,167.92615666141174,161.42229191181497,155.51487958624392,150.14027177998594,145.23661713763892,140.74772953568794,136.62411309599509,132.8227917675011,129.30668393329677,126.04385235022839,123.00677139236846,120.17166667924492,117.51794256536631,115.0276956446716,112.68530561310061,110.47709278536877,108.39103204521166,106.41651360579195,104.54414274552121,102.76557169163239],\"type\":\"scatter\"},{\"line\":{\"color\":\"rgba(153, 51, 230, 1.0)\",\"dash\":\"dashdot\",\"width\":1},\"marker\":{\"color\":\"rgba(153, 51, 153, 1.0)\",\"size\":3,\"symbol\":\"circle-dot\"},\"mode\":\"lines\",\"name\":\"Halo\",\"x\":[1.58299183,3.32428284,5.06557385,6.806864859999999,8.54815586,10.28944687,12.03073788,13.772028890000001,15.513319900000003,17.25461091,18.99590192,20.73719293,22.47848394,24.21977495,25.961065960000003,27.702356970000004,29.443647980000005,31.18493899,32.92623,34.66752101,36.40881202,38.15010303,39.89139404,41.63268504,43.37397605,45.11526706,46.85655807,48.59784908,50.33914009],\"y\":[39.33999665429147,56.995785207779555,70.34073313459204,81.52014981039929,91.33274138959202,100.18096172950565,108.30144507508686,115.84733594687205,122.924503941699,129.60976091787177,135.9609372756646,142.02286623683113,147.8311407539523,153.4145795982402,158.79690658954286,163.99792968027916,169.03439075256583,173.92059201107037,178.6688668232825,183.28993977033545,187.79320619953225,192.18695224230524,196.47853009934306,200.67449920771938,204.78074120828785,208.80255410471355,212.74473044310585,216.6116224136349,220.40719657304234],\"type\":\"scatter\"}],                        {\"template\":{\"data\":{\"histogram2dcontour\":[{\"type\":\"histogram2dcontour\",\"colorbar\":{\"outlinewidth\":0,\"ticks\":\"\"},\"colorscale\":[[0.0,\"#0d0887\"],[0.1111111111111111,\"#46039f\"],[0.2222222222222222,\"#7201a8\"],[0.3333333333333333,\"#9c179e\"],[0.4444444444444444,\"#bd3786\"],[0.5555555555555556,\"#d8576b\"],[0.6666666666666666,\"#ed7953\"],[0.7777777777777778,\"#fb9f3a\"],[0.8888888888888888,\"#fdca26\"],[1.0,\"#f0f921\"]]}],\"choropleth\":[{\"type\":\"choropleth\",\"colorbar\":{\"outlinewidth\":0,\"ticks\":\"\"}}],\"histogram2d\":[{\"type\":\"histogram2d\",\"colorbar\":{\"outlinewidth\":0,\"ticks\":\"\"},\"colorscale\":[[0.0,\"#0d0887\"],[0.1111111111111111,\"#46039f\"],[0.2222222222222222,\"#7201a8\"],[0.3333333333333333,\"#9c179e\"],[0.4444444444444444,\"#bd3786\"],[0.5555555555555556,\"#d8576b\"],[0.6666666666666666,\"#ed7953\"],[0.7777777777777778,\"#fb9f3a\"],[0.8888888888888888,\"#fdca26\"],[1.0,\"#f0f921\"]]}],\"heatmap\":[{\"type\":\"heatmap\",\"colorbar\":{\"outlinewidth\":0,\"ticks\":\"\"},\"colorscale\":[[0.0,\"#0d0887\"],[0.1111111111111111,\"#46039f\"],[0.2222222222222222,\"#7201a8\"],[0.3333333333333333,\"#9c179e\"],[0.4444444444444444,\"#bd3786\"],[0.5555555555555556,\"#d8576b\"],[0.6666666666666666,\"#ed7953\"],[0.7777777777777778,\"#fb9f3a\"],[0.8888888888888888,\"#fdca26\"],[1.0,\"#f0f921\"]]}],\"heatmapgl\":[{\"type\":\"heatmapgl\",\"colorbar\":{\"outlinewidth\":0,\"ticks\":\"\"},\"colorscale\":[[0.0,\"#0d0887\"],[0.1111111111111111,\"#46039f\"],[0.2222222222222222,\"#7201a8\"],[0.3333333333333333,\"#9c179e\"],[0.4444444444444444,\"#bd3786\"],[0.5555555555555556,\"#d8576b\"],[0.6666666666666666,\"#ed7953\"],[0.7777777777777778,\"#fb9f3a\"],[0.8888888888888888,\"#fdca26\"],[1.0,\"#f0f921\"]]}],\"contourcarpet\":[{\"type\":\"contourcarpet\",\"colorbar\":{\"outlinewidth\":0,\"ticks\":\"\"}}],\"contour\":[{\"type\":\"contour\",\"colorbar\":{\"outlinewidth\":0,\"ticks\":\"\"},\"colorscale\":[[0.0,\"#0d0887\"],[0.1111111111111111,\"#46039f\"],[0.2222222222222222,\"#7201a8\"],[0.3333333333333333,\"#9c179e\"],[0.4444444444444444,\"#bd3786\"],[0.5555555555555556,\"#d8576b\"],[0.6666666666666666,\"#ed7953\"],[0.7777777777777778,\"#fb9f3a\"],[0.8888888888888888,\"#fdca26\"],[1.0,\"#f0f921\"]]}],\"surface\":[{\"type\":\"surface\",\"colorbar\":{\"outlinewidth\":0,\"ticks\":\"\"},\"colorscale\":[[0.0,\"#0d0887\"],[0.1111111111111111,\"#46039f\"],[0.2222222222222222,\"#7201a8\"],[0.3333333333333333,\"#9c179e\"],[0.4444444444444444,\"#bd3786\"],[0.5555555555555556,\"#d8576b\"],[0.6666666666666666,\"#ed7953\"],[0.7777777777777778,\"#fb9f3a\"],[0.8888888888888888,\"#fdca26\"],[1.0,\"#f0f921\"]]}],\"mesh3d\":[{\"type\":\"mesh3d\",\"colorbar\":{\"outlinewidth\":0,\"ticks\":\"\"}}],\"scatter\":[{\"fillpattern\":{\"fillmode\":\"overlay\",\"size\":10,\"solidity\":0.2},\"type\":\"scatter\"}],\"parcoords\":[{\"type\":\"parcoords\",\"line\":{\"colorbar\":{\"outlinewidth\":0,\"ticks\":\"\"}}}],\"scatterpolargl\":[{\"type\":\"scatterpolargl\",\"marker\":{\"colorbar\":{\"outlinewidth\":0,\"ticks\":\"\"}}}],\"bar\":[{\"error_x\":{\"color\":\"#2a3f5f\"},\"error_y\":{\"color\":\"#2a3f5f\"},\"marker\":{\"line\":{\"color\":\"#E5ECF6\",\"width\":0.5},\"pattern\":{\"fillmode\":\"overlay\",\"size\":10,\"solidity\":0.2}},\"type\":\"bar\"}],\"scattergeo\":[{\"type\":\"scattergeo\",\"marker\":{\"colorbar\":{\"outlinewidth\":0,\"ticks\":\"\"}}}],\"scatterpolar\":[{\"type\":\"scatterpolar\",\"marker\":{\"colorbar\":{\"outlinewidth\":0,\"ticks\":\"\"}}}],\"histogram\":[{\"marker\":{\"pattern\":{\"fillmode\":\"overlay\",\"size\":10,\"solidity\":0.2}},\"type\":\"histogram\"}],\"scattergl\":[{\"type\":\"scattergl\",\"marker\":{\"colorbar\":{\"outlinewidth\":0,\"ticks\":\"\"}}}],\"scatter3d\":[{\"type\":\"scatter3d\",\"line\":{\"colorbar\":{\"outlinewidth\":0,\"ticks\":\"\"}},\"marker\":{\"colorbar\":{\"outlinewidth\":0,\"ticks\":\"\"}}}],\"scattermapbox\":[{\"type\":\"scattermapbox\",\"marker\":{\"colorbar\":{\"outlinewidth\":0,\"ticks\":\"\"}}}],\"scatterternary\":[{\"type\":\"scatterternary\",\"marker\":{\"colorbar\":{\"outlinewidth\":0,\"ticks\":\"\"}}}],\"scattercarpet\":[{\"type\":\"scattercarpet\",\"marker\":{\"colorbar\":{\"outlinewidth\":0,\"ticks\":\"\"}}}],\"carpet\":[{\"aaxis\":{\"endlinecolor\":\"#2a3f5f\",\"gridcolor\":\"white\",\"linecolor\":\"white\",\"minorgridcolor\":\"white\",\"startlinecolor\":\"#2a3f5f\"},\"baxis\":{\"endlinecolor\":\"#2a3f5f\",\"gridcolor\":\"white\",\"linecolor\":\"white\",\"minorgridcolor\":\"white\",\"startlinecolor\":\"#2a3f5f\"},\"type\":\"carpet\"}],\"table\":[{\"cells\":{\"fill\":{\"color\":\"#EBF0F8\"},\"line\":{\"color\":\"white\"}},\"header\":{\"fill\":{\"color\":\"#C8D4E3\"},\"line\":{\"color\":\"white\"}},\"type\":\"table\"}],\"barpolar\":[{\"marker\":{\"line\":{\"color\":\"#E5ECF6\",\"width\":0.5},\"pattern\":{\"fillmode\":\"overlay\",\"size\":10,\"solidity\":0.2}},\"type\":\"barpolar\"}],\"pie\":[{\"automargin\":true,\"type\":\"pie\"}]},\"layout\":{\"autotypenumbers\":\"strict\",\"colorway\":[\"#636efa\",\"#EF553B\",\"#00cc96\",\"#ab63fa\",\"#FFA15A\",\"#19d3f3\",\"#FF6692\",\"#B6E880\",\"#FF97FF\",\"#FECB52\"],\"font\":{\"color\":\"#2a3f5f\"},\"hovermode\":\"closest\",\"hoverlabel\":{\"align\":\"left\"},\"paper_bgcolor\":\"white\",\"plot_bgcolor\":\"#E5ECF6\",\"polar\":{\"bgcolor\":\"#E5ECF6\",\"angularaxis\":{\"gridcolor\":\"white\",\"linecolor\":\"white\",\"ticks\":\"\"},\"radialaxis\":{\"gridcolor\":\"white\",\"linecolor\":\"white\",\"ticks\":\"\"}},\"ternary\":{\"bgcolor\":\"#E5ECF6\",\"aaxis\":{\"gridcolor\":\"white\",\"linecolor\":\"white\",\"ticks\":\"\"},\"baxis\":{\"gridcolor\":\"white\",\"linecolor\":\"white\",\"ticks\":\"\"},\"caxis\":{\"gridcolor\":\"white\",\"linecolor\":\"white\",\"ticks\":\"\"}},\"coloraxis\":{\"colorbar\":{\"outlinewidth\":0,\"ticks\":\"\"}},\"colorscale\":{\"sequential\":[[0.0,\"#0d0887\"],[0.1111111111111111,\"#46039f\"],[0.2222222222222222,\"#7201a8\"],[0.3333333333333333,\"#9c179e\"],[0.4444444444444444,\"#bd3786\"],[0.5555555555555556,\"#d8576b\"],[0.6666666666666666,\"#ed7953\"],[0.7777777777777778,\"#fb9f3a\"],[0.8888888888888888,\"#fdca26\"],[1.0,\"#f0f921\"]],\"sequentialminus\":[[0.0,\"#0d0887\"],[0.1111111111111111,\"#46039f\"],[0.2222222222222222,\"#7201a8\"],[0.3333333333333333,\"#9c179e\"],[0.4444444444444444,\"#bd3786\"],[0.5555555555555556,\"#d8576b\"],[0.6666666666666666,\"#ed7953\"],[0.7777777777777778,\"#fb9f3a\"],[0.8888888888888888,\"#fdca26\"],[1.0,\"#f0f921\"]],\"diverging\":[[0,\"#8e0152\"],[0.1,\"#c51b7d\"],[0.2,\"#de77ae\"],[0.3,\"#f1b6da\"],[0.4,\"#fde0ef\"],[0.5,\"#f7f7f7\"],[0.6,\"#e6f5d0\"],[0.7,\"#b8e186\"],[0.8,\"#7fbc41\"],[0.9,\"#4d9221\"],[1,\"#276419\"]]},\"xaxis\":{\"gridcolor\":\"white\",\"linecolor\":\"white\",\"ticks\":\"\",\"title\":{\"standoff\":15},\"zerolinecolor\":\"white\",\"automargin\":true,\"zerolinewidth\":2},\"yaxis\":{\"gridcolor\":\"white\",\"linecolor\":\"white\",\"ticks\":\"\",\"title\":{\"standoff\":15},\"zerolinecolor\":\"white\",\"automargin\":true,\"zerolinewidth\":2},\"scene\":{\"xaxis\":{\"backgroundcolor\":\"#E5ECF6\",\"gridcolor\":\"white\",\"linecolor\":\"white\",\"showbackground\":true,\"ticks\":\"\",\"zerolinecolor\":\"white\",\"gridwidth\":2},\"yaxis\":{\"backgroundcolor\":\"#E5ECF6\",\"gridcolor\":\"white\",\"linecolor\":\"white\",\"showbackground\":true,\"ticks\":\"\",\"zerolinecolor\":\"white\",\"gridwidth\":2},\"zaxis\":{\"backgroundcolor\":\"#E5ECF6\",\"gridcolor\":\"white\",\"linecolor\":\"white\",\"showbackground\":true,\"ticks\":\"\",\"zerolinecolor\":\"white\",\"gridwidth\":2}},\"shapedefaults\":{\"line\":{\"color\":\"#2a3f5f\"}},\"annotationdefaults\":{\"arrowcolor\":\"#2a3f5f\",\"arrowhead\":0,\"arrowwidth\":1},\"geo\":{\"bgcolor\":\"white\",\"landcolor\":\"#E5ECF6\",\"subunitcolor\":\"white\",\"showland\":true,\"showlakes\":true,\"lakecolor\":\"white\"},\"title\":{\"x\":0.05},\"mapbox\":{\"style\":\"light\"}}},\"paper_bgcolor\":\"rgba(255,255,255,1)\",\"plot_bgcolor\":\"rgba(255,255,255,1)\",\"legend\":{\"yanchor\":\"top\",\"y\":0.69,\"xanchor\":\"right\",\"x\":0.95},\"margin\":{\"l\":50,\"r\":50,\"b\":100,\"t\":100,\"pad\":4},\"autosize\":false,\"width\":600,\"height\":500,\"xaxis\":{\"showline\":true,\"linewidth\":0.005,\"linecolor\":\"black\",\"ticks\":\"outside\",\"range\":[0,50],\"title\":{\"text\":\"Radius     [kpc]\"}},\"yaxis\":{\"showline\":true,\"linewidth\":0.005,\"linecolor\":\"black\",\"ticks\":\"outside\",\"range\":[0,270],\"title\":{\"text\":\"Circular velocity     [km s\\u207b\\u00b9]\"}},\"title\":{\"text\":\"Rotation curve decomposition - NGC 4698\",\"x\":0.2}},                        {\"responsive\": true}                    ).then(function(){\n",
       "                            \n",
       "var gd = document.getElementById('f7419b5d-9cb5-4f41-bc68-cff3a4be6931');\n",
       "var x = new MutationObserver(function (mutations, observer) {{\n",
       "        var display = window.getComputedStyle(gd).display;\n",
       "        if (!display || display === 'none') {{\n",
       "            console.log([gd, 'removed!']);\n",
       "            Plotly.purge(gd);\n",
       "            observer.disconnect();\n",
       "        }}\n",
       "}});\n",
       "\n",
       "// Listen for the removal of the full notebook cells\n",
       "var notebookContainer = gd.closest('#notebook-container');\n",
       "if (notebookContainer) {{\n",
       "    x.observe(notebookContainer, {childList: true});\n",
       "}}\n",
       "\n",
       "// Listen for the clearing of the current output cell\n",
       "var outputEl = gd.closest('.output');\n",
       "if (outputEl) {{\n",
       "    x.observe(outputEl, {childList: true});\n",
       "}}\n",
       "\n",
       "                        })                };                });            </script>        </div>"
      ]
     },
     "metadata": {},
     "output_type": "display_data"
    }
   ],
   "source": [
    "fig = go.Figure()\n",
    "\n",
    "fig.add_trace(go.Scatter(x = radius/kpc,y = velocity/1e5, line=dict(color='black', width=0.7, dash='solid'),\n",
    "                   mode = 'markers',\n",
    "                   marker = dict(symbol = 'circle-dot', size=3, color = 'black'),\n",
    "                   name = 'HI data'))\n",
    "\n",
    "fig.add_trace(go.Scatter(x = radius/kpc, y = fit_curve(R, *popt)/1e5,line=dict(color='black', width=0.8),\n",
    "                   mode = 'lines',\n",
    "                   marker = dict(symbol = 'circle-dot', size=5, color = 'black'),\n",
    "                   name = 'Best fit'))\n",
    "\n",
    "fig.add_trace(go.Scatter(x = radius/kpc, y = bojo/1e5,line=dict(color='rgba(255,165,0, 1)', width=1, dash='dot'),\n",
    "                   mode = 'lines',\n",
    "                   marker = dict(symbol = 'circle-dot', size=3, color = 'rgba(255,165,0, 1)'),\n",
    "                   name = 'Bulge'))\n",
    "\n",
    "fig.add_trace(go.Scatter(x = radius/kpc, y = disk/1e5,line=dict(color='royalblue', width=1, dash='dash'),\n",
    "                   mode = 'lines',\n",
    "                   marker = dict(symbol = 'circle-dot', size=3, color = 'rgba(8, 0, 246, 0.8)'),\n",
    "                   name = 'Disk'))\n",
    "\n",
    "fig.add_trace(go.Scatter(x = radius/kpc, y = halo/1e5,line=dict(color = 'rgba(153, 51, 230, 1.0)', width=1, \n",
    "                   dash='dashdot'), mode = 'lines',\n",
    "                   marker = dict(symbol = 'circle-dot', size=3, color = 'rgba(153, 51, 153, 1.0)'),\n",
    "                   name = 'Halo'))\n",
    "\n",
    "fig.update_layout(paper_bgcolor='rgba(255,255,255,1)', plot_bgcolor='rgba(255,255,255,1)')\n",
    "\n",
    "fig.update_layout(legend=dict(\n",
    "    yanchor=\"top\",\n",
    "    y=0.69,\n",
    "    xanchor=\"right\",\n",
    "    x=0.95),\n",
    "    autosize=False,\n",
    "    width=600,\n",
    "    height=500,\n",
    "    margin=dict(\n",
    "        l=50,\n",
    "        r=50,\n",
    "        b=100,\n",
    "        t=100,\n",
    "        pad=4),\n",
    "    paper_bgcolor='rgba(255,255,255,1)', plot_bgcolor='rgba(255,255,255,1)')\n",
    "\n",
    "fig.update_xaxes(showline=True, linewidth=0.005, linecolor='black',ticks=\"outside\")\n",
    "fig.update_yaxes(showline=True, linewidth=0.005, linecolor='black',ticks=\"outside\")\n",
    "\n",
    "fig.update_layout(title = dict(text = \"Rotation curve decomposition - NGC 4698\",x = .2), \n",
    "                  xaxis = dict(range = [0,50], title = 'Radius     [kpc]'),\n",
    "                  yaxis = dict(range = [0,270], title = 'Circular velocity     [km s⁻¹]'))\n",
    "\n",
    "# with open(\"NGC4579 RC.html\", \"w\") as f:\n",
    "#     f.write(fig.to_html())"
   ]
  },
  {
   "cell_type": "markdown",
   "id": "a2163f2d",
   "metadata": {},
   "source": [
    "Perguntar à Karín:\n",
    "\n",
    "Será que conseguimos desenvolver uma relação entre raio efetivo e scale-lenght pro bojo de galáxias espirais?"
   ]
  },
  {
   "cell_type": "code",
   "execution_count": null,
   "id": "582d4182",
   "metadata": {},
   "outputs": [],
   "source": []
  }
 ],
 "metadata": {
  "kernelspec": {
   "display_name": "Python 3 (ipykernel)",
   "language": "python",
   "name": "python3"
  },
  "language_info": {
   "codemirror_mode": {
    "name": "ipython",
    "version": 3
   },
   "file_extension": ".py",
   "mimetype": "text/x-python",
   "name": "python",
   "nbconvert_exporter": "python",
   "pygments_lexer": "ipython3",
   "version": "3.10.4"
  }
 },
 "nbformat": 4,
 "nbformat_minor": 5
}
