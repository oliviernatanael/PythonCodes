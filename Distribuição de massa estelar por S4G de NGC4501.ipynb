{
 "cells": [
  {
   "cell_type": "code",
   "execution_count": 2,
   "id": "cffe5bc4",
   "metadata": {},
   "outputs": [],
   "source": [
    "from astropy.io import fits\n",
    "from astropy.cosmology import WMAP9 as cosmo\n",
    "import math\n",
    "import plotly.express as px\n",
    "import plotly.graph_objs as go\n",
    "import matplotlib.pyplot as plt\n",
    "import plotly\n",
    "from plotly.offline import plot, iplot, init_notebook_mode\n",
    "import numpy as np"
   ]
  },
  {
   "cell_type": "markdown",
   "id": "d3a3373f",
   "metadata": {},
   "source": [
    "# 3.6 micrômetros"
   ]
  },
  {
   "cell_type": "code",
   "execution_count": 3,
   "id": "c3cae5c2",
   "metadata": {
    "scrolled": false
   },
   "outputs": [
    {
     "name": "stdout",
     "output_type": "stream",
     "text": [
      "Filename: NGC4501.phot.1.fits\n",
      "No.    Name      Ver    Type      Cards   Dimensions   Format\n",
      "  0  PRIMARY       1 PrimaryHDU    2663   (1347, 1624)   float32   \n"
     ]
    }
   ],
   "source": [
    "#Abre o mapa de fluxo em 3.6 mícrons\n",
    "hdu_list = fits.open('NGC4501.phot.1.fits')\n",
    "hdu_list.info()"
   ]
  },
  {
   "cell_type": "code",
   "execution_count": 4,
   "id": "4229bff0",
   "metadata": {},
   "outputs": [
    {
     "data": {
      "text/plain": [
       "array([[nan, nan, nan, ..., nan, nan, nan],\n",
       "       [nan, nan, nan, ..., nan, nan, nan],\n",
       "       [nan, nan, nan, ..., nan, nan, nan],\n",
       "       ...,\n",
       "       [nan, nan, nan, ..., nan, nan, nan],\n",
       "       [nan, nan, nan, ..., nan, nan, nan],\n",
       "       [nan, nan, nan, ..., nan, nan, nan]], dtype=float32)"
      ]
     },
     "execution_count": 4,
     "metadata": {},
     "output_type": "execute_result"
    }
   ],
   "source": [
    "image_data = hdu_list[0].data\n",
    "fluxmap1 = image_data\n",
    "fluxmap1"
   ]
  },
  {
   "cell_type": "code",
   "execution_count": 5,
   "id": "c465dcbc",
   "metadata": {},
   "outputs": [],
   "source": [
    "# transformando o mapa de fluxo pra jansky: MJy --> Jy: 10^6\n",
    "fluxmap3_6 = []\n",
    "for i in range(len(image_data)):\n",
    "    fluxmap3_6.append((image_data[i]-0.0433121))\n",
    "\n",
    "fluxmap3_6final = []\n",
    "for i in range(len(fluxmap3_6)):\n",
    "    fluxmap3_6final.append(fluxmap3_6[i]*10**6*((0.75/206265)**2))"
   ]
  },
  {
   "cell_type": "code",
   "execution_count": 6,
   "id": "d3fe9717",
   "metadata": {},
   "outputs": [],
   "source": [
    "centrox = 730\n",
    "centroy = 549\n",
    "center = (centrox,centroy)"
   ]
  },
  {
   "cell_type": "code",
   "execution_count": 7,
   "id": "b5df0a13",
   "metadata": {},
   "outputs": [
    {
     "data": {
      "text/plain": [
       "28.01895533"
      ]
     },
     "execution_count": 7,
     "metadata": {},
     "output_type": "execute_result"
    }
   ],
   "source": [
    "# Lista de raios\n",
    "raios = np.array([ 0.15829918,  1.89959019,  3.6408812 ,  5.38217221,  7.12346322,\n",
    "        8.86475423, 10.60604524, 12.34733625, 14.08862726, 15.82991827,\n",
    "       17.57120928, 19.31250029, 21.0537913 , 22.79508231, 24.53637332,\n",
    "       26.27766432, 28.01895533, 29.76024634, 31.50153735, 33.24282836,\n",
    "       34.98411937, 36.72541038, 38.46670139, 40.2079924 , 41.94928341,\n",
    "       43.69057442, 45.43186543, 47.17315644])\n",
    "\n",
    "raios[16] # último raio considerado pro plot de massa estelar"
   ]
  },
  {
   "cell_type": "code",
   "execution_count": 8,
   "id": "8b713cf7",
   "metadata": {},
   "outputs": [
    {
     "data": {
      "text/plain": [
       "3.0815882352941175"
      ]
     },
     "execution_count": 8,
     "metadata": {},
     "output_type": "execute_result"
    }
   ],
   "source": [
    "diametropixel = 0.085993765\n",
    "r = 0.26499737453264705/diametropixel\n",
    "r"
   ]
  },
  {
   "cell_type": "code",
   "execution_count": 9,
   "id": "0dab9de1",
   "metadata": {},
   "outputs": [],
   "source": [
    "# r = 10 #83 é o raio da galáxia em pixels (a galáxia tem 166 pixels de diâmetro, com centro em (528,967))\n",
    "a, b = centrox,centroy\n",
    "#Parameter equation\n",
    "\n",
    "theta = np.arange(0, 2*np.pi, 0.01)\n",
    "x = centrox + r * np.cos(theta)\n",
    "y = centroy + r * np.sin(theta)"
   ]
  },
  {
   "cell_type": "code",
   "execution_count": 10,
   "id": "8c5562f8",
   "metadata": {},
   "outputs": [
    {
     "name": "stdout",
     "output_type": "stream",
     "text": [
      "0.02001181394240268\n"
     ]
    }
   ],
   "source": [
    "fluxo3_6 = []\n",
    "for u in range(1347):\n",
    "    for k in range(1624):\n",
    "        if((u-centrox)**2 + (k-centroy)**2 <= r**2):\n",
    "            fluxo3_6.append(fluxmap3_6final[k][u])\n",
    "            \n",
    "fluxototal3_6 = math.fsum(fluxo3_6)\n",
    "print(fluxototal3_6)"
   ]
  },
  {
   "cell_type": "code",
   "execution_count": null,
   "id": "15cd9b6d",
   "metadata": {},
   "outputs": [],
   "source": []
  },
  {
   "cell_type": "code",
   "execution_count": null,
   "id": "8fb77987",
   "metadata": {},
   "outputs": [],
   "source": []
  },
  {
   "cell_type": "code",
   "execution_count": null,
   "id": "3a481070",
   "metadata": {},
   "outputs": [],
   "source": []
  },
  {
   "cell_type": "markdown",
   "id": "f84f64b3",
   "metadata": {},
   "source": [
    "# 4.5 micrômetros"
   ]
  },
  {
   "cell_type": "code",
   "execution_count": 12,
   "id": "5ab0aaa0",
   "metadata": {},
   "outputs": [
    {
     "name": "stdout",
     "output_type": "stream",
     "text": [
      "Filename: NGC4501.phot.2.fits\n",
      "No.    Name      Ver    Type      Cards   Dimensions   Format\n",
      "  0  PRIMARY       1 PrimaryHDU    2663   (1345, 1620)   float32   \n"
     ]
    }
   ],
   "source": [
    "#Abre o mapa de fluxo em 4.5 mícrons\n",
    "hdu_list = fits.open('NGC4501.phot.2.fits')\n",
    "hdu_list.info()"
   ]
  },
  {
   "cell_type": "code",
   "execution_count": 13,
   "id": "36ff079e",
   "metadata": {},
   "outputs": [
    {
     "data": {
      "text/plain": [
       "array([[nan, nan, nan, ..., nan, nan, nan],\n",
       "       [nan, nan, nan, ..., nan, nan, nan],\n",
       "       [nan, nan, nan, ..., nan, nan, nan],\n",
       "       ...,\n",
       "       [nan, nan, nan, ..., nan, nan, nan],\n",
       "       [nan, nan, nan, ..., nan, nan, nan],\n",
       "       [nan, nan, nan, ..., nan, nan, nan]], dtype=float32)"
      ]
     },
     "execution_count": 13,
     "metadata": {},
     "output_type": "execute_result"
    }
   ],
   "source": [
    "image_data = hdu_list[0].data\n",
    "fluxmap2 = image_data\n",
    "fluxmap2"
   ]
  },
  {
   "cell_type": "code",
   "execution_count": 14,
   "id": "3224b34e",
   "metadata": {},
   "outputs": [],
   "source": [
    "# transformando o mapa de fluxo pra jansky: MJy --> Jy: 10^6\n",
    "fluxmap4_5 = []\n",
    "for i in range(len(image_data)):\n",
    "    fluxmap4_5.append((image_data[i]-0.0527009))\n",
    "\n",
    "fluxmap4_5final = []\n",
    "for i in range(len(fluxmap4_5)):\n",
    "    fluxmap4_5final.append(fluxmap4_5[i]*10**6*((0.75/206265)**2))"
   ]
  },
  {
   "cell_type": "code",
   "execution_count": 15,
   "id": "f57560b0",
   "metadata": {},
   "outputs": [],
   "source": [
    "centrox = 599\n",
    "centroy = 1076\n",
    "center = (centrox,centroy)"
   ]
  },
  {
   "cell_type": "code",
   "execution_count": 16,
   "id": "201dc4e6",
   "metadata": {},
   "outputs": [
    {
     "name": "stdout",
     "output_type": "stream",
     "text": [
      "0.012360689897333358\n"
     ]
    }
   ],
   "source": [
    "fluxo4_5 = []\n",
    "for u in range(1346):\n",
    "    for k in range(1620):\n",
    "        if((u-centrox)**2 + (k-centroy)**2 <= r**2):\n",
    "            fluxo4_5.append(fluxmap4_5final[k][u])\n",
    "            \n",
    "fluxototal4_5 = math.fsum(fluxo4_5)\n",
    "print(fluxototal4_5)"
   ]
  },
  {
   "cell_type": "code",
   "execution_count": null,
   "id": "80f1d0ec",
   "metadata": {},
   "outputs": [],
   "source": []
  },
  {
   "cell_type": "markdown",
   "id": "504a3d67",
   "metadata": {},
   "source": [
    "# Fluxos nos raios correspondentes aos pontos observacionais de HI de VIVA"
   ]
  },
  {
   "cell_type": "markdown",
   "id": "8f9de138",
   "metadata": {},
   "source": [
    "Equação pra calcular a massa:"
   ]
  },
  {
   "cell_type": "markdown",
   "id": "d976f483",
   "metadata": {},
   "source": [
    "$$Massa\\,\\,(r) = 10^{5.65}\\cdot Fluxo_{3.6 \\mu m}^{2.85} \\cdot Fluxo_{4.5 \\mu m}^{-1.85}\\cdot \\left(\\frac{Distância}{0.05}\\right)^2 $$"
   ]
  },
  {
   "cell_type": "code",
   "execution_count": 17,
   "id": "4a843f58",
   "metadata": {},
   "outputs": [
    {
     "data": {
      "text/plain": [
       "4124224688.005074"
      ]
     },
     "execution_count": 17,
     "metadata": {},
     "output_type": "execute_result"
    }
   ],
   "source": [
    "massa_r = (10**(5.65))*((fluxototal3_6)**(2.85))*((fluxototal4_5)**(-1.85))*((21.74940951004901/0.05)**2)\n",
    "# Fluxo em Jy; Massa (r) em massas solares; Distância em Mpc\n",
    "massa_r"
   ]
  },
  {
   "cell_type": "code",
   "execution_count": 16,
   "id": "eef6ebac",
   "metadata": {},
   "outputs": [
    {
     "data": {
      "text/plain": [
       "17"
      ]
     },
     "execution_count": 16,
     "metadata": {},
     "output_type": "execute_result"
    }
   ],
   "source": [
    "Massas = np.array([1506138982.9295492,39953883981.02126,\n",
    "                   80742048829.24217,118915615636.5763,\n",
    "                   148417648671.69058,170894927823.7103,\n",
    "                   187637915451.97314,201035965711.05997,\n",
    "                   210961680182.84366,217221121334.14322,\n",
    "                   221650684252.26855,224614764471.17316,\n",
    "                   226466315262.20654,227846581086.53265,\n",
    "                   228628591706.5984,229141087980.39804,\n",
    "                   229348245086.7581])\n",
    "\n",
    "len(Massas)"
   ]
  },
  {
   "cell_type": "code",
   "execution_count": 17,
   "id": "4e4d1b06",
   "metadata": {},
   "outputs": [
    {
     "name": "stderr",
     "output_type": "stream",
     "text": [
      "No artists with labels found to put in legend.  Note that artists whose label start with an underscore are ignored when legend() is called with no argument.\n"
     ]
    },
    {
     "data": {
      "image/png": "[encoded data removed]",
      "text/plain": [
       "<Figure size 576x360 with 1 Axes>"
      ]
     },
     "metadata": {
      "needs_background": "light"
     },
     "output_type": "display_data"
    }
   ],
   "source": [
    "# Plotando as curvas\n",
    "\n",
    "fig, ax = plt.subplots()\n",
    "plt.plot(raios[0:17],Massas,\"-\",linewidth=0.5,color=\"#000000\")\n",
    "plt.gcf().set_size_inches(8, 5)\n",
    "plt.xlabel(\"Radius   [kpc]\",fontsize = 14)\n",
    "plt.yscale(\"log\")\n",
    "plt.ylabel('Mass   [$M_\\star/M_{sun}$]',fontsize=14)\n",
    "plt.yscale(\"log\")\n",
    "# plt.xticks([0,100])\n",
    "# plt.grid(True)\n",
    "plt.legend(loc=\"lower right\",frameon=False)\n",
    "\n",
    "plt.show()"
   ]
  },
  {
   "cell_type": "code",
   "execution_count": 18,
   "id": "644fe5ba",
   "metadata": {},
   "outputs": [],
   "source": [
    "mass = []\n",
    "\n",
    "for i in range(len(Massas)-1):\n",
    "    mass.append(Massas[i+1]-Massas[i])\n",
    "    \n",
    "mass = np.array(mass)\n",
    "\n",
    "mass = np.insert(mass, 0, Massas[0], axis=None)"
   ]
  },
  {
   "cell_type": "code",
   "execution_count": 19,
   "id": "824914f2",
   "metadata": {},
   "outputs": [
    {
     "data": {
      "image/png": "[encoded data removed]",
      "text/plain": [
       "<Figure size 504x360 with 1 Axes>"
      ]
     },
     "metadata": {
      "needs_background": "light"
     },
     "output_type": "display_data"
    }
   ],
   "source": [
    "plt.figure(figsize=(7,5))\n",
    "\n",
    "plt.bar(raios[0:17],mass,color=\"blue\",alpha=0.5,label='Massa estelar de S4G')\n",
    "plt.yscale(\"log\")\n",
    "plt.legend(frameon=False,fontsize=13)              \n",
    "\n",
    "plt.show()"
   ]
  },
  {
   "cell_type": "code",
   "execution_count": 20,
   "id": "4e39d41d",
   "metadata": {},
   "outputs": [
    {
     "data": {
      "text/plain": [
       "array([1.50613898e+09, 3.84477450e+10, 4.07881648e+10, 3.81735668e+10,\n",
       "       2.95020330e+10, 2.24772792e+10, 1.67429876e+10, 1.33980503e+10,\n",
       "       9.92571447e+09, 6.25944115e+09, 4.42956292e+09, 2.96408022e+09,\n",
       "       1.85155079e+09, 1.38026582e+09, 7.82010620e+08, 5.12496274e+08,\n",
       "       2.07157106e+08])"
      ]
     },
     "execution_count": 20,
     "metadata": {},
     "output_type": "execute_result"
    }
   ],
   "source": [
    "mass"
   ]
  },
  {
   "cell_type": "code",
   "execution_count": null,
   "id": "ec450066",
   "metadata": {},
   "outputs": [],
   "source": []
  }
 ],
 "metadata": {
  "kernelspec": {
   "display_name": "Python 3 (ipykernel)",
   "language": "python",
   "name": "python3"
  },
  "language_info": {
   "codemirror_mode": {
    "name": "ipython",
    "version": 3
   },
   "file_extension": ".py",
   "mimetype": "text/x-python",
   "name": "python",
   "nbconvert_exporter": "python",
   "pygments_lexer": "ipython3",
   "version": "3.9.7"
  }
 },
 "nbformat": 4,
 "nbformat_minor": 5
}
