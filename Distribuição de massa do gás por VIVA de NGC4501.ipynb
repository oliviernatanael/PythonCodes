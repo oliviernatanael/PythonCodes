{
 "cells": [
  {
   "cell_type": "code",
   "execution_count": 1,
   "id": "cffe5bc4",
   "metadata": {},
   "outputs": [],
   "source": [
    "from astropy.io import fits\n",
    "from astropy.cosmology import WMAP9 as cosmo\n",
    "import math\n",
    "import plotly.express as px\n",
    "import plotly.graph_objs as go\n",
    "import matplotlib.pyplot as plt\n",
    "import plotly\n",
    "from plotly.offline import plot, iplot, init_notebook_mode\n",
    "import numpy as np"
   ]
  },
  {
   "cell_type": "markdown",
   "id": "d3a3373f",
   "metadata": {},
   "source": [
    "# 3.6 micrômetros"
   ]
  },
  {
   "cell_type": "code",
   "execution_count": 2,
   "id": "c3cae5c2",
   "metadata": {
    "scrolled": false
   },
   "outputs": [
    {
     "name": "stdout",
     "output_type": "stream",
     "text": [
      "Filename: ngc4501.mom0.fits\n",
      "No.    Name      Ver    Type      Cards   Dimensions   Format\n",
      "  0  PRIMARY       1 PrimaryHDU     275   (246, 246)   int16 (rescales to float32)   \n"
     ]
    }
   ],
   "source": [
    "#Abre o mapa de fluxo em 3.6 mícrons\n",
    "hdu_list = fits.open('ngc4501.mom0.fits')\n",
    "hdu_list.info()"
   ]
  },
  {
   "cell_type": "code",
   "execution_count": 3,
   "id": "4229bff0",
   "metadata": {},
   "outputs": [
    {
     "data": {
      "text/plain": [
       "array([[-2.682209e-06, -2.682209e-06, -2.682209e-06, ..., -2.682209e-06,\n",
       "        -2.682209e-06, -2.682209e-06],\n",
       "       [-2.682209e-06, -2.682209e-06, -2.682209e-06, ..., -2.682209e-06,\n",
       "        -2.682209e-06, -2.682209e-06],\n",
       "       [-2.682209e-06, -2.682209e-06, -2.682209e-06, ..., -2.682209e-06,\n",
       "        -2.682209e-06, -2.682209e-06],\n",
       "       ...,\n",
       "       [-2.682209e-06, -2.682209e-06, -2.682209e-06, ..., -2.682209e-06,\n",
       "        -2.682209e-06, -2.682209e-06],\n",
       "       [-2.682209e-06, -2.682209e-06, -2.682209e-06, ..., -2.682209e-06,\n",
       "        -2.682209e-06, -2.682209e-06],\n",
       "       [-2.682209e-06, -2.682209e-06, -2.682209e-06, ..., -2.682209e-06,\n",
       "        -2.682209e-06, -2.682209e-06]], dtype=float32)"
      ]
     },
     "execution_count": 3,
     "metadata": {},
     "output_type": "execute_result"
    }
   ],
   "source": [
    "image_data = hdu_list[0].data\n",
    "fluxmap1 = image_data\n",
    "fluxmap1"
   ]
  },
  {
   "cell_type": "code",
   "execution_count": 4,
   "id": "c465dcbc",
   "metadata": {},
   "outputs": [],
   "source": [
    "# # transformando o mapa de fluxo pra jansky: MJy --> Jy: 10^6\n",
    "# fluxmap3_6 = []\n",
    "# for i in range(len(image_data)):\n",
    "#     fluxmap3_6.append((image_data[i]))\n",
    "\n",
    "# fluxmap3_6final = []\n",
    "# for i in range(len(fluxmap3_6)):\n",
    "#     fluxmap3_6final.append(fluxmap3_6[i]*((0.75/206265)**2))"
   ]
  },
  {
   "cell_type": "code",
   "execution_count": 5,
   "id": "d3fe9717",
   "metadata": {},
   "outputs": [],
   "source": [
    "centrox = 122.70556\n",
    "centroy = 124.68909\n",
    "center = (centrox,centroy)"
   ]
  },
  {
   "cell_type": "code",
   "execution_count": 6,
   "id": "b5df0a13",
   "metadata": {},
   "outputs": [
    {
     "data": {
      "text/plain": [
       "29.76024634"
      ]
     },
     "execution_count": 6,
     "metadata": {},
     "output_type": "execute_result"
    }
   ],
   "source": [
    "# Lista de raios\n",
    "raios = np.array([ 0.15829918,  1.89959019,  3.6408812 ,  5.38217221,  7.12346322,\n",
    "        8.86475423, 10.60604524, 12.34733625, 14.08862726, 15.82991827,\n",
    "       17.57120928, 19.31250029, 21.0537913 , 22.79508231, 24.53637332,\n",
    "       26.27766432, 28.01895533, 29.76024634, 31.50153735, 33.24282836,\n",
    "       34.98411937, 36.72541038, 38.46670139, 40.2079924 , 41.94928341,\n",
    "       43.69057442, 45.43186543, 47.17315644])\n",
    "\n",
    "raios[17] # último raio considerado pro plot de massa estelar"
   ]
  },
  {
   "cell_type": "code",
   "execution_count": 7,
   "id": "8b713cf7",
   "metadata": {},
   "outputs": [
    {
     "data": {
      "text/plain": [
       "29.80000000086733"
      ]
     },
     "execution_count": 7,
     "metadata": {},
     "output_type": "execute_result"
    }
   ],
   "source": [
    "diametropixel = 1.5829918267995646\n",
    "r = raios[27]/diametropixel\n",
    "r"
   ]
  },
  {
   "cell_type": "code",
   "execution_count": 8,
   "id": "0dab9de1",
   "metadata": {},
   "outputs": [],
   "source": [
    "# r = 10 #83 é o raio da galáxia em pixels (a galáxia tem 166 pixels de diâmetro, com centro em (528,967))\n",
    "a, b = centrox,centroy\n",
    "#Parameter equation\n",
    "\n",
    "theta = np.arange(0, 2*np.pi, 0.01)\n",
    "x = centrox + r * np.cos(theta)\n",
    "y = centroy + r * np.sin(theta)"
   ]
  },
  {
   "cell_type": "code",
   "execution_count": 9,
   "id": "8c5562f8",
   "metadata": {},
   "outputs": [
    {
     "name": "stdout",
     "output_type": "stream",
     "text": [
      "320.6554115563631\n"
     ]
    }
   ],
   "source": [
    "fluxo3_6 = []\n",
    "for u in range(246):\n",
    "    for k in range(246):\n",
    "        if((u-centrox)**2 + (k-centroy)**2 <= r**2):\n",
    "            fluxo3_6.append(fluxmap1[k][u])\n",
    "            \n",
    "fluxototal3_6 = math.fsum(fluxo3_6)\n",
    "print(fluxototal3_6)"
   ]
  },
  {
   "cell_type": "code",
   "execution_count": null,
   "id": "80f1d0ec",
   "metadata": {},
   "outputs": [],
   "source": []
  },
  {
   "cell_type": "markdown",
   "id": "504a3d67",
   "metadata": {},
   "source": [
    "# Fluxos nos raios correspondentes aos pontos observacionais de HI de VIVA"
   ]
  },
  {
   "cell_type": "markdown",
   "id": "8f9de138",
   "metadata": {},
   "source": [
    " Equação pra calcular a massa:"
   ]
  },
  {
   "cell_type": "markdown",
   "id": "d976f483",
   "metadata": {},
   "source": [
    "$$Massa\\,\\,(r) = 10^{5.65}\\cdot Fluxo_{3.6 \\mu m}^{2.85} \\cdot Fluxo_{4.5 \\mu m}^{-1.85}\\cdot \\left(\\frac{Distância}{0.05}\\right)^2 $$"
   ]
  },
  {
   "cell_type": "code",
   "execution_count": 10,
   "id": "4a843f58",
   "metadata": {},
   "outputs": [
    {
     "data": {
      "text/plain": [
       "35796908171.4874"
      ]
     },
     "execution_count": 10,
     "metadata": {},
     "output_type": "execute_result"
    }
   ],
   "source": [
    "massa_r = (0.236)*(fluxototal3_6)*(21.74940951004901*1000)**2\n",
    "# Fluxo em Jy; Massa (r) em massas solares; Distância em Mpc\n",
    "massa_r"
   ]
  },
  {
   "cell_type": "code",
   "execution_count": 11,
   "id": "eef6ebac",
   "metadata": {},
   "outputs": [
    {
     "data": {
      "text/plain": [
       "28"
      ]
     },
     "execution_count": 11,
     "metadata": {},
     "output_type": "execute_result"
    }
   ],
   "source": [
    "Massas_HI = np.array([0,7413234.084599547,68099036.77098705,\n",
    "                      275654013.97328436,738119371.2940755,\n",
    "                      1538381316.428353,2726777110.223207,\n",
    "                      4418867343.003464,6244173516.914616,\n",
    "                      8337692397.21363,10414285009.29681,\n",
    "                      12359003623.864325,14337284111.990116,\n",
    "                      16340266850.440903,18427697959.814716,\n",
    "                      20433546980.075485,22414642892.9914,\n",
    "                      24389486925.773594,26375780014.564884,\n",
    "                      28121410540.594276,29917541493.46554,\n",
    "                      31320765089.455276,32464447357.12414,\n",
    "                      33435729224.87249,34174775938.291126,\n",
    "                      34829204948.13708,35359933205.23696,\n",
    "                      35796908171.4874])\n",
    "\n",
    "len(Massas_HI)"
   ]
  },
  {
   "cell_type": "code",
   "execution_count": null,
   "id": "c281e162",
   "metadata": {},
   "outputs": [],
   "source": []
  },
  {
   "cell_type": "code",
   "execution_count": 12,
   "id": "8fabc890",
   "metadata": {},
   "outputs": [
    {
     "data": {
      "text/plain": [
       "10.553845517648105"
      ]
     },
     "execution_count": 12,
     "metadata": {},
     "output_type": "execute_result"
    }
   ],
   "source": [
    "np.log10(35796908171.4874)"
   ]
  },
  {
   "cell_type": "code",
   "execution_count": 13,
   "id": "4e4d1b06",
   "metadata": {},
   "outputs": [
    {
     "name": "stderr",
     "output_type": "stream",
     "text": [
      "No artists with labels found to put in legend.  Note that artists whose label start with an underscore are ignored when legend() is called with no argument.\n"
     ]
    },
    {
     "data": {
      "image/png": "[encoded data removed]",
      "text/plain": [
       "<Figure size 576x360 with 1 Axes>"
      ]
     },
     "metadata": {
      "needs_background": "light"
     },
     "output_type": "display_data"
    }
   ],
   "source": [
    "# Plotando as curvas\n",
    "\n",
    "fig, ax = plt.subplots()\n",
    "plt.plot(raios[0:28],Massas_HI,\"-\",linewidth=0.5,color=\"#000000\")\n",
    "plt.gcf().set_size_inches(8, 5)\n",
    "plt.xlabel(\"Radius   [kpc]\",fontsize = 14)\n",
    "plt.yscale(\"log\")\n",
    "plt.ylabel('Mass   [$M_\\star/M_{sun}$]',fontsize=14)\n",
    "plt.yscale(\"log\")\n",
    "# plt.xticks([0,100])\n",
    "# plt.grid(True)\n",
    "plt.legend(loc=\"lower right\",frameon=False)\n",
    "\n",
    "plt.show()"
   ]
  },
  {
   "cell_type": "code",
   "execution_count": 14,
   "id": "644fe5ba",
   "metadata": {},
   "outputs": [],
   "source": [
    "mass = []\n",
    "\n",
    "for i in range(len(Massas_HI)-1):\n",
    "    mass.append(Massas_HI[i+1]-Massas_HI[i])\n",
    "    \n",
    "mass = np.array(mass)\n",
    "\n",
    "mass = np.insert(mass, 0, Massas_HI[0], axis=None)"
   ]
  },
  {
   "cell_type": "code",
   "execution_count": 15,
   "id": "824914f2",
   "metadata": {},
   "outputs": [
    {
     "data": {
      "image/png": "[encoded data removed]",
      "text/plain": [
       "<Figure size 504x360 with 1 Axes>"
      ]
     },
     "metadata": {
      "needs_background": "light"
     },
     "output_type": "display_data"
    }
   ],
   "source": [
    "plt.figure(figsize=(7,5))\n",
    "\n",
    "plt.bar(raios[0:28],mass,color=\"blue\",alpha=0.5,label='Massa de HI de VIVA')\n",
    "plt.yscale(\"log\")\n",
    "plt.legend(frameon=False,fontsize=13)              \n",
    "\n",
    "plt.show()"
   ]
  },
  {
   "cell_type": "code",
   "execution_count": 16,
   "id": "4e39d41d",
   "metadata": {},
   "outputs": [
    {
     "data": {
      "text/plain": [
       "array([0.00000000e+00, 7.41323408e+06, 6.06858027e+07, 2.07554977e+08,\n",
       "       4.62465357e+08, 8.00261945e+08, 1.18839579e+09, 1.69209023e+09,\n",
       "       1.82530617e+09, 2.09351888e+09, 2.07659261e+09, 1.94471861e+09,\n",
       "       1.97828049e+09, 2.00298274e+09, 2.08743111e+09, 2.00584902e+09,\n",
       "       1.98109591e+09, 1.97484403e+09, 1.98629309e+09, 1.74563053e+09,\n",
       "       1.79613095e+09, 1.40322360e+09, 1.14368227e+09, 9.71281868e+08,\n",
       "       7.39046713e+08, 6.54429010e+08, 5.30728257e+08, 4.36974966e+08])"
      ]
     },
     "execution_count": 16,
     "metadata": {},
     "output_type": "execute_result"
    }
   ],
   "source": [
    "mass"
   ]
  },
  {
   "cell_type": "code",
   "execution_count": null,
   "id": "ec450066",
   "metadata": {},
   "outputs": [],
   "source": []
  }
 ],
 "metadata": {
  "kernelspec": {
   "display_name": "Python 3 (ipykernel)",
   "language": "python",
   "name": "python3"
  },
  "language_info": {
   "codemirror_mode": {
    "name": "ipython",
    "version": 3
   },
   "file_extension": ".py",
   "mimetype": "text/x-python",
   "name": "python",
   "nbconvert_exporter": "python",
   "pygments_lexer": "ipython3",
   "version": "3.9.7"
  }
 },
 "nbformat": 4,
 "nbformat_minor": 5
}
